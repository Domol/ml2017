{
 "cells": [
  {
   "cell_type": "markdown",
   "metadata": {},
   "source": [
    "# L11 - Uczenie reprezentacji\n",
    "\n",
    "Ref:\n",
    "* (Repr. Learning, review) http://www.cl.uni-heidelberg.de/courses/ws14/deepl/BengioETAL12.pdf\n",
    "* (Deep Learning book, ch. 15) http://www.deeplearningbook.org/\n",
    "* Isomap\n",
    "* LLE\n",
    "* C-Isomap\n",
    "* Blog post o wektorkach"
   ]
  },
  {
   "cell_type": "markdown",
   "metadata": {},
   "source": [
    "# Idea - odwracanie funkcji\n",
    "\n",
    "Cytat z pracy Isomap"
   ]
  },
  {
   "cell_type": "markdown",
   "metadata": {},
   "source": [
    "## Datasets\n",
    "\n",
    "* Swissroll\n",
    "\n",
    "* MNIST\n",
    "\n",
    "* Fishbowl"
   ]
  },
  {
   "cell_type": "markdown",
   "metadata": {},
   "source": [
    "## PCA oraz MDS\n",
    "\n",
    "Wspomnieć o odwracaniu"
   ]
  },
  {
   "cell_type": "markdown",
   "metadata": {},
   "source": [
    "## Isomap oraz LLE"
   ]
  },
  {
   "cell_type": "markdown",
   "metadata": {},
   "source": [
    "## t-SNE"
   ]
  },
  {
   "cell_type": "markdown",
   "metadata": {},
   "source": [
    "## Autoenkoder"
   ]
  },
  {
   "cell_type": "markdown",
   "metadata": {},
   "source": [
    "## O czym nie wspominamy\n",
    "\n",
    "* Metody klastrowania (w szczególności spectral clustering)\n",
    "* kernel PCA"
   ]
  },
  {
   "cell_type": "markdown",
   "metadata": {},
   "source": [
    "## Algebra na reprezentacji"
   ]
  },
  {
   "cell_type": "markdown",
   "metadata": {},
   "source": [
    "## Zadanie [3 pkt]\n",
    "\n",
    "Wygeneruj cyfry pomiędzy 2 a 5 za pomocą:\n",
    "\n",
    "* PCA\n",
    "* Autoenkodera (o podanej architekturze)\n",
    "\n",
    "Wyjaśnij różnice pomiędzy wynikami (podpowiedź: porównaj wyniki metod na datasecie \"swissroll\")\n",
    "\n",
    "\n",
    "[TODO: Obrazek z interpolacji]"
   ]
  }
 ],
 "metadata": {
  "kernelspec": {
   "display_name": "Python 2",
   "language": "python",
   "name": "python2"
  },
  "language_info": {
   "codemirror_mode": {
    "name": "ipython",
    "version": 2
   },
   "file_extension": ".py",
   "mimetype": "text/x-python",
   "name": "python",
   "nbconvert_exporter": "python",
   "pygments_lexer": "ipython2",
   "version": "2.7.11"
  },
  "toc": {
   "toc_cell": false,
   "toc_number_sections": true,
   "toc_threshold": 6,
   "toc_window_display": false
  }
 },
 "nbformat": 4,
 "nbformat_minor": 0
}
