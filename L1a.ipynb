{
 "cells": [
  {
   "cell_type": "markdown",
   "metadata": {},
   "source": [
    "# Zasady zaliczenia"
   ]
  },
  {
   "cell_type": "markdown",
   "metadata": {},
   "source": [
    "* Na kazdych zajeciach notebook do oddania do konca zajec T+1 (mailowo jako pdf, lub link do repozytorium na githubie), lub za polowe punktow do konca zajęć T+2\n",
    "\n",
    "* Ocena z ćwiczeń na podstawie typowych progów 90%, 80%, etc.\n",
    "\n",
    "* 2 nieobecnośći"
   ]
  },
  {
   "cell_type": "markdown",
   "metadata": {},
   "source": [
    "# Praktyczny Machine Learning w Pythonie\n",
    "\n",
    "Cel: \n",
    "\n",
    "1. zobaczyc jak w praktyce uzywa sie machine learningu w wielu firmach. Potem bedzie duzo mniej praktyki :)\n",
    "\n",
    "2. zapoznanie z pakietami scikit-learn, numpy, matplotlib z zastosowaniem do rozpoznawania cyfr. Konkurs pod koniec: jeszcze więcej rozpoznawania cyfr:)\n",
    "\n",
    "(Tak, to nie jest tak ze wielkie firmy uzywaja duzo trudniejszych modeli niż to co Państwo poznają na tych zajęciach, niestety)\n",
    "\n",
    "Następne zajęcia: teoria za regresją logistyczną, którą omówimy dzisiaj\n",
    "\n",
    "<br>\n",
    "<img src=\"figures/L1/python-comic-2.png\">\n",
    "\n",
    "## Przydatne pakiety\n",
    "\n",
    "Python to język wysokiego poziomu z ogromną ilością pakietów. \n",
    "\n",
    "Najpierw skupimy się na tym jak w praktyczny sposób wykorzystać pakiet scikit-learn do rozwiązywania problemów machine learningowych, które mogą się pojawić przy okazji inych projektów. Scikit-learn jest używany w takich firmach jak Microsoft, Evernote czy Spotify. Zawdzięcza to świetnemu API, dobrej wydajności i bardzo aktywnej społeczności.\n",
    "\n",
    "Uwaga: nie uczymy pythona, ale mam nadzieję, że składnia jest intuicyjna\n",
    "\n",
    "W tej części poznamy przydatne pakiety i narzędzia, które obecnie stanowią podstawę machine learningu w Pythonie:  IPython Notebook, numpy oraz matplolib.\n",
    "\n",
    "Pakietów jest duzo więcej: Scipy, Pandas, Sympy, PyTables, Cython, Blaze, NLTK i inne. Większość z nich jest dostępna w Anacondzie."
   ]
  },
  {
   "cell_type": "markdown",
   "metadata": {},
   "source": [
    "##  IPython Notebook\n",
    "\n",
    "* \"Mathematicowy\" notebook - możliwość ewaluacji komórek, podpowiadanie składni (tab) i inne\n",
    "* Właśnie go używamy :)\n",
    "* Dużo magicznych rzeczy (wyświetlanie wykresów, równoległe obliczenia)\n",
    "* Bardzo wygodne do zdalnego odpalania kodu na swoim serwerze\n",
    "* ctrl + enter - odpal kod w komórce\n",
    "* ctrl + m + b - wstaw komórke poniżej (w command mode wystarczy b)\n",
    "* Inne przydatne skróty pod ctrl + m + h (lub w Help -> Keyboard Shortcuts).\n",
    "* Alternatywą jest collaboratory (nastawiony na jednoczesną pracę nad jednym notebooiem)"
   ]
  },
  {
   "cell_type": "markdown",
   "metadata": {},
   "source": [
    "## Numpy\n",
    "* Wygodne operacje na macierzach, wektorach itp.\n",
    "* Podstawa praktycznie wszystkich pakietów machine learning\n",
    "* Pod spodem wydajny kod C, BLAS (można podpiąć np. szybszy OpenBLAS). \n",
    "\n",
    "Zamiast teorii spróbujmy zrobić pare rzeczy w numpy"
   ]
  },
  {
   "cell_type": "code",
   "execution_count": null,
   "metadata": {
    "collapsed": false
   },
   "outputs": [
    {
     "name": "stdout",
     "output_type": "stream",
     "text": [
      "a:  [1 2 3 4]\n",
      "Pierwszy element:  1\n",
      "Drugi element!:  2\n",
      "a+1: [2 3 4 5]\n",
      "2*a: [2 4 6 8]\n",
      "b:  [1 2 3 4]\n",
      "Iloczyn skalarny <a,b>:  30\n"
     ]
    }
   ],
   "source": [
    "import numpy as np\n",
    "a = np.array([1, 2, 3, 4])\n",
    "print \"a: \", a\n",
    "print \"Pierwszy element: \", a[0]\n",
    "print \"Drugi element!: \", a[1]\n",
    "print \"a+1:\", a + 1\n",
    "print \"2*a:\", 2*a\n",
    "b = np.array([1, 2, 3, 4])\n",
    "print \"b: \", b\n",
    "print \"Iloczyn skalarny <a,b>: \", np.inner(a, b) # Iloczyn skalarny"
   ]
  },
  {
   "cell_type": "code",
   "execution_count": 4,
   "metadata": {
    "collapsed": false
   },
   "outputs": [
    {
     "name": "stdout",
     "output_type": "stream",
     "text": [
      "a =  [[ 1.  0.  0.]\n",
      " [ 0.  1.  0.]\n",
      " [ 0.  0.  1.]]\n",
      "\n",
      "b =  [[ 0.06155327  0.37632435  0.70935316]\n",
      " [ 0.40236883  0.37323993  0.99941991]\n",
      " [ 0.21685251  0.85573161  0.03489185]]\n",
      "\n",
      "a*b = [[ 0.06155327  0.          0.        ]\n",
      " [ 0.          0.37323993  0.        ]\n",
      " [ 0.          0.          0.03489185]]\n",
      "\n",
      "np.dot(a,b) =  [[ 0.06155327  0.37632435  0.70935316]\n",
      " [ 0.40236883  0.37323993  0.99941991]\n",
      " [ 0.21685251  0.85573161  0.03489185]]\n"
     ]
    }
   ],
   "source": [
    "a = np.eye(3) # Macierz identyczności (jedynki na diagonali) 3x3\n",
    "b = np.random.uniform(size=(3,3)) # Losowa macierz 3x3\n",
    "print \"a = \", a\n",
    "print\n",
    "print \"b = \", b\n",
    "print\n",
    "print \"a*b =\", a*b # Mnozenie kazdy element razy kazdy\n",
    "print\n",
    "print \"np.dot(a,b) = \", np.dot(a,b) # Mnozenie macierzowe"
   ]
  },
  {
   "cell_type": "code",
   "execution_count": 5,
   "metadata": {
    "collapsed": false
   },
   "outputs": [
    {
     "name": "stdout",
     "output_type": "stream",
     "text": [
      "Suma elementow od 1 do 3 włącznie:  9\n"
     ]
    }
   ],
   "source": [
    "# Możemy wziąć część wektora i wykonać na nim jakąś operację\n",
    "a = np.array([1,2,3,4,5])\n",
    "print \"Suma elementow od 1 do 3 włącznie: \", a[1:4].sum()\n",
    "# Jest bardzo dużo różnych operacji. Można zobaczyć przez wpisanie \"a.\" i tab (autocompletion)."
   ]
  },
  {
   "cell_type": "code",
   "execution_count": 6,
   "metadata": {
    "collapsed": false
   },
   "outputs": [
    {
     "name": "stdout",
     "output_type": "stream",
     "text": [
      "1\n",
      "2\n",
      "3\n",
      "4\n",
      "5\n"
     ]
    }
   ],
   "source": [
    "# Oczywiście obiekty numpy są iterowalne\n",
    "for x in a:\n",
    "    print x"
   ]
  },
  {
   "cell_type": "markdown",
   "metadata": {},
   "source": [
    "### Ćwiczenie 1 (1 pkt)\n",
    "    a) znajdź największą i najmniejszą wartość w wektorze c. \n",
    "    b) stworzyć analogicznie wektor d i policzyć unormowany iloczyn skalarny. Ile wynosi jak zwiększymy ilość wymiarów?"
   ]
  },
  {
   "cell_type": "code",
   "execution_count": 38,
   "metadata": {
    "collapsed": false
   },
   "outputs": [
    {
     "name": "stdout",
     "output_type": "stream",
     "text": [
      "0.951818767467\n",
      "0.0650193045734\n",
      "iloczyn: 2.66723144563\n",
      "0.946139004735\n",
      "0.0134503774255\n",
      "iloczyn: 3.32330259965\n",
      "0.864554556468\n",
      "0.194880019077\n",
      "iloczyn: 2.30369523256\n",
      "0.971806581074\n",
      "0.129348128684\n",
      "iloczyn: 2.68321384941\n",
      "0.966516112067\n",
      "0.0458544795783\n",
      "iloczyn: 3.58451763803\n",
      "0.966769180987\n",
      "0.118524153999\n",
      "iloczyn: 3.08043866308\n",
      "0.918921725472\n",
      "0.115456161652\n",
      "iloczyn: 2.87617293041\n",
      "0.945815137589\n",
      "0.0179910223252\n",
      "iloczyn: 3.96368121913\n",
      "0.914453375735\n",
      "0.0423552143332\n",
      "iloczyn: 4.18099209982\n",
      "0.931999339295\n",
      "0.00188445551514\n",
      "iloczyn: 2.87634588016\n",
      "0.973482435551\n",
      "0.183145236633\n",
      "iloczyn: 5.35506144633\n",
      "0.917887648956\n",
      "0.0370064071114\n",
      "iloczyn: 4.19586045653\n",
      "0.999832291376\n",
      "0.0123107470901\n",
      "iloczyn: 8.25739978269\n",
      "0.9498716523\n",
      "0.0109189141589\n",
      "iloczyn: 5.48364719056\n",
      "0.925562964224\n",
      "0.046556480914\n",
      "iloczyn: 6.67754925887\n",
      "0.945957154079\n",
      "0.00429091020748\n",
      "iloczyn: 5.70462145024\n",
      "0.927841027716\n",
      "0.0103755716864\n",
      "iloczyn: 4.75910247894\n",
      "0.953552597643\n",
      "0.0411188605738\n",
      "iloczyn: 7.37043290872\n",
      "0.911279391993\n",
      "0.00894238612071\n",
      "iloczyn: 5.16829731301\n",
      "0.922348698404\n",
      "0.00251274458178\n",
      "iloczyn: 8.22887284044\n",
      "0.990138659131\n",
      "0.0167687716122\n",
      "iloczyn: 8.100939414\n",
      "0.933401028416\n",
      "0.0391016668423\n",
      "iloczyn: 7.84669844537\n",
      "0.96855292058\n",
      "0.00240263960863\n",
      "iloczyn: 8.11763988095\n",
      "0.986964987754\n",
      "0.0133187233152\n",
      "iloczyn: 10.8866965076\n",
      "0.952059901576\n",
      "0.021837211456\n",
      "iloczyn: 8.03690822213\n",
      "0.997492630857\n",
      "0.0103389389378\n",
      "iloczyn: 8.70662812223\n",
      "0.972142482431\n",
      "0.0261373150154\n",
      "iloczyn: 9.2139086486\n",
      "0.960775754275\n",
      "0.00445989199882\n",
      "iloczyn: 9.97120963605\n",
      "0.993717455639\n",
      "0.000860775041883\n",
      "iloczyn: 7.33639142754\n",
      "0.908976798256\n",
      "0.00247968437736\n",
      "iloczyn: 10.6947459876\n",
      "0.969376835036\n",
      "0.0486857295644\n",
      "iloczyn: 11.3317167241\n",
      "0.991638541079\n",
      "0.0190625963976\n",
      "iloczyn: 8.19428880378\n",
      "0.98305958544\n",
      "0.0269763736293\n",
      "iloczyn: 9.9511822166\n",
      "0.998089876549\n",
      "0.0580843530727\n",
      "iloczyn: 10.62223528\n",
      "0.988001903\n",
      "0.00433676380078\n",
      "iloczyn: 11.1865525137\n",
      "0.992450285463\n",
      "0.0143834377532\n",
      "iloczyn: 10.7020171356\n",
      "0.956477119148\n",
      "0.0704026345981\n",
      "iloczyn: 10.0450389697\n",
      "0.996976570714\n",
      "0.000931571959272\n",
      "iloczyn: 11.2335568284\n",
      "0.999636016065\n",
      "0.0637316245657\n",
      "iloczyn: 9.80885682938\n",
      "0.950503873183\n",
      "0.00663746537224\n",
      "iloczyn: 13.6653515146\n",
      "0.99364665921\n",
      "0.0358939542193\n",
      "iloczyn: 13.3302667691\n",
      "0.944346822102\n",
      "0.0390214938222\n",
      "iloczyn: 13.7050655487\n",
      "0.943516462322\n",
      "0.0325832047528\n",
      "iloczyn: 12.2158146703\n",
      "0.949967300573\n",
      "0.00926236496801\n",
      "iloczyn: 9.65466604854\n",
      "0.998930295803\n",
      "0.0209272793799\n",
      "iloczyn: 10.2877212774\n",
      "0.997029252964\n",
      "0.0322664467209\n",
      "iloczyn: 13.0486471709\n",
      "0.98060044243\n",
      "0.0223400929469\n",
      "iloczyn: 14.474285878\n",
      "0.990433698274\n",
      "0.032968482776\n",
      "iloczyn: 15.8818827699\n",
      "0.977348489345\n",
      "0.0122400106289\n",
      "iloczyn: 13.3651480836\n",
      "0.986665974604\n",
      "0.0255148439579\n",
      "iloczyn: 13.9116246746\n",
      "0.925870347965\n",
      "6.19440991766e-05\n",
      "iloczyn: 16.9103414122\n",
      "0.986055852994\n",
      "0.00949952194152\n",
      "iloczyn: 14.7896510717\n",
      "0.998927623501\n",
      "0.000165936055238\n",
      "iloczyn: 14.986952434\n",
      "0.999456023062\n",
      "0.0140720688336\n",
      "iloczyn: 18.4947702233\n",
      "0.986590232873\n",
      "0.0693367320876\n",
      "iloczyn: 15.1278805763\n",
      "0.994468956357\n",
      "0.0311264388138\n",
      "iloczyn: 18.9371661907\n",
      "0.992081304419\n",
      "0.0106718676687\n",
      "iloczyn: 19.7653312396\n",
      "0.996368991113\n",
      "0.0169043460101\n",
      "iloczyn: 16.7090707091\n",
      "0.992788305462\n",
      "0.0188818413805\n",
      "iloczyn: 20.8644349754\n",
      "0.993814628348\n",
      "0.0243486328882\n",
      "iloczyn: 21.3238022975\n",
      "0.97715112268\n",
      "0.0134565695465\n",
      "iloczyn: 19.192422091\n",
      "0.963510562761\n",
      "0.0473128363867\n",
      "iloczyn: 16.6556663474\n",
      "0.988107270074\n",
      "0.000665231678582\n",
      "iloczyn: 19.7454317094\n",
      "0.988716637097\n",
      "0.00810920258838\n",
      "iloczyn: 18.3986816114\n",
      "0.991511689542\n",
      "0.00172339504137\n",
      "iloczyn: 16.1604182331\n",
      "0.981755314936\n",
      "0.0135758149962\n",
      "iloczyn: 19.8012619803\n",
      "0.995801469945\n",
      "0.0295741995849\n",
      "iloczyn: 16.9964911787\n",
      "0.999566884523\n",
      "0.0291766618105\n",
      "iloczyn: 15.7732845328\n",
      "0.999248461216\n",
      "0.00422935680606\n",
      "iloczyn: 16.6712594102\n",
      "0.962430514127\n",
      "0.0156669677209\n",
      "iloczyn: 20.9868644291\n",
      "0.997486116675\n",
      "0.0264358558374\n",
      "iloczyn: 20.6776761728\n",
      "0.986967672007\n",
      "0.00143822267862\n",
      "iloczyn: 16.4395867669\n",
      "0.988003606879\n",
      "0.0478858729815\n",
      "iloczyn: 21.8389007951\n",
      "0.955377463257\n",
      "0.000218968227742\n",
      "iloczyn: 20.1313959787\n",
      "0.996123429074\n",
      "0.000427050403295\n",
      "iloczyn: 20.8594189074\n",
      "0.98905082685\n",
      "0.0151529955844\n",
      "iloczyn: 21.9310874226\n",
      "0.989016865367\n",
      "0.0153962950684\n",
      "iloczyn: 24.7609328037\n",
      "0.999709116746\n",
      "0.00867773221623\n",
      "iloczyn: 20.7293049418\n",
      "0.99512683697\n",
      "0.00324341007596\n",
      "iloczyn: 19.1573851966\n",
      "0.995957887193\n",
      "0.0166472710266\n",
      "iloczyn: 23.6532760022\n",
      "0.993668305141\n",
      "0.00614842564722\n",
      "iloczyn: 27.49990322\n",
      "0.991847651229\n",
      "0.00581711593013\n",
      "iloczyn: 25.4978594582\n",
      "0.994818372166\n",
      "0.0100837341269\n",
      "iloczyn: 21.8866945117\n",
      "0.977622541118\n",
      "0.0042956479199\n",
      "iloczyn: 22.5243380005\n",
      "0.994898044338\n",
      "0.0230997238871\n",
      "iloczyn: 21.8074164922\n",
      "0.993219785395\n",
      "0.0159521279255\n",
      "iloczyn: 24.1782585717\n",
      "0.986852292695\n",
      "0.0255131375239\n",
      "iloczyn: 25.0614041803\n",
      "0.992171056473\n",
      "0.00157248666139\n",
      "iloczyn: 20.9160144307\n",
      "0.993831875253\n",
      "0.00066362411064\n",
      "iloczyn: 25.1460996419\n",
      "0.971321535393\n",
      "0.00270907676933\n",
      "iloczyn: 29.0836067719\n"
     ]
    }
   ],
   "source": [
    "for i in range(10,100):\n",
    "    c = np.random.uniform(size=(i,)) # wektor 5 pseudolosowych liczb\n",
    "    print max(c)\n",
    "    print min(c)\n",
    "    d = np.random.uniform(size=(i,)) # wektor 5 pseudolosowych liczb\n",
    "    print 'iloczyn: ' + str(np.dot(c,d))"
   ]
  },
  {
   "cell_type": "markdown",
   "metadata": {},
   "source": [
    "## 3. Matplotlib\n",
    "\n",
    "Podstawowy pakiet do rysowania. Istnieje dużo nakładek na matplotlib, najciekawsza to prawdopodobnie seaborn"
   ]
  },
  {
   "cell_type": "code",
   "execution_count": 14,
   "metadata": {
    "collapsed": true
   },
   "outputs": [],
   "source": [
    "import matplotlib.pylab as plt # Import podpakietu jako plt\n",
    "# Magia IPython Notebook :) Pokazuje wykresy w konsoli\n",
    "%matplotlib inline"
   ]
  },
  {
   "cell_type": "code",
   "execution_count": 9,
   "metadata": {
    "collapsed": false
   },
   "outputs": [
    {
     "name": "stdout",
     "output_type": "stream",
     "text": [
      "[ 0.          0.05263158  0.10526316  0.15789474  0.21052632  0.26315789\n",
      "  0.31578947  0.36842105  0.42105263  0.47368421  0.52631579  0.57894737\n",
      "  0.63157895  0.68421053  0.73684211  0.78947368  0.84210526  0.89473684\n",
      "  0.94736842  1.        ]\n"
     ]
    },
    {
     "data": {
      "image/png": "[encoded data removed]",
      "text/plain": [
       "<matplotlib.figure.Figure at 0x10a518a90>"
      ]
     },
     "metadata": {},
     "output_type": "display_data"
    }
   ],
   "source": [
    "x = np.linspace(0,1,20) # Tworzy wektor z 20 wartosciami w równych odstępach od 0 do 1\n",
    "print x\n",
    "_ = plt.plot(x, 'o-') # matplotlib naśladuje składnie matlaba"
   ]
  },
  {
   "cell_type": "code",
   "execution_count": 10,
   "metadata": {
    "collapsed": false
   },
   "outputs": [
    {
     "data": {
      "image/png": "[encoded data removed]",
      "text/plain": [
       "<matplotlib.figure.Figure at 0x10a630cd0>"
      ]
     },
     "metadata": {},
     "output_type": "display_data"
    }
   ],
   "source": [
    "plt.plot(x, x, 'o-', label='liniowa')\n",
    "plt.plot(x, x ** 2, 'x-', label='kwadratowa') # Operacja na wektorze numpy ! x ** 2 podnosi każdy element do kwadratu\n",
    "\n",
    "plt.legend(loc='best')\n",
    "_ = plt.title('Funkcja liniowa vs funkcja kwadratowa')"
   ]
  },
  {
   "cell_type": "code",
   "execution_count": 11,
   "metadata": {
    "collapsed": false
   },
   "outputs": [
    {
     "name": "stdout",
     "output_type": "stream",
     "text": [
      "Pierwsze 10 z wylosowanej próby:  [ 1.36959209  0.26680805  0.95946403  1.02949203  0.41623119  1.70655422\n",
      "  0.49042707  1.33225522  0.85912304  0.15838457]\n",
      "Rozmiar próby:  (1000,)\n"
     ]
    },
    {
     "data": {
      "image/png": "[encoded data removed]",
      "text/plain": [
       "<matplotlib.figure.Figure at 0x10a5e3350>"
      ]
     },
     "metadata": {},
     "output_type": "display_data"
    }
   ],
   "source": [
    "# Są inne wykresy, np histogram\n",
    "samples = np.random.normal(loc=1.0, scale=0.5, size=1000) # 1000 liczb z rozkładu normalnego\n",
    "print \"Pierwsze 10 z wylosowanej próby: \", samples[0:10] # 10 pierwszych\n",
    "print \"Rozmiar próby: \", samples.shape # rozmiar\n",
    "_ = plt.hist(samples, bins=10)"
   ]
  },
  {
   "cell_type": "code",
   "execution_count": 12,
   "metadata": {
    "collapsed": false
   },
   "outputs": [
    {
     "data": {
      "image/png": "[encoded data removed]",
      "text/plain": [
       "<matplotlib.figure.Figure at 0x10a5df390>"
      ]
     },
     "metadata": {},
     "output_type": "display_data"
    }
   ],
   "source": [
    "# Inny przykład bez tłumaczenia \n",
    "samples_1 = np.random.normal(loc=1, scale=.5, size=10000) # Rozklad Gaussa\n",
    "samples_2 = np.random.standard_t(df=10, size=10000) # Rozklad studenta t (taki jakby Gauss :))\n",
    "bins = np.linspace(-3, 3, 50)\n",
    "_ = plt.hist(samples_1, bins=bins, alpha=0.5, label='samples 1')\n",
    "_ = plt.hist(samples_2, bins=bins, alpha=0.5, label='samples 2')\n",
    "_ = plt.legend(loc='upper left')"
   ]
  },
  {
   "cell_type": "markdown",
   "metadata": {},
   "source": [
    "## Ćwiczenie 2 (1 pkt)\n",
    "\n",
    "Prosze narysowac wylosowac 100 punktow z np.random.uniform z 2 wspolrzednymi i narysowac za pomoc plt.scatter"
   ]
  },
  {
   "cell_type": "code",
   "execution_count": 35,
   "metadata": {
    "collapsed": false
   },
   "outputs": [
    {
     "data": {
      "text/plain": [
       "<matplotlib.collections.PathCollection at 0x10e82d3d0>"
      ]
     },
     "execution_count": 35,
     "metadata": {},
     "output_type": "execute_result"
    },
    {
     "data": {
      "image/png": "[encoded data removed]",
      "text/plain": [
       "<matplotlib.figure.Figure at 0x10e3ee390>"
      ]
     },
     "metadata": {},
     "output_type": "display_data"
    }
   ],
   "source": [
    "x = [np.random.uniform(size=(1,1)) for i in range(100)]\n",
    "y = [np.random.uniform(size=(1,1)) for i in range(100)]\n",
    "\n",
    "plt.scatter(x,y) # Przyklad wywolania plt.scatter"
   ]
  }
 ],
 "metadata": {
  "anaconda-cloud": {},
  "kernelspec": {
   "display_name": "Python 2",
   "language": "python",
   "name": "python2"
  },
  "language_info": {
   "codemirror_mode": {
    "name": "ipython",
    "version": 2
   },
   "file_extension": ".py",
   "mimetype": "text/x-python",
   "name": "python",
   "nbconvert_exporter": "python",
   "pygments_lexer": "ipython2",
   "version": "2.7.13"
  },
  "toc": {
   "toc_cell": false,
   "toc_number_sections": true,
   "toc_threshold": 6,
   "toc_window_display": false
  }
 },
 "nbformat": 4,
 "nbformat_minor": 0
}
