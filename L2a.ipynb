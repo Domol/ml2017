{
 "cells": [
  {
   "cell_type": "markdown",
   "metadata": {},
   "source": [
    "## Motywacja\n",
    "\n",
    "Sieci neuronowe działają, ponieważ efektywnie aproksymują pewne rozkłady prawdopodobieństwa. Celem tych ćwiczeń jest zrozumienie, co konkretnie jest aproksymowane (chwilowo nie interesuje nas, w jaki sposób).\n",
    "Wiedza ta jest potrzebna, aby dobrze zaplanować architekturę modelu i poprawnie wybrać funkcję kosztu."
   ]
  },
  {
   "cell_type": "markdown",
   "metadata": {},
   "source": [
    "## Modele generatywne\n",
    "\n",
    "Zadaniem modeli generatywnych jest generowanie danych podobnych (pochodzących z tego samego rozkładu) do tych, które były obserwowane podczas uczenia.\n",
    "\n",
    "Do tej pory omawialiśmy modele dyskryminatywne - one z kolei uczą się \"opisywać\" dane, np. przypisując im klasę, do jakiej należą.\n",
    "\n",
    "Przykładowy efekt działania modelu generatywnego - zdjęcia sypialni\n",
    "\n",
    "<img src=\"figures/L2/gan2.png\">\n",
    "\n",
    "Przykładowy efekt niedziałania modelu generatywnego - zdjęcia psów (chyba)\n",
    "\n",
    "<img src=\"figures/L2/gan.png\">\n"
   ]
  },
  {
   "cell_type": "markdown",
   "metadata": {},
   "source": [
    "## Model generatywny rzutu monetą.\n",
    "\n",
    "Spróbujmy wytrenować model generatywny pewnej (być może niesymetrycznej) monety.\n",
    "\n",
    "Obserwacje to wyniki kolejnych rzutów monetą. Na ich podstawie model estymuje rozkład prawdopodobieństwa, z jakiego one pochodzą, czyli po prostu prawdopodobieństwo wylosowania orła - oznaczmy je literą $\\theta$. Uczenie modelu to estymowanie tego parametru.\n",
    "\n",
    "Następnie model może **generować** wyniki kolejnych rzutów. W tym wypadku jest to bardzo proste, wystarczy np. użyć generatora liczb losowych, który z prawdopodobieństwem $\\theta$ wypisze ORZEŁ, a z prawdopodobieństwem $1-\\theta$ będzie to RESZKA.\n",
    "\n",
    "Jeśli na przykład prawdziwe $\\theta$ wynosi $70\\%$, a wyestymowane $60\\%$, to zauważymy, że generowane dane nie są podobne do danych prawdziwych - ORZEŁ będzie pojawiał się zbyt rzadko. Jest to analogia do powyższych zdjęć psów. Poprawnie wytrenowany model będzie średnio generował tyle samo ORŁÓW, co prawdziwa moneta i w tym sensie dane pochodzące z modelu będą dla nas nieodróżnialne od danych prawdziwych (analogia do zdjęć sypialnii)."
   ]
  },
  {
   "cell_type": "markdown",
   "metadata": {},
   "source": [
    "W powyższym przykładzie estymowany rozkład jest dyskretny (dwie możliwości: ORZEŁ i RESZKA), natomiast parametr $\\theta$ teoretycznie może przyjmować dowolną wartość z przedziału $[0,1]$ (a więc jest ciągły).\n",
    "\n",
    "Z uwagi na architekturę komputerów w praktyce wszystkie rozkłady i parametry zawsze będą dyskretne, liczba możliwych wartości $\\theta$ będzie zależeć przede wszystkim od precyzji użytych floatów.\n",
    "\n",
    "Rozpatrywanie wszystkich możliwych wartości parametrów jest oczywiście zbyt czasochłonne. Stosuje się więc przybliżenia, a w tym celu łatwiej myśleć o parametrach jako wielkościach ciągłych i korzystać z twierdzeń analizy matematycznej. Podobna uwaga dotyczy rozkładów prawdopodobieństwa - dla przykładu, jeśli chcemy wylosować obrazek, to myślimy o pikselach jako punktach pochodzących z ciągłej trójwymiarowej kostki (kolor)."
   ]
  },
  {
   "cell_type": "markdown",
   "metadata": {},
   "source": [
    "## Podejście maximum likelihood\n",
    "\n",
    "Załóżmy, że w $10$ rzutach monetą otrzymaliśmy $7$ orłów i $3$ reszki (rzuty są od siebie niezależne, więc istotna jest tylko sumaryczna liczba orłów i reszek, a nie kolejność wyników).\n",
    "\n",
    "<span style=\"color:red\">\n",
    "Uwaga! W dalszej części notebooka zakładamy, że zaobserwowane wyniki rzutów monetą to: ORZEŁ, ORZEŁ, RESZKA, RESZKA, ORZEŁ, RESZKA, ORZEŁ, ORZEŁ, ORZEŁ, ORZEŁ. Skrótowo (i nie do końca poprawnie) będziemy dalej mówić o tym konkretnym ciągu wyników \"siedem orłów i trzy reszki\". Kolejność wyników faktycznie nie ma znaczenia, ale czym innym jest dziesięć wyników o znanej kolejności - nawet jeśli potem ona nie ma znaczenia - a czym innym informacja, że w dziesięciu rzutach wypadło 7 orłów i 3 reszki w nieznanej kolejności. W tym drugim przypadku należałoby we wzorach na likelihood uwzględnić również stałą 120 - na tyle różnych sposobów można ustawić w ciąg 7 orłów i 3 reszki.\n",
    "</span>\n",
    "\n",
    "<span style=\"color:red\">\n",
    "Proszę również w tym kontekście zwrócić uwagę na Ćwiczenie 10.\n",
    "</span>\n",
    "\n",
    "<span style=\"color:red\">\n",
    "Błąd znalazła Yasia Romanets, bardzo dziękujemy za pomoc :)\n",
    "</span>\n",
    "\n",
    "Zdefiniujmy funkcję likelihood:\n",
    "$$L(\\theta|\\mathrm{obserwacje}) := P(\\mathrm{obserwacje}|\\theta)$$\n",
    "\n",
    "Chcemy tak dobrać $\\theta$, aby zmaksymalizować $L$ - innymi słowy wybieramy taką wartość $\\theta$, przy której mielibyśmy największe szanse na uzyskanie wyników, które zaobserwowaliśmy.\n",
    "\n",
    "$$L(\\theta|\\mathrm{obserwacje}) = P(\\mathrm{siedem~orłów~i~trzy~reszki}|\\theta) = \\theta^7 (1-\\theta)^3$$\n",
    "\n",
    "Okazuje się, że w wypadku prób Bernoulliego (rzutów niesymetryczną monetą) $L$ jest maksymalizowane przez:\n",
    "$$\\theta = \\frac{\\mathrm{liczba~sukcesów}}{\\mathrm{liczba~prób}}$$\n",
    "Innymi słowy, jeśli w $10$ rzutach wypadło $7$ orłów, to szacujemy prawdopodobieństwo wyrzucenia orła na $\\frac{7}{10}$."
   ]
  },
  {
   "cell_type": "markdown",
   "metadata": {},
   "source": [
    "## Ćwiczenie 1 (0,5 pkt)\n",
    "\n",
    "Narysować wykres funkcji $L(\\theta)$ dla $\\theta\\in[0,1]$. Zobaczyć, że maksimum jest w punkcie $\\frac{7}{10}$."
   ]
  },
  {
   "cell_type": "code",
   "execution_count": 2,
   "metadata": {
    "collapsed": false
   },
   "outputs": [
    {
     "data": {
      "image/png": "iVBORw0KGgoAAAANSUhEUgAAAiYAAAFkCAYAAAAUtvC8AAAABHNCSVQICAgIfAhkiAAAAAlwSFlz\nAAAPYQAAD2EBqD+naQAAIABJREFUeJzt3Xu8lWP+//HXp1QqKkRhopwqY0SZVOOcdJSab6GMkmOK\niIgZQ2PG6KSEknPlsEdOlUipn+Mohx3GIXLIl6QTKTpJ+/r9ca39nWXba++9Vmuv615rvZ+Px3pk\n3/ta93qvW+39Wdd9Hcw5h4iIiEgUVAkdQERERKSYChMRERGJDBUmIiIiEhkqTERERCQyVJiIiIhI\nZKgwERERkchQYSIiIiKRocJEREREIkOFiYiIiESGChMRERGJjJQKEzMbbGbLzGyzmS0ys9+X0/4E\nMys0sy1mttTM+pfSpreZLYmd810z61zi+9ea2RtmtsHMVpnZU2Z2SIk2D5hZUYnHs6m8RxEREcm8\npAsTMzsDuAW4ATgSeBeYa2b1E7RvDMwGFgAtgAnAvWbWIa5NO+AR4B7gCGAmMMPMDo071bHA7cDR\nwMlANWCemdUs8ZJzgAZAw9ijT7LvUURERMKwZDfxM7NFwOvOuctiXxvwFXCbc250Ke1HAZ2dc4fH\nHSsA6jrnusS+/hdQyznXPa7NQuBt59ygBDnqA6uB45xzr8aOPRA77x+TelMiIiISCUn1mJhZNaAV\nvvcDAOcrm/lA2wRPaxP7fry5Jdq3rUCbkuoBDviuxPETYrd6PjKzSWa2exnnEBERkQjZKcn29YGq\nwKoSx1cBTRM8p2GC9nXMrIZzbmsZbRqWdsJYL82twKvOuQ/jvjUHeAJYBhwI3Aw8a2ZtXSldQ2a2\nB9AR+ALYkiC/iIiI/NrOQGNgrnPu23SdNNnCJComAYcCf4g/6JybHvflB2b2HvAZcALwQinn6Qg8\nXEkZRURE8sFZ+HGiaZFsYbIW2I4fXBqvAbAywXNWJmi/IdZbUlabX53TzO4AugDHOue+KSusc26Z\nma0FDqL0wuQLgIceeojmzZuXdSpJo6FDhzJ+/PjQMfKKrnnm6Zpnnq55Zi1ZsoQ//elPEPtdmi5J\nFSbOuW1mVgi0B2bB/91WaQ/cluBpC4HOJY6dEjse36bkOTqUaFNclJwGHO+c+7K8vGb2G2APIFEB\nswWgefPmtGzZsrzTSZrUrVtX1zvDdM0zT9c883TNg0nrUIhU1jEZB1xgZv3MrBkwGagFTAEws5vN\nbGpc+8nAAWY2ysyamtkgoFfsPMUmAJ3M7IpYmxH4QbZ3FDcws0n47qK+wEYzaxB77Bz7fm0zG21m\nR5vZ/mbWHpgBLMUPpBUREZGIS3qMiXNuemyq7o342y3vAB2dc2tiTRoCjeLaf2FmXYHxwBBgOXCe\nc25+XJuFZtYXuCn2+AQ4rcTA1oH4WTgvlog0AJiGv8V0ONAPP2NnBb4gud45ty3Z9ykiIiKZl9Lg\nV+fcJPwA1NK+N6CUYy/je0DKOucT+Bk1ib5fZu+Oc24L0KmsNiIiIhJt2itHMq5PHy3Gm2m65pmn\na555uua5IemVX3OJmbUECgsLCzVgSkREJAmLFy+mVatWAK2cc4vTdV71mIiIiEhkqDARERGRyFBh\nIiIiIpGhwkREREQiQ4WJiIiIRIYKExEREYkMFSYiIiISGSpMREREJDJUmIiIiEhkqDARERGRyFBh\nIiIiIpGhwkREREQiQ4WJiIiIRIYKExEREYkMFSYiIiISGSpMREREJDJUmIiIiEhkqDARERGRyFBh\nIiIiIpGhwkREREQiQ4WJiIiIRIYKExEREYkMFSYiIiISGSpMREREJDJUmIiIiEhkqDARERGRyNgp\ndAAREQlj3TpYtAgWLvSPJUugVi2oUwfq1vWPgw+GM8+EI44As9CJJR+oMBERySPbt8Ojj8LYsfD2\n2/5Y/frQrh0MGABbtsCGDbB+vX/cfz+MHg1Nm0KfPv5xyCFh34PkNhUmIiJ54Oef4ZFH4KabYOlS\n6NIFhg6Ftm3hwAMT94Zs2wYLFvjnjh0LI0bA//wP3HEHNGyY0bcgeUJjTEREctxjj/kej/79oXlz\neOsteOYZOPtsOOigsm/RVKsGnTrBtGmwejU88AC8/LI/z5Qp4FzG3obkCRUmIiI5avNmuOACOP10\n+O1v/a2bGTOgVavUzlezJpxzjh+L0q2bv/XTsSN88UU6U0u+U2EiIpKDPvoIWreGhx6Ce++FmTP9\nANZ02GMPePBB3+vy0Udw2GEwd256zi2iwkREJMdMm+Z7RbZvhzffhPPOq5wZNV26wAcfwIknQvfu\nvjdGZEepMBERyRHOwTXX+LEkvXv7ouSwwyr3NXfdFZ58Enr0gF694OGHK/f1JPepMBERyQHOwbBh\nMGoUjBvnB6bWrp2Z165Wzc/a6dfPD6i9++7MvK7kJk0XFhHJcs7B5ZfDbbf5abyDB2c+Q9WqfizL\nLrvARRf5gbeXXZb5HJL9VJiIiGSxoiK45BK480646y648MJwWapUgQkTYOedfaHUpIkfeyKSDN3K\nERHJUs7BwIEweTLcd1/YoqSYGYwcCT17+ts6H38cOpFkGxUmIiJZ6sYb4Z57/LLx554bOs1/Vani\nx7jss48vUH74IXQiySYqTEREstBjj/nl4f/xD7/oWdTUqeOnDy9f7mcJFRWFTiTZQoWJiEiWKSz0\nv+z79oU//zl0msSaNvULvD31lL+9I1IRKkxERLLIihV+QOnvfudnwVTGwmnp1L07XH89XHedVoeV\nilFhIiKSJTZtgtNO82M4Zszwe9dkgxtugFNO8eNg1q8PnUaiToWJiEgWcM5vyPfhhzBrFuy9d+hE\nFVelil90bcMGvzKtSFlUmIiIZIFp0/zqqvfdB0ceGTpN8vbbz48zmTwZXnkldBqJMhUmIiIR9+mn\nfjXXc86BM88MnSZ1F18Mbdv6np8tW0KnkahSYSIiEmHbtvnZNw0b+iXns1mVKn7A7rJlfpqzSGlU\nmIiIRNiIEfD22/42zq67hk6z4w49FP7yF7/Z4H/+EzqNRJEKExGRiHrxRbj5Zr/Ca+vWodOkzzXX\n+DVOzj8ftm8PnUaiJqXCxMwGm9kyM9tsZovM7PfltD/BzArNbIuZLTWz/qW06W1mS2LnfNfMOpf4\n/rVm9oaZbTCzVWb2lJkdUsp5bjSzFWa2ycyeN7ODUnmPIiIhffed32vmuOPg6qtDp0mv6tX9LZ23\n3vKDeUXiJV2YmNkZwC3ADcCRwLvAXDOrn6B9Y2A2sABoAUwA7jWzDnFt2gGPAPcARwAzgRlmdmjc\nqY4FbgeOBk4GqgHzzKxm3HmGA5cAFwKtgY2xbNWTfZ8iIiFdfjn8+CM8+CBUrRo6Tfq1aQNnneVv\nVW3cGDqNREkqPSZDgbucc9Occx8BA4FNQKItpC4GPnfOXe2c+9g5NxF4PHaeYkOAOc65cbE21wOL\n8UUGAM65Ls65B51zS5xz7wHnAPsBreLOcxnwd+fcbOfc+0A/YB+gRwrvU0QkiHnzfEEybhw0ahQ6\nTeX5+9/h22/h1ltDJ5EoSaowMbNq+EJgQfEx55wD5gNtEzytTez78eaWaN+2Am1Kqgc44LtYtiZA\nwxLZNgCvl3MeEZHI2LQJBg6EE0+M5uZ86dS4MQwa5AfCrl0bOo1ERbI9JvWBqsCqEsdX4YuC0jRM\n0L6OmdUop02p5zQzA24FXnXOfRh3DpdkNhGRSBkxwu+Hc9dd0d8HJx3+8hf/Pm+6KXQSiYqdQgdI\n0STgUOAP6TjZ0KFDqVu37i+O9enThz59+qTj9CIiFfL22/72zY03wsEHh06TGfXrw/DhviAbMgSa\nNAmdSEpTUFBAQUHBL46tr6SNj5ItTNYC24EGJY43AFYmeM7KBO03OOe2ltPmV+c0szuALsCxzrlv\nSryOxZ4X32vSAHg7QTYAxo8fT8uWLctqIiJSqX7+2a+I2rw5XHVV6DSZddllcMcd8Ne/wkMPhU4j\npSntw/rixYtp1apVgmekLqlbOc65bUAh0L74WOy2SnvgtQRPWxjfPuaU2PGy2nQo0aa4KDkNONE5\n92WJbMvwxUl8tjr4WTyJsomIRMLtt8PixXDPPVCtWug0mVW7Nvztb/Dww77XSPJbKrNyxgEXmFk/\nM2sGTAZqAVMAzOxmM5sa134ycICZjTKzpmY2COgVO0+xCUAnM7si1mYEfpDtHcUNzGwScBbQF9ho\nZg1ij53jznMrcJ2ZnWpmvwOmAcvx049FRCLpyy/huuv8fjht2oROE8aAAX7RNe0+LEkXJs656cAw\n4Eb8LZLDgY7OuTWxJg2BRnHtvwC64tceeQc/Tfg859z8uDYL8QXHhbE2fwROixvYCn5ach3gRWBF\n3OP0uPOMxq91chd+Nk5NoLNz7qdk36eISKYMHw516uT3ANCddvLvf948WLQodBoJyfxs3/xkZi2B\nwsLCQo0xEZEgXnnFr+76wAO5Pz24PEVFfi+d5s3hqadCp5HyxI0xaeWcW5yu82qvHBGRQIqK/Aqv\nRx0F/fqFThNelSp++f0ZM2DJktBpJBQVJiIigUyZ4ge83nab/6Usfpn6ffeF0aNDJ5FQ9E9BRCSA\nDRvg2mv9L+K2Wpv6/9SoAVdc4acNf/VV6DQSggoTEZEA/vEPv0nfyJGhk0TPBRfArrv6xeYk/6gw\nERHJsE8+8RvXXXst/OY3odNEz667wiWXwN13+03+JL+oMBERybBhw2CffeDKK0Mnia5LLwXn/Iqw\nkl9UmIiIZNArr8CsWX5H3Zo1Q6eJrj33hPPP9wODN24MnUYySYWJiEiGOOcXU2vVCnr3Dp0m+q68\nEtav98v0S/5QYSIikiGzZsHChX7Aq6YHl2///eHMM/0+QkVFodNIpuifhohIBmzfDn/+M5x8sn9I\nxVxyCXz+OTz3XOgkkikqTEREMmDaNPjwQ00PTtbRR0PLljBxYugkkikqTEREKtnmzXD99XD66X58\niVScmd91ec4c33MiuU+FiYhIJZs4EVau9IuqSfLOPBPq1YM77wydRDJBhYmISCX6/nv45z/9aqYH\nHxw6TXaqVQsGDID77/e9T5LbVJiIiFSiMWNg61Z/K0dSd/HF8N138OijoZNIZVNhIiJSSdauhQkT\n/CqmDRuGTpPdDjoIOnXSINh8oMJERKSSjBnjB29edVXoJLlh8GB46y14443QSaQyqTAREakEq1f7\nfV6GDIE99gidJjd07gyNG6vXJNepMBERqQRjxkDVqtqoL52qVvVjTR591N8mk9ykwkREJM1WrfKf\n6i+/HHbfPXSa3HLuuX7PoalTQyeRyqLCREQkzUaNgurVYejQ0ElyT/360KMHPPCAL1Ak96gwERFJ\no2++8QuBXX457LZb6DS5acAA+OADPxBWco8KExGRNBo1CmrU8IWJVI4OHWDffX2vieQeFSYiImmy\nYgVMnuwHvNarFzpN7qpaFfr1g4IC2LIldBpJNxUmIiJpMnYs1KzppwhL5TrnHL/c/4wZoZNIuqkw\nERFJgzVrfG/JkCFQt27oNLnvkEPgD3/Q7ZxcpMJERCQNxo/3txjUW5I5AwbA88/DV1+FTiLppMJE\nRGQHrVvnV3m9+GKt8ppJp5/ub51NmxY6iaSTChMRkR10xx2wbRtccUXoJPll112hVy+YMkVrmuQS\nFSYiIjvgxx/h1lvh/PO1g3AIAwbAp5/Cq6+GTiLposJERGQHTJ4MP/ygHYRDOe44aNJEg2BziQoT\nEZEUbd7spwj37w/77Rc6TX6qUsVPHZ4+HTZuDJ1G0kGFiYhIiu67z08THj48dJL8dvbZviiZNSt0\nEkkHFSYiIin46ScYPRr69IGDDgqdJr81aQJt2viVYCX7qTAREUlBQYFfP+Oaa0InEYC+fWHOHPj2\n29BJZEepMBERSVJRke8t6dYNDjssdBoBv6ZJURE88UToJLKjVJiIiCRp9mz48EP1lkRJgwbQvr1u\n5+QCFSYiIkkaNcrv0/KHP4ROIvH69oWXXoKvvw6dRHaEChMRkSS8+iq89ppm4kRRz55QvTo8+mjo\nJLIjVJiIiCRh5Ej47W+ha9fQSaSkunX9/5dHHgmdRHaEChMRkQp67z145hm4+mq/sJdET9++UFgI\nS5eGTiKp0j8tEZEKGj0aGjXya5dINHXp4jf30yDY7KXCRESkAv73f/0vuyuvhGrVQqeRRGrWhD/+\n0d/O0Y7D2UmFiYhIBYwb58cwnH9+6CRSnj59/K2cxYtDJ5FUqDARESnHd9/BvffC4MFQu3boNFKe\n9u1hzz01CDZbqTARESnHnXf6VUUvuSR0EqmInXbyK8FOn+7/v0l2UWEiIlKGLVvg9tuhf3/Ya6/Q\naaSievWC5cvhzTdDJ5FkqTARESnDQw/B6tVwxRWhk0gyjj3WF5KPPx46iSRLhYmISAJFRTB2LJx2\nGhxySOg0koyqVf3snMcf1+ycbKPCREQkgdmz4eOP4aqrQieRVPTqBV98odk52UaFiYhIAmPHQrt2\n/iHZ5/jjYY89dDsn26RUmJjZYDNbZmabzWyRmf2+nPYnmFmhmW0xs6Vm1r+UNr3NbEnsnO+aWecS\n3z/WzGaZ2ddmVmRm3Us5xwOx78U/nk3lPYpIfnv9dXjlFRg2LHQSSdVOO/mN/XQ7J7skXZiY2RnA\nLcANwJHAu8BcM6ufoH1jYDawAGgBTADuNbMOcW3aAY8A9wBHADOBGWZ2aNypagPvAIOAsv6KzQEa\nAA1jDy0eLSJJGzMGDj4Yuv/qI5Bkk1694NNP4T//CZ1EKiqVHpOhwF3OuWnOuY+AgcAm4NwE7S8G\nPnfOXe2c+9g5NxF4PHaeYkOAOc65cbE21wOLgf9bNcA595xz7nrn3EzAysi31Tm3xjm3OvZYn8J7\nFJE89tln8OSTfvn5qlVDp5EdcdJJsNtu8NhjoZNIRSVVmJhZNaAVvvcDAOecA+YDbRM8rU3s+/Hm\nlmjftgJtKuoEM1tlZh+Z2SQz2z2Fc4hIHhs/3o9N6NcvdBLZUdWq+VlVjz2m2znZItkek/pAVWBV\nieOr8LdNStMwQfs6ZlajnDaJzpnIHKAfcBJwNXA88KyZldXDIiLyf777Dh54wC8/X7Nm6DSSDr16\n+b1zPvggdBKpiJ1CB0gn59z0uC8/MLP3gM+AE4AXEj1v6NCh1K1b9xfH+vTpQx/tbS6SdyZPhu3b\nYdCg0EkkXU4+GerU8YNgDzssdJrsVFBQQEFBwS+OrV9fOSMlki1M1gLb8YNL4zUAViZ4zsoE7Tc4\n57aW0ybROSvEObfMzNYCB1FGYTJ+/Hhatmy5Iy8lIjlg61a//Hy/flp+PpfUqOEHMT/+OIwYETpN\ndirtw/rixYtp1apV2l8rqVs5zrltQCHQvvhY7DZJe+C1BE9bGN8+5pTY8bLadCjRJmlm9htgD+Cb\nHTmPiOSHggJYuVLLz+eiXr38rZwlS0InkfKkMitnHHCBmfUzs2bAZKAWMAXAzG42s6lx7ScDB5jZ\nKDNramaDgF6x8xSbAHQysytibUbgB9neUdzAzGqbWQszOyJ26IDY143ivj/azI42s/3NrD0wA1iK\nH0grIpKQczBuHHTtCs2ahU4j6XbKKbDLLvDEE6GTSHmSLkxi4ziGATcCbwOHAx2dc2tiTRoCjeLa\nfwF0BU7Gr0MyFDjPOTc/rs1CoC9wYazNH4HTnHMfxr30UbHXK8SvY3ILfkrx32Lf3x7LMhP4GL8m\nypvAcbGeHhGRhJ5/Ht57z08RltxTsyZ07gwzZ4ZOIuUxl8fzp8ysJVBYWFioMSYiea5jR1izBgoL\nQfP4clNBAfTtC19+CY0ald9eyhY3xqSVcy5tOxJprxwRyXvvvQfz5vneEhUluatLF7+uiXpNok2F\niYjkvXHjYN994fTTQyeRylS3Lpx4IsyYETqJlEWFiYjktZUr4ZFHYMgQ/2lacluPHvDii7BuXegk\nkogKExHJaxMnQvXqcOGFoZNIJnTv7hfQe+aZ0EkkERUmIpK3Nm2CO++E886DevVCp5FM2HdfaN1a\nt3OiTIWJiOStadN8l/6QIaGTSCb16AHPPQebN4dOIqVRYSIieamoyO8i3LMnHHBA6DSSST17wsaN\nsGBB6CRSGhUmIpKXnn3W7zir5efzT7Nm0LQpPPVU6CRSGhUmIpKXxo2DNm2gXbvQSSSEHj1g1iw/\nEFaiRYWJiOSdt9+GF15Qb0k+69ED1q6F1xJtPyvBqDARkbwzfjzsv78fayD5qXVraNhQs3OiSIWJ\niOSVr7/2e6ZcfjnstFPoNBJKlSpw2mm+MMnjLeMiSYWJiOSVO+6AWrXg3HNDJ5HQevSAzz+H998P\nnUTiqTARkbzx448weTKcfz7UqRM6jYR24omwyy7w9NOhk0g8FSYikjemToUffoDLLgudRKKgRg3o\n2NHPzpHoUGEiInlh+3Y/6LV3b9hvv9BpJCpOPRXeeMNv5ijRoMJERPLC00/DZ5/B0KGhk0iUdOkC\nZtrUL0pUmIhIXrjlFjjmGD9NVKTYnntC27YaZxIlKkxEJOe98Qa8+ipceWXoJBJF3bvDvHna1C8q\nVJiISM4bPx4OPNCPJxAp6dRTfVHy//5f6CQCKkxEJMd9+SU89phfUK1q1dBpJIqaNfOFq2bnRIMK\nExHJabfd5tcsGTAgdBKJKjN/O2f2bCgqCp1GVJiISM7asAHuuQcuughq1w6dRqLs1FNhxQpYvDh0\nElFhIiI56777YNMmuOSS0Ekk6o45BurV0+ycKFBhIiI56eef4dZboU8f2Hff0Gkk6qpVg86dVZhE\ngQoTEclJjz/uB75qirBUVPfu8Pbb8NVXoZPkNxUmIpJznIOxY+Hkk6FFi9BpJFt06gQ77eQHwUo4\nKkxEJOe8/DIUFqq3RJJTrx4ce6ymDYemwkREcs4tt8Bhh/mdY0WS0b27X2jtxx9DJ8lfKkxEJKd8\n/LEfwHjFFX59CpFkdOsGP/0ECxaETpK/VJiISE4ZNw4aNoS+fUMnkWx00EFwyCEaZxKSChMRyRmr\nV8O0aXDppVCjRug0kq26dYNnnvGDqCXzVJiISM6YNAmqVIGBA0MnkWzWrRt8842fOiyZp8JERHLC\n5s0wcaLfE2f33UOnkWx2zDF+fyXdzglDhYmI5ISpU+G772Do0NBJJNtVq+bXNFFhEoYKExHJetu3\n+ynCf/yj375eZEd16wZvvgkrV4ZOkn9UmIhI1ps5Ez79FK66KnQSyRWdO/vp5s8+GzpJ/lFhIiJZ\nzTkYMwaOOw5atw6dRnJF/frQpo1u54SgwkREstq//w2LFqm3RNKvWzeYNw+2bg2dJL+oMBGRrDZm\nDDRvDl26hE4iuaZbN9i40e+9JJmjwkREstZHH/kN14YN8+uXiKTT734HjRrpdk6m6Z+yiGStsWNh\n773hrLNCJ5FcZOZ7TZ5+WqvAZpIKExHJSt98Aw8+CEOGaPl5qTzdusGyZb53TjJDhYmIZKXbb4fq\n1bX8vFSuE0+EmjV1OyeTVJiISNb54Qe480644AKoVy90GsllNWtC+/Z+Uz/JDBUmIpJ17r7bz5a4\n4orQSSQfdOsGr74K69aFTpIfVJiISFbZuhXGjfMDXn/zm9BpJB906eK3PZg3L3SS/KDCRESyysMP\nw4oVcPXVoZNIvmjUCFq00DiTTFFhIiJZo6gIRo+GHj38omoimdK1K8yZ43tOpHKpMBGRrDFzJnz8\nMQwfHjqJ5Jtu3eDbb+H110MnyX0qTEQkKzgHI0fC8cf7zdVEMql1a7+xn2bnVL6UChMzG2xmy8xs\ns5ktMrPfl9P+BDMrNLMtZrbUzPqX0qa3mS2JnfNdM+tc4vvHmtksM/vazIrMrHuC17rRzFaY2SYz\ne97MDkrlPYpItLz0ErzxhnpLJIyqVaFTJ40zyYSkCxMzOwO4BbgBOBJ4F5hrZvUTtG8MzAYWAC2A\nCcC9ZtYhrk074BHgHuAIYCYww8wOjTtVbeAdYBBQ6uLAZjYcuAS4EGgNbIxlq57s+xSRaBk5Eg4/\n3P9yEAmhWzf4z3/gq69CJ8ltqfSYDAXucs5Nc859BAwENgHnJmh/MfC5c+5q59zHzrmJwOOx8xQb\nAsxxzo2LtbkeWIwvMgBwzj3nnLveOTcTsASvdRnwd+fcbOfc+0A/YB+gRwrvU0Qi4p13YO5cuOYa\nv3+JSAgdO/qeE93OqVxJFSZmVg1ohe/9AMA554D5QNsET2sT+368uSXat61Am/KyNQEalsi2AXg9\nmfOISPSMHAlNmkDv3qGTSD6rVw+OOUaFSWVLtsekPlAVWFXi+Cp8UVCahgna1zGzGuW0SXTORK/j\n0nAeEYmQpUth+nS/bslOO4VOI/mua1dYsAA2bw6dJHfpnzkwdOhQ6tat+4tjffr0oU+fPoESiUix\nkSOhYUM455zQSUT8OJOrr4YXXvArwuaLgoICCgoKfnFs/fr1lfJayRYma4HtQIMSxxsAKxM8Z2WC\n9hucc1vLaZPonIlex2LPi+81aQC8XdYTx48fT8uWLZN4KRHJhP/9X3jwQRg1CnbeOXQaEWjWzN9W\nnD07vwqT0j6sL168mFatWqX9tZK6leOc2wYUAu2Lj5mZxb5+LcHTFsa3jzkldrysNh1KtCkv2zJ8\ncRKfrQ5wdBnZRCTCxoyBunXhwgtDJxHxzHyvyTPP+LV1JP1SmZUzDrjAzPqZWTNgMlALmAJgZjeb\n2dS49pOBA8xslJk1NbNBQK/YeYpNADqZ2RWxNiPwg2zvKG5gZrXNrIWZHRE7dEDs60Zx57kVuM7M\nTjWz3wHTgOX46ccikkVWroR774XLLoNddgmdRuS/unaFL7+E998PnSQ3JT3GxDk3PbZmyY342yTv\nAB2dc2tiTRoCjeLaf2FmXYHx+GnBy4HznHPz49osNLO+wE2xxyfAac65D+Ne+ijgBfwAV4dfSwVg\nKrGpys650WZWC7gLqAe8AnR2zv2U7PsUkbDGjYPq1eGSS8pvK5JJJ5wAtWv7XpPf/S50mtxjLo/7\nosysJVBYWFioMSYiEfLdd7D//r4oufnm0GlEfq1nT1izBl59NXSScOLGmLRyzi1O13m1V46IRM5t\nt/ldXIcbK81fAAAaMklEQVQOLb+tSAjdusHChbB2begkuUeFiYhEyg8/+MLkggtgr71CpxEpXZcu\nUFQEzz0XOknuUWEiIpEycSL8+CMMGxY6iUhie+8NRx2lTf0qgwoTEYmMH3+EsWPhvPOgUaPy24uE\n1K2b7zHZti10ktyiwkREImPSJNiwAa69NnQSkfJ16wbr1+f3ANjKoMJERCJh40bfWzJgAOy3X+g0\nIuU78kh/S0e3c9JLhYmIRMKdd8K6deotkexRpYrvNVFhkl4qTEQkuE2b/PLz55wDjRuHTiNScd26\n+R2wly4NnSR3qDARkeAmT/aLqv35z6GTiCSnfXuoUcOvAivpocJERILatAlGj4Z+/fyurSLZpHZt\nOOkk3c5JJxUmIhLU3Xf71TP/8pfQSURS060bvPyyn6EjO06FiYgEs2kTjBoFZ58NBxwQOo1Iarp2\nhZ9/hnnzQifJDSpMRCSYSZN8b8lf/xo6iUjq9t/f7zKs2znpocJERIL44QcYOdKv8qreEsl23br5\nAbDbt4dOkv1UmIhIEBMm+CXor7sudBKRHXfqqfDtt7BoUegk2U+FiYhk3Lp1fpXXgQPhN78JnUZk\nx7Vu7XfDnjUrdJLsp8JERDLullv8xmfXXBM6iUh6VK3qb+eoMNlxKkxEJKPWrIFbb4VLL4WGDUOn\nEUmf7t3ho4+0CuyOUmEiIhk1apTfY+Sqq0InEUmvk0+GnXeGp58OnSS7qTARkYxZsQImToQrroA9\n9gidRiS9atf2xYlu5+wYFSYikjE33QQ1a8LQoaGTiFSO7t3h1Vf9DB1JjQoTEcmITz7xy89fcw3U\nrRs6jUjl6NYNiorg2WdDJ8leKkxEJCOuu84Pdr300tBJRCrP3nv7qcO6nZM6FSYiUunefBOmT4cb\nb/S3ckRyWffu8NxzsHVr6CTZSYWJiFQq52D4cPjtb6Ffv9BpRCpf9+5+VeMXXwydJDupMBGRSjVv\nHrzwAtx8s1+ESiTXHXYYNG6s2zmpUmEiIpWmqMj3lhxzjB8UKJIPzHyvyaxZvsdQkqPCREQqTUEB\nvPuuX1TNLHQakczp3h2WL4d33gmdJPuoMBGRSrF1q5+J06MHtGsXOo1IZh17LNSpAzNnhk6SfVSY\niEilmDgRvvwS/vnP0ElEMq96dejSRYVJKlSYiEjarV3rpwZfdBE0bx46jUgYPXv6WznLloVOkl1U\nmIhI2o0Y4f/829+CxhAJqnNnqFEDnnoqdJLsosJERNLqww9h8mQ/vmTPPUOnEQln112hQwcVJslS\nYSIiaTVsmF/DQUvPi/jbOf/+N6xaFTpJ9lBhIiJp89xzMGcOjB7tu7BF8t2pp/qp8hoEW3EqTEQk\nLX7+Ga68Eo4/3n9KFBF/O/O443Q7JxkqTEQkLe6+G5YsgXHjtJiaSLyePWHBAli/PnSS7KDCRER2\n2Lp1cMMN0L8/tGwZOo1ItPToAdu2wbPPhk6SHVSYiMgOu+46v9KrFlMT+bX99oOjjoInnwydJDuo\nMBGRHfL223568N/+BnvvHTqNSDT17OkHhm/eHDpJ9KkwEZGUFRXB4MF+dddLLgmdRiS6evaEjRth\n/vzQSaJPhYmIpGzqVFi40O+LU61a6DQi0dW8OTRrptk5FaHCRERSsm4dDB8Offv6KcIiUraePWHW\nLD+1XhJTYSIiKbn+en+/fMyY0ElEskPPnvDtt/Dyy6GTRJsKExFJ2jvvwKRJfsDrPvuETiOSHY46\nCvbfHx5/PHSSaFNhIiJJKSqCiy/298u1H45IxZlB797wxBO6nVMWFSYikpQ774RFi+CuuzTgVSRZ\np58Oq1fDSy+FThJdKkxEpMKWL4drr4WLLoJjjgmdRiT7HHUUNGkC06eHThJdKkxEpEKc82uW7LIL\njBoVOo1IdjLzvSa6nZOYChMRqZAnnvBTHe+4A+rWDZ1GJHudfrqfnfPCC6GTRJMKExEp17p1fqBr\njx7wxz+GTiOS3Y48Eg48EB59NHSSaEqpMDGzwWa2zMw2m9kiM/t9Oe1PMLNCM9tiZkvNrH8pbXqb\n2ZLYOd81s87Jvq6ZPWBmRSUe2s9RZAcNHw6bNvneEhHZMcW3c5580u86LL+UdGFiZmcAtwA3AEcC\n7wJzzax+gvaNgdnAAqAFMAG418w6xLVpBzwC3AMcAcwEZpjZoSm87hygAdAw9uiT7HsUkf966SW4\n5x4YORL23Td0GpHccMYZvidywYLQSaInlR6TocBdzrlpzrmPgIHAJuDcBO0vBj53zl3tnPvYOTcR\neDx2nmJDgDnOuXGxNtcDi4H4bcEq+rpbnXNrnHOrY4/1KbxHEQF+/BEGDPAzcC66KHQakdxx+OFw\nyCGanVOapAoTM6sGtML3fgDgnHPAfKBtgqe1iX0/3twS7duW1SbJ1z3BzFaZ2UdmNsnMdq/AWxOR\nUlx1FaxaBVOmQBWNSBNJm+LbOU89BT/9FDpNtCT7o6Y+UBVYVeL4Kvxtk9I0TNC+jpnVKKdN8Tkr\n+rpzgH7AScDVwPHAs2ZmCbKJSALz5sHkyTB2rB+oJyLpdfrp8P338PzzoZNEy06hA6STcy6+U+wD\nM3sP+Aw4AUg4MWvo0KHULTH/sU+fPvTpo+Epkp++/x7OOw86dICBA0OnEclNhx0GzZv72zldu4ZO\nU7aCggIKCgp+cWz9+soZKZFsYbIW2I4fXBqvAbAywXNWJmi/wTm3tZw2xedM5XVxzi0zs7XAQZRR\nmIwfP56WLVsm+rZI3rn8ctiwAe67z3c5i0j6Fd/OGT8etmyBnXcOnSix0j6sL168mFatWqX9tZK6\nleOc2wYUAu2Lj8Vuk7QHXkvwtIXx7WNOiR0vq02H4jYpvi5m9htgD+CbRG1E5JdmzoSpU+G226BR\no9BpRHJbnz7+Q8DTT4dOEh2pDGcbB1xgZv3MrBkwGagFTAEws5vNbGpc+8nAAWY2ysyamtkgoFfs\nPMUmAJ3M7IpYmxH4wa7xqyaU97q1zWy0mR1tZvubWXtgBrAUP5BWRMqxejVceCF07w79+oVOI5L7\nmjaF1q3hwQdDJ4mOpMeYOOemx9YOuRF/K+UdoKNzbk2sSUOgUVz7L8ysKzAePy14OXCec25+XJuF\nZtYXuCn2+AQ4zTn3YRKvux04HD/4tR6wAl+QXB/rcRGRMhQVwTnn+P+++27dwhHJlH79/O3T1ath\nr71CpwnP/Kzb/GRmLYHCwsJCjTGRvDduHFx5JTz3HHTsGDqNSP5Yuxb22cfPgBsyJHSaiosbY9LK\nObc4XefVygQiQmEhXHMNDBumokQk0+rXhy5ddDunmAoTkTz3ww9w5pnQogXcdFPoNCL5qV8/eOst\n+PDD8tvmOhUmInlu0CBYuRIKCqB69dBpRPJT166w227qNQEVJiJ57cEH4aGH/AqvBx0UOo1I/qpR\nw/dcPvSQH4iez1SYiOSp99/3q7r27w9nnRU6jYicfTYsXw4vvhg6SVgqTETy0PffQ8+evpdk0qTQ\naUQEoE0b/28y32/nqDARyTNFRf6T2dq18OSTUKtW6EQiAn7toH794PHHYePG0GnCUWEikmduugme\neQYefli7BotEzZ/+BD/+CDNmhE4SjgoTkTzy7LNwww0wYoRfN0FEoqVJEzj2WJgyJXSScFSYiOSJ\nzz7zg1y7doXrrgudRkQSOf98mD8fPv00dJIwVJiI5IHvv4dTT/UrTD74IFTRv3yRyOrdG3bf3e9Z\nlY/040kkx23bBr16+UXUZs+GevVCJxKRstSs6TfUvP9+2Lo1dJrMU2EiksOc8yu7vvyyn4HTtGno\nRCJSERdeCN9+62fo5BsVJiI5bMwYuPdeuOceOOGE0GlEpKKaNoWTTvKrMucbFSYiOeqJJ2D4cPjL\nX/zqriKSXS6+GF591a/SnE9UmIjkoNde8+shnHEG3Hhj6DQikorTToOGDfOv10SFiUiOefddv0ZJ\n69Z+LQTNwBHJTtWqwXnnwbRpftG1fKEfWSI55JNP4JRT/H4bTz8NO+8cOpGI7IgLLvBFyb/+FTpJ\n5qgwEckRy5fDySf79Q/mzIE6dUInEpEdtf/+flHEO+/0s+zygQoTkRywZg106OD/e9482HPPsHlE\nJH0GDoTFi+HNN0MnyQwVJiJZ7rvvoFMn/+f8+dCoUehEIpJOnTr5PXTGjw+dJDNUmIhksbVroX17\n+PJL31Ny8MGhE4lIulWtCsOGwfTp8PnnodNUPhUmIllq1So48URYsQJeeAFatAidSEQqy4ABsMce\nMHZs6CSVT4WJSBb65hu/kuu338JLL8Fhh4VOJCKVqWZNuOwyv3/OqlWh01QuFSYiWWb5cjj+eD+F\n8KWXoFmz0IlEJBMGDfJrm0yYEDpJ5VJhIpJFPvgA2rXzO46+9JLGlIjkk912g4sugkmTYMOG0Gkq\njwoTkSzx0ktwzDFQr55fcv6AA0InEpFMGzoUNm2Cu+4KnaTyqDARyQLTp/sVXVu2hFdegX33DZ1I\nRELYd1/o1w/GjYMtW0KnqRwqTEQibtw4vxlf795+Rde6dUMnEpGQrrrKD4B98MHQSSqHChORiNq6\n1d9PvvJKuOYav5FX9eqhU4lIaE2bQs+eMGYMbN8eOk36qTARiaAVK/x04ClT4L774OabtUuwiPzX\ntdf6TTunTg2dJP30o04kYv79b2jVCr76yo8nOffc0IlEJGqOOgrOPBOuu84vHZBLVJiIRIRzfhrg\nCSfAIYdAYSG0bh06lYhE1c03+z2ycm01WBUmIhHw7bfwP/8DgwfDxRf7zfgaNAidSkSirHFjvxrs\nmDH+9m+uUGEiEtj8+XD44X6dkiefhNtu86s7ioiU59pr/XL1110XOkn6qDARCWTrVr9jaIcO0Lw5\nvPeeH2kvIlJR9erBiBF+oPw774ROkx4qTEQCWLTID1677TZ/f3jePNhnn9CpRCQbXXSRH5c2bJgf\nq5btVJiIZNCGDXDppX6/mxo14I03/DolmgosIqmqVg1Gj4YFC/wijNlOPw5FMmTmTDj0UHjgAb+a\n66JFcMQRoVOJSC449VQ/o+/yy/1eOtlMhYlIJfvwQ+jaFXr08INcP/jA//DYaafQyUQkV5jB5Mmw\nfLlfsj6bqTARqSSrV8OgQb4YWbIEHnsMnnkG9t8/dDIRyUVNm/oxa5MmwbPPhk6TOhUmImm2cSOM\nGgUHHwyPPOL/e8kS6NXLf6oREaksF18MnTv7FaPXrAmdJjUqTETS5IcffBHSuLFfU6B/f/j0Uz+4\ntUaN0OlEJB+Y+f21fv4ZLrwwO2fpqDAR2UHr18NNN/mC5K9/9T0jn3zipwLXrx86nYjkm733hnvu\ngRkz4P77Q6dJnobfiaRo6VK44w4/y2bbNrjgArj6amjUKHQyEcl3PXv62zmXXQbHHw8HHRQ6UcWp\nx0QkCUVFfp2Azp39QLN//cv/w//8c7j9dhUlIhIdt97qe0+6doVVq0KnqTgVJiIVsHSpHzfSpAl0\n6eIHlU2ZAl9+Cf/4h1ZtFZHo2XVXmDvXj3/r2BHWrQudqGJ0K0ckgdWr/aZ606bBwoVQty6ccQac\ncw60aaMZNiISfQccAM8/D8cd53tO5s2DXXYJnapsKkxE4nzxBTz1lH+8+qpfKr5jR3j0UejeHXbe\nOXRCEZHk/Pa38Nxz0L69X+hx9uxo/yxTYSJ5bfNmeOUV/4li3jz4z3/81N4OHeDee/0yz3vuGTql\niMiO+f3v4emnoVMnOPNM/2ErqssYaIyJZFxBQUGw1964EV54wU/v7dABdtvN94g8/LDft+bRR/34\nkaef9iPac6UoCXnN85Wueebpmpft+OPhiSf8AP6jj/bbZURRSoWJmQ02s2VmttnMFpnZ78tpf4KZ\nFZrZFjNbamb9S2nT28yWxM75rpl1TuV1zexGM1thZpvM7Hkzy6JJUvkhUz88fvoJ3n3XD1K99FI4\n6ig/TuSkk/xOnNWqwciR8P778PXXMHUqnH66HzCWa/QDO/N0zTNP17x8XbrA66/7n4+tWvnl66O2\nCFvSt3LM7AzgFuBC4A1gKDDXzA5xzq0tpX1jYDYwCegLnAzca2YrnHPPx9q0Ax4BhgPPAGcBM8zs\nSOfchxV9XTMbDlwC9AO+AP4Ra9PcOfdTsu9VssPPP8OyZfDRR37p9yVLfEHywQf+Hx/45eHbtfMr\nIbZr53f5raL+QhHJQ0ccAW+95Tf7GzzYjz+5777o9BCnMsZkKHCXc24agJkNBLoC5wKjS2l/MfC5\nc+7q2Ncfm9kxsfM8Hzs2BJjjnBsX+/p6M+uALzIGJfG6lwF/d87NjrXpB6wCegDTU3ivEgHbtsHK\nlb5XY/lyX4SUfBQXILvsAs2awZFH+lsxRxwBLVrkZi+IiEiqatWCiRP/u6/OwQdDv35w0UV+sGxI\nSRUmZlYNaAX8s/iYc86Z2XygbYKntQHmlzg2Fxgf93VbfG9IyTanVfR1zawJ0BBYENdmg5m9Hmuj\nwiQw52DrVl9EfPaZn1O/bh18/73/c+1aP76j+LF6NXzzjf8zvqtx1139eiKNG/uBXAceCM2b+8c+\n+2gar4hIRXXrBu+9BxMm+F6T22+HY47xBUr37lCnTuYzJdtjUh+oiu+FiLcKaJrgOQ0TtK9jZjWc\nc1vLaNMwiddtCLhyzlPSzgBPPrmEt95K0CIDKnJ/L1Gb4uPO/fK/479f2qOo6Nd/FhXB9u3+6+3b\n//v1zz/7P4v/e9s2/+fPP/siY9s2/2fxY+tW2LLll4+NG2HTJn8OWM9BBy3+1XupW9cPRi1+HHig\nH6C1116+i7H4z7p1Sy8+Vq3KrtUNM2n9+vUsXvzray6VR9c883TNU9erF5x2Grz4oh8ge/bZ/vhe\ne/m1UIo/DO6yix+fV60arFy5pPjpaZ18nO/ThRsD3HTTnwLHyEetfnVk/Xr/+OKLzKfJB61a/fqa\nS+XSNc88XfP0Wr3aPxYtKrNZY+C1dL1msoXJWmA70KDE8QbAygTPWZmg/YZYb0lZbYrPWZHXXQlY\n7NiqEm3eTpBtLn6g7RfAlgRtRERE5Nd2xhclc9N50qQKE+fcNjMrBNoDswDMzGJf35bgaQuBklN/\nT4kdj29T8hwdituU87q3x9osM7OVsWP/ibWpAxwNTEzwfr7FzwYSERGR5KWtp6RYKrdyxgFTYoVC\n8bTdWsAUADO7GdjHOVe8VslkYLCZjQLuxxcOvYAuceecALxoZlfgpwv3wff1X1CB130grs2twHVm\n9im+F+TvwHJgZgrvU0RERDIs6cLEOTfdzOoDN+Jvk7wDdHTOrYk1aQg0imv/hZl1xc/CGYIvFM5z\nzs2Pa7PQzPoCN8UenwCnFa9hUsHXxTk32sxqAXcB9YBXgM5aw0RERCQ7mIvakm8iIiKSt7T2pYiI\niESGChMRERGJjJwvTCpjw0EpWzLX3Mx6mtk8M1ttZuvN7DUzOyWTeXNBsn/P4573BzPbZmZalSpJ\nKfxsqW5mN5nZF7GfL5+b2TkZipsTUrjmZ5nZO2a2Mba5631mtnum8mY7MzvWzGaZ2ddmVmRm3Svw\nnB3+HZrThUncxn83AEcC7+I39aufoH1j/IaDC4AW+NlC98b27ZEKSPaaA8cB8/BTylsCLwBPm1mL\nDMTNCSlc8+Ln1QWm8ustI6QcKV7zx4ATgQHAIfjZhx9XctSckcLP8z/g/37fAxyKnw3aGrg7I4Fz\nQ238RJNB+JXVy5Su36E5PfjVzBYBrzvnLot9bcBXwG3OuV9tOBib0tzZOXd43LECoK5zrkvJ9vJr\nyV7zBOd4H/iXc+4flZc0d6R6zWN/t5cCRfhZcC0zkTcXpPCzpRN+zaQDnHPfZzRsjkjhml8JDHTO\nHRx37BLgaufcfhmKnTPMrAjo4ZybVUabtPwOzdkek7iN/+I39XP4T4fJbjiYqL3ESfGalzyHAbsC\n31VGxlyT6jU3swFAE+BvlZ0x16R4zU8F3gKGm9lyM/vYzMaYWVr3GMlVKV7zhUAjM+scO0cDoDd+\nrSypHGn5HZqzhQllb/yXaFO/MjccTG+8nJTKNS/pKnz3oXaDrpikr7mZHYzfqfss51xR5cbLSan8\nPT8AOBb4LdADuAx/a6HUVanlV5K+5s6514A/AY+a2U/AN8A64JJKzJnv0vI7NJcLE8kysUX2/gr0\nds6tDZ0nF5lZFeBh4Abn3GfFhwNGyhdV8LfM+jrn3nLOPQdcAfTXh57KYWaH4sc4jMCPX+uI7yW8\nK2AsqYBc3l24sjYclMRSueYAmNmZ+EFpvZxzL1ROvJyU7DXfFTgKOMLMij+tV8HfRfsJOMU592Il\nZc0Vqfw9/wb42jn3Y9yxJfii8DfAZ6U+S4qlcs2vAf7tnBsX+/p9MxsEvGJmf3HOlfxkLzsuLb9D\nc7bHxDm3DSje+A/4xcZ/iTYdWhjfPqbkhoOSQIrXHDPrA9wHnBn7JCkVlMI13wAcBhyBHzXfAr+f\n1Uex/369kiNnvRT/nv8b2Mf8lhnFmuJ7UZZXUtSckeI1rwX8XOJYEX52iXoJK0d6foc653L2AZwO\nbAL6Ac3wXXjfAnvGvn8zMDWufWPgB2AU/ofGIOAn4OTQ7yVbHilc876xazwQX1kXP+qEfi/Z8kj2\nmpfy/BuAxaHfRzY9Uvh7Xhv4X+BRoDl+mvzHwOTQ7yVbHilc8/7A1tjPlibAH/AbwL4W+r1kyyP2\n97YF/oNMEXB57OtGCa55Wn6HBn/jGbiwg/A7DW/GV21HxX3vAeD/lWh/HL4y34zfTPDs0O8h2x7J\nXHP8uiXbS3ncH/p9ZNMj2b/nJZ6rwiQD1xy/dslc4MdYkTIaqBH6fWTTI4VrPhh4L3bNl+PXNdk7\n9PvIlgdwfKwgKfXnc2X9Ds3pdUxEREQku+TsGBMRERHJPipMREREJDJUmIiIiEhkqDARERGRyFBh\nIiIiIpGhwkREREQiQ4WJiIiIRIYKExEREYkMFSYiIiISGSpMREREJDJUmIiIiEhk/H9Iutf28quu\nmAAAAABJRU5ErkJggg==\n",
      "text/plain": [
       "<matplotlib.figure.Figure at 0x1046ca2d0>"
      ]
     },
     "metadata": {},
     "output_type": "display_data"
    }
   ],
   "source": [
    "import matplotlib.pyplot as plt\n",
    "import numpy as np\n",
    "\n",
    "def L(theta):\n",
    "    return (theta**7)*(1-theta)**3\n",
    "\n",
    "theta_grid = np.linspace(0,1,100)\n",
    "L_values = [L(a) for a in theta_grid]\n",
    "\n",
    "plt.plot(theta_grid, L_values)\n",
    "plt.show()"
   ]
  },
  {
   "cell_type": "markdown",
   "metadata": {},
   "source": [
    "## Ćwiczenie 2 (0,5 pkt)\n",
    "\n",
    "Symulator \"prawdziwej\" monety.\n",
    "\n",
    "Napisać funkcję flip_coin, która generuje wynik nb_flips rzutów monetą z prawdopodobieństwem wypadnięcia orła równym theta. Funkcja ma zwrócić tablicę zer i jedynek ($0$ - RESZKA, $1$ - ORZEŁ).\n"
   ]
  },
  {
   "cell_type": "code",
   "execution_count": 3,
   "metadata": {
    "collapsed": false
   },
   "outputs": [
    {
     "name": "stdout",
     "output_type": "stream",
     "text": [
      "[1, 1, 1, 1, 1, 1, 0, 1, 1, 1]\n"
     ]
    }
   ],
   "source": [
    "def flip_coin(theta, nb_flips):\n",
    "    probs = [theta, 1-theta]\n",
    "    items = [1,0]\n",
    "    result = [np.random.choice(items, p=probs) for x in range(nb_flips)]\n",
    "    assert len(result) == nb_flips\n",
    "    return result\n",
    "print flip_coin(0.7, 10)"
   ]
  },
  {
   "cell_type": "markdown",
   "metadata": {},
   "source": [
    "## Ćwiczenie 3 (1 pkt)\n",
    "\n",
    "Pierwszy model generatywny rzutu monetą.\n",
    "\n",
    "Napisać klasę CoinML (Maximum Likelihood) posiadającą metody fit i toss:\n",
    "- fit - przyjmuje listę obserwacji i oblicza self.theta korzystając z wzoru powyżej.\n",
    "- toss - generuje jeden rzut monetą z prawdopodobieństwem self.theta i zwraca 0 lub 1."
   ]
  },
  {
   "cell_type": "code",
   "execution_count": 4,
   "metadata": {
    "collapsed": false
   },
   "outputs": [
    {
     "name": "stdout",
     "output_type": "stream",
     "text": [
      "0.75\n"
     ]
    }
   ],
   "source": [
    "class CoinML(object):\n",
    "\n",
    "    def __init__(self):\n",
    "        self.theta = None\n",
    "\n",
    "    def fit(self, X):\n",
    "        self.theta = sum(X)/float(len(X))\n",
    "\n",
    "    def toss(self):\n",
    "        return np.random.choice([1,0], p=[self.theta, 1-self.theta])\n",
    "        \n",
    "coin = CoinML()\n",
    "data = [np.random.choice([1,0], p=[0.7, 0.3]) for x in range(100)]\n",
    "coin.fit(data)\n",
    "print sum([coin.toss() for x in range(100)])/100.0"
   ]
  },
  {
   "cell_type": "markdown",
   "metadata": {},
   "source": [
    "## Wzór Bayesa\n",
    "\n",
    "Załóżmy teraz, że w \"fabryce monet\" produkowane są tylko monety symetryczne ($\\theta = 0.5$) oraz monety z wadą ($\\theta = 0.6$).\n",
    "\n",
    "W 10 rzutach monetą otrzymaliśmy 7 orłów i 3 reszki. Jak teraz wybrać właściwe $\\theta$?\n",
    "\n",
    "Można np. porównać $L(0.5) < L(0.6)$ i zdecydować się na $\\theta=0.6$.\n",
    "\n",
    "Załóżmy inaczej - wiemy, że średnio co piąta moneta produkowana jest z wadą. Czy wtedy też wybierzemy $\\theta=0.6$? A jeśli tylko jedna na tysiąc jest wadliwa? Jak bardzo nieprawdopodobne musi być to, że nasza moneta jest wadliwa, abyśmy przestali wierzyć funkcji likelihood?"
   ]
  },
  {
   "cell_type": "markdown",
   "metadata": {},
   "source": [
    "https://xkcd.com/1132/\n",
    "\n",
    "https://www.explainxkcd.com/wiki/index.php/1132:_Frequentists_vs._Bayesians\n",
    "\n",
    "<img src=\"figures/L2/frequentists_vs_bayesians.png\">"
   ]
  },
  {
   "cell_type": "markdown",
   "metadata": {},
   "source": [
    "## Prawdopodobieństwo warunkowe - przypomnienie\n",
    "\n",
    "https://www.youtube.com/watch?v=H02B3aMNKzE\n",
    "\n",
    "<img src=\"figures/L2/cond_prob.jpg\">"
   ]
  },
  {
   "cell_type": "markdown",
   "metadata": {},
   "source": [
    "## Wzór Bayesa\n",
    "\n",
    "A - parametry rozkładu.\n",
    "B - obserwacja.\n",
    "\n",
    "$$P(A\\mid B) = \\frac{P(B\\mid A)\\,P(A)}{P(B)}$$\n",
    "\n",
    "Wersja rozszerzona, używana np. wtedy (w praktyce zawsze), gdy nie znamy prawdopodobieństwa B, ale znamy je z osobna dla każdego zestawu parametrów A.\n",
    "\n",
    "$$P(B) = {\\sum_j P(B\\mid A_j) P(A_j)}$$\n",
    "$$P(A_i\\mid B) = \\frac{P(B\\mid A_i)\\,P(A_i)}{\\sum\\limits_j P(B\\mid A_j)\\,P(A_j)}$$\n",
    "\n",
    "Prawdopodobieństwa $P(A_i)$ po prawej stronie wzoru nazywamy wiedzą a priori, $P(A_i\\mid B)$ po lewej wiedzą a posteriori. Gdy pojawią się nowe obserwacje, wiedza a posteriori staje się znowu wiedzą a priori i stosujemy wzór Bayesa kolejny raz ($P(A_i\\mid B_{\\mathrm{stare}})$ podstawiamy pod $P(A_i)$ i liczymy $P(A_i\\mid B_{\\mathrm{nowe}})$). Niezależnie od obserwacji $P(B\\mid A_i)$ nie ulega zmianie (dlaczego?).\n",
    "\n",
    "Wróćmy do przykładu, w którym średnio co piąta moneta jest wadliwa. Niech $A_1$ oznacza $\\theta = 0.5$, a $A_2$ oznacza $\\theta = 0.6$. B to nasze obserwacje - siedem orłów i trzy reszki. Wtedy:\n",
    "- $P(A_1) = \\frac45$,\n",
    "- $P(A_2) = \\frac15$,\n",
    "- $P(B\\mid A_1) = (\\frac12)^7(\\frac12)^3 = \\frac{1}{1024}$,\n",
    "- $P(B\\mid A_2) = (\\frac{6}{10})^7(\\frac{4}{10})^3 = \\frac{17496}{9765625}$,\n",
    "- $P(A_1\\mid B) = \\frac{ \\frac45 \\frac{1}{1024} }{ \\frac45 \\frac{1}{1024} + \\frac15 \\frac{17496}{9765625} } \\approx 0.686$\n",
    "- $P(A_2\\mid B) = \\frac{ \\frac15 \\frac{17496}{9765625} }{ \\frac45 \\frac{1}{1024} + \\frac15 \\frac{17496}{9765625} } \\approx 0.314$\n",
    "\n",
    "Czyli wciąż jest około dwa razy większa szansa, że rzucamy symetryczną monetą!"
   ]
  },
  {
   "cell_type": "markdown",
   "metadata": {},
   "source": [
    "#### Uwaga 1.\n",
    "Obserwacje można podać w dowolnej kolejności, można podawać je po jednej i stosować wzór wielokrotnie, można po kilka, można wszystkie jednocześnie, a wynik będzie ten sam...\n",
    "\n",
    "#### Uwaga 2.\n",
    "...teoretycznie, bo w praktyce jeśli obserwacji jest dużo, to mamy szansę uzyskać błędny wynik ze względu na numeryczną niestabilność."
   ]
  },
  {
   "cell_type": "markdown",
   "metadata": {},
   "source": [
    "# Najważniejsza rzecz do zrozumienia - robimy rozkład prawdopodobieństwa na rozkładach prawdopodobieństwa!\n",
    "\n",
    "<img src=\"figures/L2/dawg_bayes.jpg\">\n",
    "\n",
    "Nasza moneta jest opisana rozkładem prawdopodobieństwa na dwóch możliwych zdarzeniach elementarnych (wynikach rzutu) {ORZEŁ, RESZKA}:\n",
    "- $P(\\mathrm{ORZEŁ}) = \\theta$,\n",
    "- $P(\\mathrm{RESZKA}) = 1 - \\theta$.\n",
    "\n",
    "Na tych rozkładach robimy drugi rozkład prawdopodobieństwa:\n",
    "- $\\mathcal{P}(\\theta=0.5) = \\frac45$,\n",
    "- $\\mathcal{P}(\\theta=0.6) = \\frac15$.\n",
    "\n",
    "Rozkłady $P$ **nie ulegają zmianie**. Jest to rodzina wszystkich możliwych rozkładów, które bierzemy pod uwagę (w tym wypadku mamy dwa rozkłady dla dwóch różnych $\\theta$; zawsze zakładamy, że dokładnie jeden z nich jest \"prawdziwy\").\n",
    "\n",
    "Rozkład $\\mathcal{P}$ **ulega zmianie** po każdej nowej obserwacji."
   ]
  },
  {
   "cell_type": "markdown",
   "metadata": {},
   "source": [
    "## Dwa sposoby interpretowania prawdopodobieństwa\n",
    "\n",
    "1. Jako cecha pewnego obiektu ($P$ jest \"wbudowaną\" własnością monety).\n",
    "\n",
    "2. Jako stan naszej wiedzy o świecie ($\\mathcal{P}$ nie jest cechą żadnej istniejącej rzeczy, dlatego może ulegać zmianom).\n",
    "\n",
    "Jeśli interpretujemy $\\mathcal{P}$ jako wiedzę, to nie powinna nas dziwić Uwaga 1.\n",
    "\n",
    "Przy dużej liczbie obserwacji cała gęstość rozkładu $\\mathcal{P}$ zaczyna koncentrować się bardzo blisko wokół prawdziwego $P$.\n",
    "\n",
    "Zazwyczaj jeśli rozkład $P$ zależy od parametrów - w tym wypadku $\\theta$ - to te parametry piszemy w indeksie dolnym. Jeśli rozpatrujemy wszystkie możliwe $\\theta$, to napisalibyśmy, że $\\{P_\\theta\\}_{\\theta\\in[0,1]}$ jest sparametryzowaną rodziną rozkładów prawdopodobieństwa.\n",
    "\n",
    "W bardziej skomplikowanych problemach nie da się sensownie sparametryzować kilkoma liczbami wszystkich możliwych rozkładów prawdopodobieństwa, ale mimo to czasem staramy się to zrobić. Dzięki temu można próbować udowadniać twierdzenia, które zakładają uproszczony obraz świata, a następnie stosować je jako heurystyki.\n",
    "\n",
    "Z punktu widzenia wzoru Bayesa rodzina rozpatrywanych rozkładów prawdopodobieństwa nie musi być wcale sparametryzowana - jeśli mamy zbiór takich rozkładów, to możemy je po prostu ponumerować i piszemy wtedy np. $\\mathcal{P}(P_1) = 0.7, \\mathcal{P}(P_2) = 0.1, \\mathcal{P}(P_3) = 0.15, \\ldots$"
   ]
  },
  {
   "cell_type": "markdown",
   "metadata": {},
   "source": [
    "#### Uwaga 3.\n",
    "\n",
    "Jeśli przyjmiemy, że pewien rozkład $P$ ma a priori $\\mathcal{P}$ równe zero, to $\\mathcal{P}$ a posteriori też będzie równe zero, niezależnie od siły dowodów przemawiających za tym konkretnym $P$. Dlatego nie należy wykluczać a priori żadnego $P$, jeśli nie jesteśmy całkowicie pewni, że jest ono niemożliwe.\n",
    "\n",
    "Przy braku wiedzy a priori trzeba tak dobrać $\\mathcal{P}$, aby wszędzie było niezerowe (np. jeśli bierzemy pod uwagę $n$ różnych rozkładów $P$, to $\\mathcal{P}$ jest równe stale $\\frac1n$; jeśli rozkłady są sparametryzowane odcinkiem $[a,b]$, to $\\mathcal{P}$ jest rozkładem jednostajnym na tym odcinku; jeśli rozkłady są sparametryzowane całą prostą rzeczywistą, to $\\mathcal{P}$ oczywiście nie może być rozkładem jednostajnym, wtedy używamy np. rozkładu Gaussa o średniej zero i wariancji jeden; itd.).\n",
    "\n",
    "#### Uwaga 4.\n",
    "\n",
    "W wypadku rzutu monetą mamy tylko dwa możliwe zdarzenia elementarne, więc wszystkie rozkłady można sparametryzować odcinkiem $[0,1]$.\n",
    "\n",
    "Dla kostki sześciennej jest podobnie - jest sześć zdarzeń elementarnych, więc wszystkie rozkłady można sparametryzować szóstkami nieujemnych liczb rzeczywistych, które sumują się do jedności (5-wymiarowy sympleks w $\\mathbb{R}^6$).\n",
    "\n",
    "W obu powyższych przypadkach zdarzeń elementarnych jest skończenie wiele, a możliwych rozkładów continuum.\n",
    "\n",
    "Ale co się dzieje, gdy zdarzeń elementarnych jest nieskończenie wiele? Można np. powiedzieć, że przestrzeń kolorów jest ciągła i wtedy wszystkich możliwych obrazków jest nieskończenie wiele (continuum). Da się udowodnić, że możliwych rozkładów prawdopodobieństwa $P$ wciąż jest continuum, ale ciężko nadać im jakąkolwiek strukturę i zdefiniować $\\mathcal{P}$ jako rozkład jednostajny na niej."
   ]
  },
  {
   "cell_type": "markdown",
   "metadata": {},
   "source": [
    "## Podejście maximum a posteriori\n",
    "\n",
    "Zasada postępowania jest prosta:\n",
    "1. Mamy dany pewien rozkład a priori oraz obserwacje.\n",
    "2. Korzystając ze wzoru Bayesa obliczamy rozkład a posteriori.\n",
    "3. Wybieramy ten rozkład $P$, którego prawdopodobieństwo a posteriori jest największe."
   ]
  },
  {
   "cell_type": "markdown",
   "metadata": {},
   "source": [
    "## Ćwiczenie 4 (1 pkt)\n",
    "\n",
    "Napisać klasę CoinMAP (Maximum A Posteriori) posiadającą metody fit i toss:\n",
    "- konstruktor - przyjmuje prior, który może np. być słownikiem (klucz - $\\theta$, wartość - jej prawdopodobieństwo a priori),\n",
    "- fit - przyjmuje listę obserwacji i uaktualnia self.knowledge, korzystając ze wzoru Bayesa, a następnie ustawia self.theta wybierając odpowiednią wartość z self.knowledge,\n",
    "- toss - generuje jeden rzut monetą z prawdopodobieństwem self.theta i zwraca 0 lub 1."
   ]
  },
  {
   "cell_type": "code",
   "execution_count": 60,
   "metadata": {
    "collapsed": false,
    "scrolled": true
   },
   "outputs": [
    {
     "name": "stdout",
     "output_type": "stream",
     "text": [
      "model.knowledge powinno wyjść {0.5: 0.686, 0.6: 0.314}\n",
      "{0.5: 0.686, 0.6: 0.314}\n",
      "Powinno wyjść 0.5: 0.5\n",
      "Powinno wyjść 1: 1.0\n",
      "model.knowledge powinno wyjść {0.5: 0.362, 0.6: 0.265, 0.8: 0.373}\n",
      "{0.5: 0.362, 0.6: 0.265, 0.8: 0.373}\n",
      "Powinno wyjść 0.8: 0.8\n",
      "Powinno wyjść 1: 1.0\n"
     ]
    }
   ],
   "source": [
    "import numpy as np\n",
    "\n",
    "class CoinMAP(object):\n",
    "\n",
    "    def __init__(self, prior):\n",
    "        self.knowledge = prior\n",
    "        self.theta = 0\n",
    "        \n",
    "    def compute(self, x, y, X):\n",
    "        p = sum(X)\n",
    "        r = len(X) - p\n",
    "        return y*((x**p)*((1-x)**r))\n",
    "    \n",
    "    def fit(self, X):\n",
    "        m = 0\n",
    "        new_knowledge = {}\n",
    "        for i,j in self.knowledge.iteritems():\n",
    "            v = self.compute(i,j,X)\n",
    "            s = sum([self.compute(i1,j1,X) \n",
    "                     for i1,j1 in self.knowledge.iteritems()])\n",
    "            v /= s\n",
    "            v = round(v,3)\n",
    "            new_knowledge[i] = v\n",
    "            if m < v:\n",
    "                m = v\n",
    "                self.theta = i\n",
    "        self.knowledge = new_knowledge\n",
    "        \n",
    "    def toss(self):\n",
    "        return np.random.choice([1,0], p=[self.theta, 1-self.theta])\n",
    "\n",
    "model = CoinMAP({0.5: 0.8, 0.6: 0.2})\n",
    "model.fit(np.array([1,0,1,1,1,0,0,1,1,1]))\n",
    "print \"model.knowledge powinno wyjść {0.5: 0.686, 0.6: 0.314}\"\n",
    "print model.knowledge\n",
    "print \"Powinno wyjść 0.5:\", model.theta\n",
    "print \"Powinno wyjść 1:\", sum(model.knowledge.values())\n",
    "\n",
    "model = CoinMAP({0.5: 0.5, 0.6: 0.2, 0.8: 0.3})\n",
    "model.fit(np.array([1,0,1,1,1,0,0,1,1,1]))\n",
    "print \"model.knowledge powinno wyjść {0.5: 0.362, 0.6: 0.265, 0.8: 0.373}\"\n",
    "print model.knowledge\n",
    "print \"Powinno wyjść 0.8:\", model.theta\n",
    "print \"Powinno wyjść 1:\", sum(model.knowledge.values())"
   ]
  },
  {
   "cell_type": "markdown",
   "metadata": {},
   "source": [
    "## Jedyne Słuszne Podejście - całka po rozkładzie a posteriori\n",
    "\n",
    "Dotychczas korzystaliśmy tylko z części wiedzy na temat rozkładów - dlaczego nie użyć jej całej?\n",
    "\n",
    "Jeśli wiemy, że z prawdopodobieństwem 0.686 prawdopodobieństwo wypadnięcia orła wynosi 0.5, a z prawdopodobieństwem 0.314 prawdopodobieństwo wypadnięcia orła wynosi 0.6, to jakie jest ostateczne prawdopodobieństwo wypadnięcia orła?\n",
    "\n",
    "$$P(\\mathrm{ORZEŁ}) = \\mathcal{P}(\\theta = 0.5)P(\\mathrm{ORZEŁ} \\mid \\theta = 0.5) + \\mathcal{P}(\\theta = 0.6)P(\\mathrm{ORZEŁ} \\mid \\theta = 0.6) = 0.686 * 0.5 + 0.314 * 0.6 \\approx 0.531 $$\n",
    "\n",
    "W wersji z większą liczbą możliwych wartości $\\theta$:\n",
    "$$P(\\mathrm{ORZEŁ}) = \\sum_{\\theta_j} \\mathcal{P}(\\theta = \\theta_j)P(\\mathrm{ORZEŁ} \\mid \\theta = \\theta_j) = \\sum_{\\theta_j} \\mathcal{P}(\\theta = \\theta_j)\\theta_j $$\n",
    "\n",
    "#### Uwaga 5.\n",
    "\n",
    "Opisane tu podejście jest jedynym poprawnym sposobem uczenia się rozkładu danych na podstawie obserwacji. Nie będzie niespodzianką fakt, że w praktyce jest ono niewykonalne..."
   ]
  },
  {
   "cell_type": "markdown",
   "metadata": {},
   "source": [
    "## Ćwiczenie 5 (2 pkt)\n",
    "\n",
    "Napisać klasę CoinBest, która działa jak CoinMAP z tą różnicą, że self.theta jest obliczane powyższym wzorem, a nie wybierane spośród wartości self.knowledge."
   ]
  },
  {
   "cell_type": "code",
   "execution_count": 65,
   "metadata": {
    "collapsed": false
   },
   "outputs": [
    {
     "name": "stdout",
     "output_type": "stream",
     "text": [
      "model.knowledge powinno wyjść {0.5: 0.686, 0.6: 0.314}\n",
      "{0.5: 0.686, 0.6: 0.314}\n",
      "Powinno wyjść około 0.53: 0.5314\n",
      "Powinno wyjść 1: 1.0\n",
      "model.knowledge powinno wyjść {0.5: 0.362, 0.6: 0.265, 0.8: 0.373}\n",
      "{0.5: 0.362, 0.6: 0.265, 0.8: 0.373}\n",
      "Powinno wyjść około 0.64: 0.6384\n",
      "Powinno wyjść 1: 1.0\n"
     ]
    }
   ],
   "source": [
    "class CoinBest(object):\n",
    "\n",
    "    def __init__(self, prior):\n",
    "        self.knowledge = prior\n",
    "        self.theta = None\n",
    "              \n",
    "    def compute(self, x, y, X):\n",
    "        p = sum(X)\n",
    "        r = len(X) - p\n",
    "        return y*((x**p)*((1-x)**r))\n",
    "    \n",
    "    def fit(self, X):\n",
    "        m = 0\n",
    "        new_knowledge = {}\n",
    "        self.theta = 0\n",
    "        for i,j in self.knowledge.iteritems():\n",
    "            v = self.compute(i,j,X)\n",
    "            s = sum([self.compute(i1,j1,X) \n",
    "                     for i1,j1 in self.knowledge.iteritems()])\n",
    "            v /= s\n",
    "            v = round(v,3)\n",
    "            new_knowledge[i] = v\n",
    "            v *= i\n",
    "            self.theta += v\n",
    "        self.knowledge = new_knowledge\n",
    "\n",
    "    def toss(self):\n",
    "        return np.random.choice([1,0], p=[self.theta, 1-self.theta])\n",
    "\n",
    "model = CoinBest({0.5: 0.8, 0.6: 0.2})\n",
    "model.fit(np.array([1,0,1,1,1,0,0,1,1,1]))\n",
    "print \"model.knowledge powinno wyjść {0.5: 0.686, 0.6: 0.314}\"\n",
    "print model.knowledge\n",
    "print \"Powinno wyjść około 0.53:\", model.theta\n",
    "print \"Powinno wyjść 1:\", sum(model.knowledge.values())\n",
    "\n",
    "model = CoinBest({0.5: 0.5, 0.6: 0.2, 0.8: 0.3})\n",
    "model.fit(np.array([1,0,1,1,1,0,0,1,1,1]))\n",
    "print \"model.knowledge powinno wyjść {0.5: 0.362, 0.6: 0.265, 0.8: 0.373}\"\n",
    "print model.knowledge\n",
    "print \"Powinno wyjść około 0.64:\", model.theta\n",
    "print \"Powinno wyjść 1:\", sum(model.knowledge.values())"
   ]
  },
  {
   "cell_type": "markdown",
   "metadata": {},
   "source": [
    "## Porównanie powyższych metod\n",
    "\n",
    "Wybiegnijmy trochę do przodu:\n",
    "- ML jest najgorsze, ale najprostsze,\n",
    "- ML z sensowną regularyzacją ma przybliżać MAP,\n",
    "- MAP przy dużej liczbie obserwacji przybliża całkę po rozkładzie a posteriori.\n"
   ]
  },
  {
   "cell_type": "markdown",
   "metadata": {},
   "source": [
    "## Metoda Monte Carlo\n",
    "(tak naprawdę metody, bo jest ich wiele, ale wszystkie opierają się na jednym prostym pomyśle)\n",
    "\n",
    "Przykład:\n",
    "\n",
    "Załóżmy, że opracowaliśmy nową strategię gry w Blackjacka, która zakłada m.in. zliczanie schodzących kart. Zanim zaczniemy stosować ją w kasynie chcemy upewnić się, że faktycznie jest ona skuteczna, to znaczy średnia wygrana jest większa od zera (albo średnia wygrana na godzinę gry jest większa od płacy minimalnej).\n",
    "\n",
    "Krupier gra deterministycznie, więc przebieg gry zależy tylko i wyłącznie od kolejności kart w talii. Niestety, takich ułożeń jest bardzo dużo, a ponadto zasady Blackjacka przewidują kilka specjalnych sytuacji, przez co bardzo ciężko (jeśli jest to w ogóle możliwe) zapisać wzór na średnią wygraną. Co zrobić w takiej sytuacji?\n",
    "\n",
    "Rozwiązanie:\n",
    "\n",
    "Skoro krupier jest deterministyczny, to rozgrywamy bardzo dużo (im więcej, tym lepiej) gier z symulowanym krupierem i uśredniamy wygrane.\n",
    "\n",
    "Monte Carlo!\n",
    "\n",
    "#### Uwaga 6.\n",
    "\n",
    "Jeśli tylko da się nie używać Monte Carlo, to należy nie używać Monte Carlo. Ale zazwyczaj się nie da."
   ]
  },
  {
   "cell_type": "markdown",
   "metadata": {},
   "source": [
    "## Paradoks Monty'ego Halla\n",
    "\n",
    "Przeliczmy jeszcze raz przykład z wykładu, korzystając ze wzoru Bayesa.\n",
    "\n",
    "Przypomnienie:\n",
    "\n",
    "Mamy trzy bramki, za jedną z nich znajduje się nagroda, za pozostałymi dwiema koza. Gracz wybiera jedną z trzech bramek. Prowadzący grę, który zna położenie nagrody, odsłania jedną z pozostałych dwóch bramek, przy czym zawsze w odsłoniętej bramce znajduje się koza. Gracz ma teraz możliwość zmiany bramki.\n",
    "\n",
    "Wersja z piorunem: po wybraniu bramki piorun trafia losowo w jedną z pozostałych dwóch i odsłania jej zawartość. Gracz ma możliwość zmiany bramki na drugą zasłoniętą.\n",
    "\n",
    "Zastanówmy się chwilę, jak zdefiniować $P$ i $\\mathcal{P}$. Interesującą nas wielkością jest prawdopodobieństwo wygranej po wybraniu pewnej ustalonej bramki. Załóżmy na chwilę, że nagroda znajduje się w pierwszej bramce. Wtedy prawdopodobieństwo wygranej przy wybraniu pierwszej bramki wynosi 100%, natomiast w wypadku drugiej i trzeciej jest to oczywiście 0%. Mówienie w tym miejscu o prawdopodobieństwach może wydawać się sztuczne, ale jest to konieczne, aby móc zastosować wzór Bayesa. Możemy myśleć o trzech bramkach jako o trzech monetach, z których dokładnie jedna ma $\\theta = 1$, a pozostałe dwie $0$.\n",
    "\n",
    "Jeśli trzy bramki zwracają nagrody z prawdopodobieństwami odpowiednio $\\theta_1$, $\\theta_2$ i $\\theta_3$, to zapiszemy taką sytuację jako:\n",
    "$$P \\sim (\\theta_1, \\theta_2, \\theta_3)$$\n",
    "\n",
    "W takim razie mamy dokładnie trzy możliwości:\n",
    "- $P_1 \\sim (1,0,0)$,\n",
    "- $P_2 \\sim (0,1,0)$,\n",
    "- $P_3 \\sim (0,0,1)$.\n",
    "\n",
    "Każda z nich jest a priori jednakowo prawdopodobna, możemy więc zapisać:\n",
    "- $\\mathcal{P}(P_1) = \\frac13$,\n",
    "- $\\mathcal{P}(P_2) = \\frac13$,\n",
    "- $\\mathcal{P}(P_3) = \\frac13$.\n",
    "\n",
    "Załóżmy teraz, że gracz wybrał na początku bramkę nr 1. Prowadzący odsłonił bramkę nr 2 i była tam koza. Jak zmieniła się wartość $\\mathcal{P}$? Zauważmy, że:\n",
    "- $P(\\mathrm{obserwacja}\\mid P_1) = \\frac12$ - ponieważ jeśli nagroda jest w pierwszej bramce, to prowadzący losowo odsłania bramkę nr 2 lub nr 3,\n",
    "- $P(\\mathrm{obserwacja}\\mid P_2) = 0$ - nagroda nie może być w bramce z kozą,\n",
    "- $P(\\mathrm{obserwacja}\\mid P_3) = 1$ - prowadzący musi odsłonić bramkę nr 2.\n",
    "\n",
    "Podstawiając do wzoru Bayesa (proszę przeliczyć to przynajmniej raz na kartce) otrzymamy ostatecznie:\n",
    "- $\\mathcal{P}(P_1\\mid\\mathrm{obserwacja}) = \\frac13$,\n",
    "- $\\mathcal{P}(P_2\\mid\\mathrm{obserwacja}) = 0$,\n",
    "- $\\mathcal{P}(P_3\\mid\\mathrm{obserwacja}) = \\frac23$\n",
    "\n",
    "na końcu dla każdej bramki liczymy prawdopodobieństwo wylosowania nagrody po wyborze tejże bramki - oczywiście w tym celu liczymy całkę po rozkładzie a posteriori i otrzymujemy prawdopodobieństwa: $\\frac13 * 1 + 0 * 0 + \\frac23 * 0 = \\frac13, \\frac13 * 0 + 0 * 1 + \\frac23 * 0 = 0, \\frac13 * 0 + 0 * 0 + \\frac23 * 1 = \\frac23$. Dlatego opłaca się zmienić bramkę na trzecią.\n",
    "\n",
    "Wersja z piorunem: gracz wybrał na początku bramkę nr 1. Piorun uderzył w bramkę nr 2 i była tam koza. Jak zmieniła się wartość $\\mathcal{P}$? Zauważmy, że:\n",
    "- $P(\\mathrm{obserwacja}\\mid P_1) = \\frac12$ - piorun uderza losowo,\n",
    "- $P(\\mathrm{obserwacja}\\mid P_2) = 0$ - nagroda nie może być w bramce z kozą,\n",
    "- $P(\\mathrm{obserwacja}\\mid P_3) = \\frac12$ - piorun uderza losowo.\n",
    "\n",
    "Podstawiając do wzoru Bayesa (proszę przeliczyć to przynajmniej drugi raz na kartce) otrzymamy ostatecznie:\n",
    "- $\\mathcal{P}(P_1\\mid\\mathrm{obserwacja}) = \\frac12$,\n",
    "- $\\mathcal{P}(P_2\\mid\\mathrm{obserwacja}) = 0$,\n",
    "- $\\mathcal{P}(P_3\\mid\\mathrm{obserwacja}) = \\frac12$\n",
    "\n",
    "a po policzeniu całek po rozkładzie a posteriori otrzymamy prawdopodobieństwa $\\frac12, 0, \\frac12$ i dlatego nie ma znaczenia, czy zmienimy bramkę na trzecią.\n",
    "\n",
    "Pytanie kontrolne - dlaczego musimy liczyć całki po rozkładzie a posteriori, skoro wynik wychodzi taki sam, jak rozkład a posteriori?"
   ]
  },
  {
   "cell_type": "markdown",
   "metadata": {},
   "source": [
    "## Ćwiczenie 6 (1 pkt)\n",
    "\n",
    "Zasymulować metodą Monte Carlo przebieg rozgrywki dla gracza, który:\n",
    "- nie zmienia bramki,\n",
    "- zawsze zmienia bramkę,\n",
    "\n",
    "w przypadku:\n",
    "- zwykłym,\n",
    "- z piorunem, a jeśli trafi w nagrodę to:\n",
    "\t- powtórka,\n",
    "\t- przegrana.\n",
    "\n",
    "Wypisać średnią wygraną."
   ]
  },
  {
   "cell_type": "code",
   "execution_count": 128,
   "metadata": {
    "collapsed": false
   },
   "outputs": [
    {
     "name": "stdout",
     "output_type": "stream",
     "text": [
      "Change Lightning repeat\n",
      "0      0         0     0.33\n",
      "0      1         1     0.5\n",
      "0      1         0     0.32\n",
      "1      0         0     0.66\n",
      "1      1         1     0.51\n",
      "1      1         0     0.33\n"
     ]
    }
   ],
   "source": [
    "def _open(possible, win):\n",
    "    if win in possible:\n",
    "        return [x for x in possible if win != x][0]\n",
    "    else:\n",
    "        return np.random.choice(possible)\n",
    "\n",
    "def monte_carlo(change, lghtg, repeat):\n",
    "    results = []\n",
    "    for i in range(3000):\n",
    "        possible = [0,1,2]\n",
    "        win = np.random.choice(possible)#losujemy wygrana bramke\n",
    "        choice = np.random.choice(possible)#losujemy wybor\n",
    "        possible.remove(choice)#usuwamy wybor\n",
    "        if lghtg:\n",
    "            destroyed = np.random.choice(possible) #losujemy zesputa\n",
    "            if destroyed == win: \n",
    "                if repeat:\n",
    "                    continue\n",
    "                else:\n",
    "                    results.append(False)\n",
    "                    continue\n",
    "            else:\n",
    "                possible.remove(destroyed)\n",
    "        else:\n",
    "            opened = _open(possible, win)\n",
    "            possible.remove(opened)\n",
    "        if change:\n",
    "            choice = possible[0]\n",
    "        results.append(win == choice)\n",
    "    return sum([1 for x in results if x])/float(len(results))\n",
    "\n",
    "config = [['Change', 'Lightning', 'repeat'],\n",
    "         [0,0,0],[0,1,1],[0,1,0],[1,0,0],[1,1,1],[1,1,0]]\n",
    "\n",
    "print '%s %s %s' % tuple(config[0])\n",
    "for con in config[1:]:\n",
    "    \n",
    "    print '%s      %s         %s     %s' % tuple(con +[round(monte_carlo(*con), 2)])\n",
    "\n",
    "# spodziewany wynik:\n",
    "#  - bez zmiany bramki:\n",
    "#     - zwykły: 1/3\n",
    "#     - piorun z powtórką: 1/2\n",
    "#     - piorun z przegraną: 1/3\n",
    "#  - ze zmianą bramki:\n",
    "#     - zwykły: 2/3\n",
    "#     - piorun z powtórką: 1/2\n",
    "#     - piorun z przegraną: 1/3"
   ]
  },
  {
   "cell_type": "markdown",
   "metadata": {},
   "source": [
    "## Ćwiczenie 7 (1 pkt)\n",
    "\n",
    "Losujemy $k=100$ razy liczbę od $1$ do $m=200$ z rozkładem jednostajnym. Ile średnio różnych liczb wylosujemy?\n",
    "Rozwiązać metodą Monte Carlo.\n",
    "\n",
    "https://math.dartmouth.edu/archive/m19w03/public_html/Section6-5.pdf - czy wynik zgadza się z tw. 6.14?\n"
   ]
  },
  {
   "cell_type": "code",
   "execution_count": 141,
   "metadata": {
    "collapsed": false
   },
   "outputs": [
    {
     "name": "stdout",
     "output_type": "stream",
     "text": [
      "78.879 =?= 186.602032514\n"
     ]
    }
   ],
   "source": [
    "def f(k, m, nb_simulations):\n",
    "    m = range(m) # od 0 do 199 ale to bez znaczenia w eksperymencie\n",
    "    result = []\n",
    "    for _ in range(nb_simulations):\n",
    "        res = []\n",
    "        for _ in range(k):\n",
    "            res.append(np.random.choice(m))\n",
    "        result.append(len(set(res)))\n",
    "    avg_nb_integers = np.mean(result)\n",
    "    return avg_nb_integers\n",
    "\n",
    "k = 100\n",
    "m = 200\n",
    "print f(k, m, nb_simulations=1000), \"=?=\", m - (k * (1 - 1/float(k))**m)\n",
    "#NIE"
   ]
  },
  {
   "cell_type": "markdown",
   "metadata": {},
   "source": [
    "## Rozkład Gaussa - przypomnienie\n",
    "\n",
    "Spróbujmy zaprzyjaźnić się z n-wymiarowym rozkładem Gaussa.\n",
    "\n",
    "wzór na gęstość rozkładu gaussa:\n",
    "\n",
    "$$f(x \\; | \\; \\mu, \\sigma^2) = \\frac{1}{\\sqrt{2\\sigma^2\\pi} } \\; e^{ -\\frac{(x-\\mu)^2}{2\\sigma^2} }$$\n",
    "\n",
    "wersja n-wymiarowa:\n",
    "https://en.wikipedia.org/wiki/Multivariate_normal_distribution\n",
    "\n",
    "Macierz kowariancji rozkładu n-wymiarowego musi być dodatnio określona."
   ]
  },
  {
   "cell_type": "markdown",
   "metadata": {},
   "source": [
    "## Ćwiczenie 8 (2 pkt)\n",
    "\n",
    "Napisać funkcję, która przyjmuje parametry rozkładu normalnego: średnią oraz macierz kowariancji, liczbę sampli, a następnie sampluje punkty z tego rozkładu i rysuje na plaszczyźnie. Ponadto na rysunku należy zaznaczyć strzałkami wektory własne macierzy kowariancji (punkt zaczepienia to średnia rozkładu normalnego) i wypisać odpowiadające im wartości własne.\n",
    "\n",
    "Narysować powyższe dla kilku różnych losowo wybranych średnich i macierzy kowariancji (http://stackoverflow.com/questions/619335/a-simple-algorithm-for-generating-positive-semidefinite-matrices).\n"
   ]
  },
  {
   "cell_type": "code",
   "execution_count": 3,
   "metadata": {
    "collapsed": false
   },
   "outputs": [
    {
     "name": "stdout",
     "output_type": "stream",
     "text": [
      "[ 1.  1.]\n"
     ]
    },
    {
     "data": {
      "image/png": "iVBORw0KGgoAAAANSUhEUgAAAgMAAAFkCAYAAAC9wjgoAAAABHNCSVQICAgIfAhkiAAAAAlwSFlz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\n+T9gRtdnTLLvmwAAAABJRU5ErkJggg==\n",
      "text/plain": [
       "<matplotlib.figure.Figure at 0x1045d2dd0>"
      ]
     },
     "metadata": {},
     "output_type": "display_data"
    }
   ],
   "source": [
    "import matplotlib.pyplot as plt\n",
    "import numpy as np\n",
    "mean = [0,0]\n",
    "cov = np.array([[1,0],[0,1]])\n",
    "def plot(mean, cov):\n",
    "    samples = np.random.multivariate_normal(mean, cov, size=1000)\n",
    "#     print samples\n",
    "    eigenvalues, eigenvectors = np.linalg.eig(cov)\n",
    "    print eigenvalues\n",
    "    \n",
    "    w, v = np.linalg.eig(cov)\n",
    "    plt.scatter(samples[:,0], samples[:,1], color='b')\n",
    "    plt.arrow(mean[0], mean[1], eigenvectors[0][0], eigenvectors[0][1], head_width=0.05, head_length=0.1, fc='k', ec='k')\n",
    "    plt.arrow(mean[0], mean[1], eigenvectors[1][0], eigenvectors[1][1], head_width=0.05, head_length=0.1, fc='k', ec='k')\n",
    "\n",
    "    plt.show()\n",
    "\n",
    "plot(mean, cov)\n",
    "# wynik: spodziewamy się elipsy o środku w średniej rozkładu,\n",
    "# tam też powinna być największa gęstość samplowanych punktów;\n",
    "# wektory własne powinny wskazywać kierunki osi elipsy;\n",
    "# jaki jest związek wartości własnych z długościami osi elipsy?"
   ]
  },
  {
   "cell_type": "markdown",
   "metadata": {},
   "source": [
    "## Ćwiczenie 9 (4 pkt)\n",
    "\n",
    "Załóżmy, że mamy dane pochodzące dwuwymiarowego rozkładu normalnego o macierzy kowariancji będącej identycznością i średniej $\\mu$. Będziemy estymowali $\\mu$ korzystając z wzoru Bayesa.\n",
    "\n",
    "1. Stworzyć siatkę 100x100 na kwadracie $[0,1]^2$ - to będą nasze potencjalne średnie.\n",
    "2. Wylosować jeden punkt z siatki - to będzie \"prawdziwa\" średnia rozkładu. Oczywiście model jej nie zna.\n",
    "3. Przyjąć jednostajny rozkład a priori (użyć floatów z największą możliwą precyzją), trzymać go w tablicy knowledge.\n",
    "4. Powtórzyć nb_iters razy:\n",
    "    - wygenerować nb_samples sampli z prawdziwego rozkładu,\n",
    "    - uaktualnić knowledge na podstawie obserwacji,\n",
    "    - narysować knowledge jako dwuwymiarowy heatmap.\n",
    "\n",
    "Sprawdzić, co się stanie, gdy:\n",
    "1. Siatka punktów będzie rzadsza, a prawdziwa średnia rozkładu będzie poza siatką.\n",
    "2. Średnia rozkładu znajdzie się całkowicie poza badanym kwadratem, np. w punkcie $(1.2, 0.7)$.\n",
    "3. Na początku wylosujemy 2 punkty z siatki - $\\mu_1$ i $\\mu_2$ - a następnie obserwacje będziemy samplować naprzemian z dwóch rozkładów gaussa, przy czym cały czas estymujemy $\\mu$ tak, jak gdyby istniało dokładnie jedno prawdziwe."
   ]
  },
  {
   "cell_type": "code",
   "execution_count": 8,
   "metadata": {
    "collapsed": false
   },
   "outputs": [],
   "source": [
    "import random\n",
    "import matplotlib.pyplot as plt\n",
    "import numpy as np\n",
    "from scipy.stats import multivariate_normal\n",
    "from itertools import izip_longest # for Python 2.x\n",
    "import collections\n",
    "\n",
    "cov = np.array([[1,0],[0,1]])\n",
    "def plot(knowledge, n):\n",
    "    im = []\n",
    "    heat = collections.OrderedDict(sorted(knowledge.items())).values()\n",
    "    for e in range(n):\n",
    "        im.append(heat[n * e:n * (e + 1)])\n",
    "    fig, ax1 = plt.subplots(1,1)\n",
    "    ax1.matshow(im)\n",
    "    plt.show()\n",
    "    \n",
    "def compute(i, j,  samples):\n",
    "    return j*np.mean([multivariate_normal.pdf(x, mean=i, cov=cov) for x in samples])\n",
    "\n",
    "def gauss(n, nb_iters, nb_samples, mean=None):\n",
    "    means = [(x, y) for x in np.linspace(0, 1, n) for y in np.linspace(0, 1, n)]\n",
    "    if not mean:\n",
    "        mean = random.choice(means)\n",
    "    print mean\n",
    "    knowledge = {x: 1 / float(n) for x in means}\n",
    "    for it in range(nb_iters):\n",
    "        samples = np.random.multivariate_normal(mean, cov, size=nb_samples)\n",
    "        new_knowledge = {}\n",
    "        res = {k: compute(k, v, samples) for k,v in knowledge.iteritems()}\n",
    "        s = sum(res.values())\n",
    "        new_knowledge = {i: res[i]/s for i in knowledge.keys()}\n",
    "        knowledge = new_knowledge\n",
    "        plot(knowledge, n)\n",
    "\n",
    "# gauss(50, 5, 100)\n",
    "\n"
   ]
  },
  {
   "cell_type": "code",
   "execution_count": 10,
   "metadata": {
    "collapsed": false
   },
   "outputs": [
    {
     "name": "stdout",
     "output_type": "stream",
     "text": [
      "(0.25, 0.75)\n"
     ]
    },
    {
     "data": {
      "image/png": "iVBORw0KGgoAAAANSUhEUgAAAVgAAAFdCAYAAABGoXXzAAAABHNCSVQICAgIfAhkiAAAAAlwSFlz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\nrkJggg==\n",
      "text/plain": [
       "<matplotlib.figure.Figure at 0x10ff05510>"
      ]
     },
     "metadata": {},
     "output_type": "display_data"
    },
    {
     "data": {
      "image/png": "iVBORw0KGgoAAAANSUhEUgAAAVgAAAFdCAYAAABGoXXzAAAABHNCSVQICAgIfAhkiAAAAAlwSFlz\nAAAPYQAAD2EBqD+naQAAEX1JREFUeJzt3X+s3XV5wPH3QwstFSkqUlZx62QFIfKrBZEg/oKtCxsQ\nXCZcnEYXVPyxmWqiEHBukkU0gSoiZonZiKAlaEJGFyIGiEtagw1UOqAFxiggtBRa5FL7i9J+9sc5\nXW7vtL3fc85zPvecvl/Jidzj+d7nuSl93y/nnvO9UUpBktR7B9ReQJKGlYGVpCQGVpKSGFhJSmJg\nJSmJgZWkJAZWkpIYWElKYmAlKYmBlaQkkzawEfHZiFgTEVsj4r6IOK32Tpki4oqIWB4Rr0TE+oi4\nPSKOqb1Xv0XE5RGxKyKuq71LtoiYHRE3R8SGiNgSESsjYl7tvTJFxAERcXVEPNn+mp+IiKtq75Vl\nUgY2Ii4CrgW+CpwCrATuiojDqy6W6yzgO8DpwDnAgcDPIuLgqlv1Ufub6Cdp/XkPtYg4DFgGbAcW\nAMcBXwR+U3OvPrgc+BTwGeDtwJeAL0XE56pulSQm48VeIuI+4JellM+3Pw7g18D1pZRvVl2uT9rf\nTF4A3lNKWVp7n2wRcQjwAPBp4CvAr0opX6i7VZ6IuAY4o5Ty3tq79FNELAGeL6V8Ysx9PwG2lFI+\nWm+zHJPuDDYiDgTmA/fsvq+0vgvcDZxRa68KDgMK8FLtRfrku8CSUsq9tRfpk/OA+yPitvZTQisi\n4tLaS/XBL4CzI2IuQEScBJwJ3Fl1qyRTay/wOxwOTAHWj7t/PXBs/9fpv/YZ+7eApaWUVbX3yRYR\nFwMnA6fW3qWP3kbrbP1a4J+BdwLXR8T2UsrNVTfLdQ1wKPBoROykdZJ3ZSnl1rpr5ZiMgRXcCBxP\n6zv7UIuIo2h9MzmnlLKj9j59dACwvJTylfbHKyPiHcBlwDAH9iLgEuBiYBWtb6zfjoi1w/iNZTIG\ndgOwE5g17v5ZwPP9X6e/IuIG4FzgrFLKutr79MF84M3AivaZO7T+C+Y97R98TCuT8QcF3VsHrB53\n32rggxV26advAl8vpfy4/fEjETEHuIIh/MYy6Z6DbZ/FPACcvfu+9l+8s2k9fzO02nG9AHh/KeWZ\n2vv0yd3ACbTOZE5q3+4HbgFOGtK4QusVBOOf8joWeLrCLv00g9YJ1Fi7mIQt6oXJeAYLcB1wU0Q8\nACwHFtL6g7mp5lKZIuJGYAQ4H9gcEbvP4EdLKdvqbZarlLKZ1n8q/p+I2AxsLKWMP8MbJouAZRFx\nBXAbrZfnXQp8Yq9HDb4lwFUR8SzwCDCP1t/v71fdKsmkfJkWQER8htZr5GYBDwJ/V0q5v+5WeSJi\nF61XDYz38VLKD/q9T00RcS/w4DC/TAsgIs6l9UOfPwHWANeWUv617la5IuJ1wNXAhcARwFrgR8DV\npZTXau6WYdIGVpIG3VA+7yFJk4GBlaQkBlaSkhhYSUpiYCUpiYGVpCSpbzSIiDfRutblU8DQvlhe\n0n5lOjAHuKuUsnFvD8x+J9cC4IfJMySphg/TepPE75Ud2KcAuOQWOOK4zj7DHQvh/EUdHfrWjzze\n2cweuJDbuzp+ycKlnLfo3R0d+xcVL615+L2/7er4hf8Giz7e4cHLuhrdvS4uLLnwOVj0ls6PLxUv\ng7Tt1c6P/fKr8I2DOj/+4Dd2fmynVr8Kf7MB2N23vcgObOtpgSOOg6M6/FVD02d2fOz0eVM6m9kD\nb+nyb/v0mQfxlnlHdHTsidT7uo/s8lIlM2fAvKM7PPix7mZ3bUbnh86cAvO6OL5UvKrI1vGXbmlg\nZsApXfzrOmNa58f2wD6f9vSHXJKUxMBKUhIDK0lJJn9gTxmpvUEVJ48cU3uFKkbOqr1BHSNvqL1B\nHX89Wa9I3SMGdpIysPuX/TWwHzKwkqROGFhJStJRYCPisxGxJiK2RsR9EXFarxeTpEHXOLARcRFw\nLfBV4BRgJXBXRBze490kaaB1cga7EPiXUsoPSimPApcBW4C/7elmkjTgGgU2Ig4E5gP37L6v/Xvr\n7wbO6O1qkjTYmp7BHg5MAdaPu389cGRPNpKkIeGrCCQpSdOX+W4AdgKzxt0/C/j9F0y7Y2Hrqlhj\nnTKy376JQNJgWPxbWLx5z/tGG1w9rFFgSyk7IuIB4GzgDoCIiPbH1//eA89f1PnlCiWpkpFDWrex\nVmyH+Wsndnwnb1S7DripHdrltF5VMAO4qYPPJUlDq3FgSym3tV/z+jVaTw08CCwopbzY6+UkaZB1\ndKmFUsqNwI093kWShoqvIpCkJAZWkpIYWElKYmAlKYmBlaQkBlaSkhhYSUpiYCUpiYGVpCT9+aW5\nRwNz+zJpD8fyeP+Htp3IQ9VmH/nwaLXZLKs3mqUVZwP//Wi92U/UG82WirOPWtP/mU3+mD2DlaQk\nBlaSkhhYSUpiYCUpiYGVpCQGVpKSGFhJSmJgJSmJgZWkJAZWkpIYWElKYmAlKYmBlaQkBlaSkhhY\nSUpiYCUpiYGVpCQGVpKSGFhJSmJgJSmJgZWkJAZWkpIYWElKYmAlKYmBlaQkBlaSkhhYSUpiYCUp\niYGVpCQGVpKSTO3LlFnAUX2ZtIfZrO3/0LY/qDibJ+uNrjn7lTX1ZgP8V8XZT1Sc/VrF2ZsqzHyq\nwWM9g5WkJAZWkpIYWElKYmAlKYmBlaQkBlaSkhhYSUpiYCUpiYGVpCQGVpKSNApsRFwREcsj4pWI\nWB8Rt0fEMVnLSdIga3oGexbwHeB04BzgQOBnEXFwrxeTpEHX6GIvpZRzx34cER8DXgDmA0t7t5Yk\nDb5un4M9DCjASz3YRZKGSseBjYgAvgUsLaWs6t1KkjQcurke7I3A8cCZPdpFkoZKR4GNiBuAc4Gz\nSinr9nnANxbC62fued+5I62bJE1S9wG/HHfflgbHNw5sO64XAO8tpTwzoYO+vAiOn9d0lCRV9a72\nbayngH+a4PGNAhsRNwIjwPnA5oiY1f6/Rksp25p8Lkkadk1/yHUZcCjwc2DtmNuHeruWJA2+pq+D\n9a21kjRBBlOSkhhYSUpiYCUpiYGVpCQGVpKSGFhJSmJgJSmJgZWkJAZWkpJ0c7nCiTuowPTSl1F7\njGV732fuNo1Xq82u+GVXnf1Kza8b2Lqfzq5pR4WZrzV4rGewkpTEwEpSEgMrSUkMrCQlMbCSlMTA\nSlISAytJSQysJCUxsJKUxMBKUhIDK0lJDKwkJTGwkpTEwEpSEgMrSUkMrCQlMbCSlMTASlISAytJ\nSQysJCUxsJKUxMBKUhIDK0lJDKwkJTGwkpTEwEpSEgMrSUkMrCQlMbCSlMTASlKSqX2Z8tuAl6Mv\no8baxOv7PnO3LcyoNpuZ9UbXnD2r5tcNzBqtN3tTvdFVHVVh5rYGj/UMVpKSGFhJSmJgJSmJgZWk\nJAZWkpIYWElKYmAlKYmBlaQkBlaSkhhYSUrSVWAj4vKI2BUR1/VqIUkaFh0HNiJOAz4JrOzdOpI0\nPDoKbEQcAtwCXAq83NONJGlIdHoG+11gSSnl3l4uI0nDpPHlCiPiYuBk4NTeryNJw6NRYCPiKOBb\nwDmllB05K0nScGh6BjsfeDOwIiJ2X0F7CvCeiPgcMK2UUv7fUdcuhEPGXQ15wQj8+UjjhSWpX34O\n/Oe4+zY3OL5pYO8GThh3303AauCa3xlXgC8ugrfPazhKkup6X/s21hPA30/w+EaBLaVsBlaNvS8i\nNgMbSymrm3wuSRp2vXgn1+8+a5Wk/VzXv/SwlPKBXiwiScPGaxFIUhIDK0lJDKwkJTGwkpTEwEpS\nEgMrSUkMrCQlMbCSlMTASlISAytJSbp+q+yErAWm92XSHn49/639H9r2FHOqzZ43t+J1d95eb/SB\nT9abDTDv/nqz37iz3uya5kzp/8xpBdg1scd6BitJSQysJCUxsJKUxMBKUhIDK0lJDKwkJTGwkpTE\nwEpSEgMrSUkMrCQlMbCSlMTASlISAytJSQysJCUxsJKUxMBKUhIDK0lJDKwkJTGwkpTEwEpSEgMr\nSUkMrCQlMbCSlMTASlISAytJSQysJCUxsJKUxMBKUhIDK0lJDKwkJZnalymrgJf6MmkPD/3Vif0f\n2vYrTq42+4Q/fqja7LnvfrbabDbXGw3wppkVZ79Qb3ZVs/s/8rBRYNnEHusZrCQlMbCSlMTASlIS\nAytJSQysJCUxsJKUxMBKUhIDK0lJDKwkJWkc2IiYHRE3R8SGiNgSESsjYl7GcpI0yBq9VTYiDqP1\nJrF7gAXABmAu8JveryZJg63ptQguB54ppVw65r6ne7iPJA2Npk8RnAfcHxG3RcT6iFgREZfu8yhJ\n2g81DezbgE8DjwF/BnwPuD4iPtLrxSRp0DV9iuAAYHkp5Svtj1dGxDuAy4Cbe7qZJA24poFdB6we\nd99q4IN7PeqehTBt3MUyjx9p3SRpklq8tnUba3THxI9vGthlwLHj7juWff2g6+xFcKSv5JI0WEZm\nt25jrRiF+UkX3F4EvCsiroiIoyPiEuBS4IaGn0eShl6jwJZS7gcuBEaAh4Argc+XUm5N2E2SBlrj\n38lVSrkTuDNhF0kaKl6LQJKSGFhJSmJgJSmJgZWkJAZWkpIYWElKYmAlKYmBlaQkBlaSkhhYSUrS\n+K2yHfkFMKMvk/bw4vv+sP9D236+4P3VZs9m7b4flOSgD9R7F/UfHfpitdkAHFdx9gsVZ9f01goz\n19C6ruAEeAYrSUkMrCQlMbCSlMTASlISAytJSQysJCUxsJKUxMBKUhIDK0lJDKwkJTGwkpTEwEpS\nEgMrSUkMrCQlMbCSlMTASlISAytJSQysJCUxsJKUxMBKUhIDK0lJDKwkJTGwkpTEwEpSEgMrSUkM\nrCQlMbCSlMTASlISAytJSQysJCWZ2pcpj28E1vdl1B5umdX/mW1Lj/zTarMPOml7tdmbeH212aef\nurzabIBjT32s2uzDNo9Wm71zar3ztPXTjuj7zGdX7IArN07osZ7BSlISAytJSQysJCUxsJKUxMBK\nUhIDK0lJDKwkJTGwkpTEwEpSkkaBjYgDIuLqiHgyIrZExBMRcVXWcpI0yJq+VfZy4FPAR4FVwKnA\nTRHxcinlhl4vJ0mDrGlgzwD+vZTy0/bHz0TEJcA7e7uWJA2+ps/B/gI4OyLmAkTEScCZwJ29XkyS\nBl3TM9hrgEOBRyNiJ61AX1lKubXnm0nSgGsa2IuAS4CLaT0HezLw7YhYW0q5udfLSdIgaxrYbwJf\nL6X8uP3xIxExB7gC2Etg/4HWie9YF7ZvkjQ53bF4K/+xeNse970yumvCxzcN7Axg57j7drHP53K/\nBpzYcJQk1XX+yMGcP3LwHvc9vGIHF8yf2AW3mwZ2CXBVRDwLPALMAxYC32/4eSRp6DUN7OeAq4Hv\nAkcAa4Hvte+TJI3RKLCllM3AF9o3SdJeeC0CSUpiYCUpiYGVpCQGVpKSGFhJSmJgJSmJgZWkJAZW\nkpIYWElKYmAlKUnTaxF06CfAsv6MGuuWf+z/zN2m1xt978f+strsdWfOrjb7ocpXbJvDmmqz3/C6\nl6vNfo0p1Wavo///vr3Ac7Qux7JvnsFKUhIDK0lJDKwkJTGwkpTEwEpSEgMrSUkMrCQlMbCSlMTA\nSlISAytJSQysJCUxsJKUxMBKUhIDK0lJDKwkJTGwkpTEwEpSEgMrSUkMrCQlMbCSlMTASlISAytJ\nSQysJCUxsJKUZAAC+1DtBer4n8W1N6hidPFPa69QxcOLH6m9QhUPLn689gqpBiCwD9deoI79NLCv\nLL6r9gpVPLJ4Ve0VqjCwkqSOGFhJSmJgJSnJ1OTPP731Pxu6+BTbgHUdHruii7ld6uZLBnh1FDZ0\nuP9jXc7uwtaDV3d1/M7RTWxd0dnn2MjTXc3u1jSe7/jY7aPbWbei8+M3s6njY7u1s4vztG2jr/Lc\nihc6Pn4DpeNjO/XS6hd3/+P0fT02SslbMCIuAX6YNkCS6vlwKeVHe3tAdmDfBCwAnqJ1KipJg246\nMAe4q5SycW8PTA2sJO3P/CGXJCUxsJKUxMBKUhIDK0lJDKwkJTGwkpTEwEpSkv8FSP4EKRxzGMUA\nAAAASUVORK5CYII=\n",
      "text/plain": [
       "<matplotlib.figure.Figure at 0x10fcc1050>"
      ]
     },
     "metadata": {},
     "output_type": "display_data"
    },
    {
     "data": {
      "image/png": "iVBORw0KGgoAAAANSUhEUgAAAVgAAAFdCAYAAABGoXXzAAAABHNCSVQICAgIfAhkiAAAAAlwSFlz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\nCxX2N94AAAAASUVORK5CYII=\n",
      "text/plain": [
       "<matplotlib.figure.Figure at 0x10f696c50>"
      ]
     },
     "metadata": {},
     "output_type": "display_data"
    },
    {
     "data": {
      "image/png": "iVBORw0KGgoAAAANSUhEUgAAAVgAAAFdCAYAAABGoXXzAAAABHNCSVQICAgIfAhkiAAAAAlwSFlz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\nRK5CYII=\n",
      "text/plain": [
       "<matplotlib.figure.Figure at 0x10fac7e90>"
      ]
     },
     "metadata": {},
     "output_type": "display_data"
    },
    {
     "data": {
      "image/png": "iVBORw0KGgoAAAANSUhEUgAAAVgAAAFdCAYAAABGoXXzAAAABHNCSVQICAgIfAhkiAAAAAlwSFlz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\nJAZWkpIYWElKYmAlKYmBlaQkBlaSkvwf0ZIEgPa5HCUAAAAASUVORK5CYII=\n",
      "text/plain": [
       "<matplotlib.figure.Figure at 0x11050e410>"
      ]
     },
     "metadata": {},
     "output_type": "display_data"
    },
    {
     "data": {
      "image/png": "iVBORw0KGgoAAAANSUhEUgAAAVgAAAFdCAYAAABGoXXzAAAABHNCSVQICAgIfAhkiAAAAAlwSFlz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\nAABJRU5ErkJggg==\n",
      "text/plain": [
       "<matplotlib.figure.Figure at 0x110623c10>"
      ]
     },
     "metadata": {},
     "output_type": "display_data"
    },
    {
     "data": {
      "image/png": "iVBORw0KGgoAAAANSUhEUgAAAVgAAAFdCAYAAABGoXXzAAAABHNCSVQICAgIfAhkiAAAAAlwSFlz\nAAAPYQAAD2EBqD+naQAAEXNJREFUeJzt3X+snXV9wPH3B1oopdIuFipMl4og4MBiCyLD4hS0GU4N\nJBtc3MxcUPHHYuoSUwLEZGSTkEEVAbfEbISiZWhkGwsRAwQVHLBSKQgtA6QCKy220MtokR/luz/O\n6XLvVdr7nHM+53vP6fuV3Mh9vM/9fC6U930495znRikFSVLv7VV7AUkaVgZWkpIYWElKYmAlKYmB\nlaQkBlaSkhhYSUpiYCUpiYGVpCQGVpKSTNnARsTnI+LxiHgxIu6KiONr75QpIs6LiHsi4vmI2BQR\nN0TE22vv1W8RsSwiXouIy2rvki0iDomIFRGxOSK2R8SaiFhYe69MEbFXRFwUEb9of82PRsQFtffK\nMiUDGxFnApcCXwHeBawBbo6IuVUXy7UY+AZwAnAqMB34YUTsV3WrPmp/E/00rX/eQy0i5gB3Ai8B\nS4CjgL8Gnqu5Vx8sAz4DfA44Evgy8OWI+ELVrZLEVLzZS0TcBdxdSvli+/0AngQuL6VcUnW5Pml/\nM3kGOLmUckftfbJFxCzgXuCzwIXAz0opX6q7VZ6IuBg4sZTyvtq79FNE3AhsLKV8asyx7wHbSymf\nqLdZjil3BRsR04FFwK07j5XWd4FbgBNr7VXBHKAAz9ZepE+uBG4spdxWe5E++QiwKiKubz8ktDoi\nzqm9VB/8FDglIg4HiIgFwEnATVW3SjKt9gK/xVxgb2DThOObgCP6v07/ta/YvwbcUUp5qPY+2SLi\nLOBY4Ljau/TRobSu1i8F/hZ4N3B5RLxUSllRdbNcFwMHAOsiYgeti7zzSynX1V0rx1QMrOAq4B20\nvrMPtYh4M61vJqeWUl6pvU8f7QXcU0q5sP3+mog4GjgXGObAngmcDZwFPETrG+vXI2LDMH5jmYqB\n3QzsAOZNOD4P2Nj/dforIq4ATgMWl1Kerr1PHywCDgRWt6/cofVfMCe3f/Cxb5mKPyjo3tPA2gnH\n1gJnVNilny4BvlpK+W77/QcjYj5wHkP4jWXKPQbbvoq5Fzhl57H2v3in0Hr8Zmi14/ox4P2llCdq\n79MntwDH0LqSWdB+WwVcCywY0rhC6xkEEx/yOgL4ZYVd+mkmrQuosV5jCraoF6biFSzAZcDVEXEv\ncA+wlNY/mKtrLpUpIq4CRoCPAtsiYucV/Ggp5df1NstVStlG6z8V/19EbAO2lFImXuENk+XAnRFx\nHnA9rafnnQN8apdnDb4bgQsi4ingQWAhrX+/v1V1qyRT8mlaABHxOVrPkZsH3Af8VSllVd2t8kTE\na7SeNTDRJ0sp1/R7n5oi4jbgvmF+mhZARJxG64c+hwGPA5eWUv6p7la5ImJ/4CLgdOAgYAPwHeCi\nUsqrNXfLMGUDK0mDbigf95CkqcDASlISAytJSQysJCUxsJKUxMBKUpLUFxpExBtp3etyPTC0T5aX\ntEeZAcwHbi6lbNnVB2a/kmsJ8O3kGZJUw8dpvUjidWUHdj0Ax1wLs47q7DOsWwpHLu/s3E92dlov\n/MGi7m5runbpP3PU8s6+gD/h+q5md+Pkx/+rq/OXXgzLl3V4cu07yf5356cuvQ+WH9vF7Je6OLdb\nb+781KU/huUndzH7PV2c26G1T8Kf/T2ws2+7kB3Y1sMCs46C2R3+qqFpszs/t+JvtJq9cH1X50+f\nPZPZCw/t6NzDeENXs7uxcGZ3589+Ayz8/Q5Pfri72V37Veenzp4OC3+ni9k1H4A7qPNTZ+8DC7s4\nn8O6OLd7u/277g+5JCmJgZWkJAZWkpJM/cAePFJ7gyoOHnlv7RWqGPlw7Q3qGPm92hvUMTLkv2Vv\n6gf2kD0zsIeMLK69QhUGds9iYCVJHTGwkpSko8BGxOcj4vGIeDEi7oqI43u9mCQNusaBjYgzgUuB\nrwDvAtYAN0fE3B7vJkkDrZMr2KXAP5ZSrimlrAPOBbYDf9nTzSRpwDUKbERMBxYBt+481v699bcA\nJ/Z2NUkabE2vYOcCewObJhzfBLypJxtJ0pDwWQSSlKTp3bQ2AzuAeROOzwM2vu5Z65a27oo11sEj\ne+yLCCQNhpW3w8ofjT82un3y5zcKbCnllYi4FzgF+HeAiIj2+5e/7olHLu/8loOSVMnIH7bexlr9\nKCz64uTO7+R+sJcBV7dDew+tZxXMBK7u4HNJ0tBqHNhSyvXt57z+Da2HBu4DlpRSurjdsCQNn45+\no0Ep5Srgqh7vIklDxWcRSFISAytJSQysJCUxsJKUxMBKUhIDK0lJDKwkJTGwkpTEwEpSko5eydXY\nW4CD+jJpnFnH1Xv17gncXW32yTt+Um023683mhUVZwOPrKs3+/l6o3nn7N1/TJbpWyoMbTDTK1hJ\nSmJgJSmJgZWkJAZWkpIYWElKYmAlKYmBlaQkBlaSkhhYSUpiYCUpiYGVpCQGVpKSGFhJSmJgJSmJ\ngZWkJAZWkpIYWElKYmAlKYmBlaQkBlaSkhhYSUpiYCUpiYGVpCQGVpKSGFhJSmJgJSmJgZWkJAZW\nkpIYWElKYmAlKcm0vkyZC7ypL5PGOWj/Z/o/tO0tPFlt9gEPvFJtNqvqjX5oXb3ZALdUnP1ixdnP\njtab/cH7Kgxt8DfbK1hJSmJgJSmJgZWkJAZWkpIYWElKYmAlKYmBlaQkBlaSkhhYSUpiYCUpSaPA\nRsR5EXFPRDwfEZsi4oaIeHvWcpI0yJpewS4GvgGcAJwKTAd+GBH79XoxSRp0jW72Uko5bez7EfEX\nwDPAIuCO3q0lSYOv28dg5wAFeLYHu0jSUOk4sBERwNeAO0opD/VuJUkaDt3cD/Yq4B3AST3aRZKG\nSkeBjYgrgNOAxaWUp3d7wk1LYcbs8ceOGYEFI52Ml6S+WLkVVk64ofjojsmf3ziw7bh+DHhfKeWJ\nSZ102nI4ZGHTUZJU1cic1ttYq1+ERY9N7vxGgY2Iq4AR4KPAtoiY1/6/Rkspv27yuSRp2DX9Ide5\nwAHA7cCGMW9/2tu1JGnwNX0erC+tlaRJMpiSlMTASlISAytJSQysJCUxsJKUxMBKUhIDK0lJDKwk\nJTGwkpSkm9sVTt7efZs0zr681P+hbfvwcrXZFb/sqrNfrDe6+vw9dXaVP28N/tX2ClaSkhhYSUpi\nYCUpiYGVpCQGVpKSGFhJSmJgJSmJgZWkJAZWkpIYWElKYmAlKYmBlaQkBlaSkhhYSUpiYCUpiYGV\npCQGVpKSGFhJSmJgJSmJgZWkJAZWkpIYWElKYmAlKYmBlaQkBlaSkhhYSUpiYCUpiYGVpCQGVpKS\nGFhJSjKtL1P+F9jal0njPMec/g9t28Ibq83mkHqjeWu90e+cXW82wDOj9WZvrzeaYyrO5sgKM7cC\nT07uQ72ClaQkBlaSkhhYSUpiYCUpiYGVpCQGVpKSGFhJSmJgJSmJgZWkJAZWkpJ0FdiIWBYRr0XE\nZb1aSJKGRceBjYjjgU8Da3q3jiQNj44CGxGzgGuBc6hyGxdJmvo6vYK9ErixlHJbL5eRpGHS+HaF\nEXEWcCxwXO/XkaTh0SiwEfFm4GvAqaWUV3JWkqTh0PQKdhFwILA6IqJ9bG/g5Ij4ArBvKaX8xlm3\nLoV9J9wN+R0jrTdJmqJW/k/rbazRBpeWTQN7C795A/OrgbXAxb81rgCnLIc3LWw4SpLqGvnd1ttY\nq7fCop9M7vxGgS2lbAMeGnssIrYBW0opa5t8Lkkadr14Jddvv2qVpD1c17/0sJTygV4sIknDxnsR\nSFISAytJSQysJCUxsJKUxMBKUhIDK0lJDKwkJTGwkpTEwEpSEgMrSUm6fqnspDwJvNCXSeNsfPjQ\n/g9te+CIiTcd6581bzm82uwFH3qk2uzpo9VGA/BHqyoO31Fxdr0/bvDhCjOfACZ5Ny2vYCUpiYGV\npCQGVpKSGFhJSmJgJSmJgZWkJAZWkpIYWElKYmAlKYmBlaQkBlaSkhhYSUpiYCUpiYGVpCQGVpKS\nGFhJSmJgJSmJgZWkJAZWkpIYWElKYmAlKYmBlaQkBlaSkhhYSUpiYCUpiYGVpCQGVpKSGFhJSmJg\nJSmJgZWkJNP6MuUxYEZfJo13e4WZbT8+YnG12W/jsWqzZ370e9VmHz7vqWqzAVhbcfarFWcfWm/0\nrz4wq+8zn1u9A/7uxUl9rFewkpTEwEpSEgMrSUkMrCQlMbCSlMTASlISAytJSQysJCUxsJKUpHFg\nI+KQiFgREZsjYntErImIhRnLSdIga/RS2YiYA9wJ3AosATYDhwPP9X41SRpsTe9FsAx4opRyzphj\nv+zhPpI0NJo+RPARYFVEXB8RmyJidUScs9uzJGkP1DSwhwKfBR4GPgR8E7g8Iv6814tJ0qBr+hDB\nXsA9pZQL2++viYijgXOBFT3dTJIGXNPAPs1v3vVyLXDGLs/atBT2nj3+2AEjrTdJmqK+v/IVblg5\n/ma7z4+WSZ/fNLB3AkdMOHYEu/tB17zlMMNnckkaLGeMTOeMkenjjt2/egenLsq54fZy4D0RcV5E\nvC0izgbOAa5o+Hkkaeg1CmwpZRVwOjACPACcD3yxlHJdwm6SNNAa/06uUspNwE0Ju0jSUPFeBJKU\nxMBKUhIDK0lJDKwkJTGwkpTEwEpSEgMrSUkMrCQlMbCSlMTASlKSxi+V7cj6Akz+Fl8984Po/8y2\nR+YvqDb7O0vOrjZ7K3OqzT7hhLurzQaYf8L6qvNr2cDB1Wbfy3F9n7mBjcA1k/pYr2AlKYmBlaQk\nBlaSkhhYSUpiYCUpiYGVpCQGVpKSGFhJSmJgJSmJgZWkJAZWkpIYWElKYmAlKYmBlaQkBlaSkhhY\nSUpiYCUpiYGVpCQGVpKSGFhJSmJgJSmJgZWkJAZWkpIYWElKYmAlKYmBlaQkBlaSkhhYSUpiYCUp\niYGVpCTT+jPmbuDZ/owa6z8+2P+ZO82oN/rnW4+vNnv9H8+vNvsn+y+uNhvgIDZVnV/LFuZWm/3A\nS8f0feaOl+8HrpnUx3oFK0lJDKwkJTGwkpTEwEpSEgMrSUkMrCQlMbCSlMTASlISAytJSRoFNiL2\nioiLIuIXEbE9Ih6NiAuylpOkQdb0pbLLgM8AnwAeAo4Dro6IraWUK3q9nCQNsqaBPRH4t1LKD9rv\nPxERZwPv7u1akjT4mj4G+1PglIg4HCAiFgAnATf1ejFJGnRNr2AvBg4A1kXEDlqBPr+Ucl3PN5Ok\nAdc0sGcCZwNn0XoM9ljg6xGxoZSyotfLSdIgaxrYS4CvllK+237/wYiYD5wH7CKw/wDsP+HY+9tv\nkjQ1vfwvN/DK9f867lgZfX7S5zcN7Exgx4Rjr7Hbx3LPBQ5vOEqS6trnzNPZ58zTxx3b8bP7eeHE\nJZM6v2lgbwQuiIingAeBhcBS4FsNP48kDb2mgf0CcBFwJXAQsAH4ZvuYJGmMRoEtpWwDvtR+kyTt\ngvcikKQkBlaSkhhYSUpiYCUpiYGVpCQGVpKSGFhJSmJgJSmJgZWkJAZWkpI0vRdBh9YAz/Rn1Fiv\n7tf/mTtd9956s5+qN/qFVQdWm/2fR3+g2mwA5tYdX83mirPXVZi5ccOkP9QrWElKYmAlKYmBlaQk\nBlaSkhhYSUpiYCUpiYGVpCQGVpKSGFhJSmJgJSmJgZWkJAZWkpIYWElKYmAlKYmBlaQkBlaSkhhY\nSUpiYCUpiYGVpCQGVpKSGFhJSmJgJSmJgZWkJAZWkpIMQGAfqL1AJStrL1DH2j306/7RHvp13zXc\nX/cABPbntReoZLj/4L2udXvo121gh9IABFaSBpOBlaQkBlaSkkxL/vwzWv+zuYtP8Wvg6Q7PfbiL\nud2a2eX5o8Dqzk59ocvR3djU5fkvjcKmDr/uWV3O7tbWLs7dNgqPdvh119bN1719FNZ38XVv7GJ2\np7as3flXM3b3oVFKSdsjIs4Gvp02QJLq+Xgp5Tu7+oDswL4RWAKsp3UpKkmDbgYwH7i5lLJlVx+Y\nGlhJ2pP5Qy5JSmJgJSmJgZWkJAZWkpIYWElKYmAlKYmBlaQk/wdyr/usD9D6AAAAAABJRU5ErkJg\ngg==\n",
      "text/plain": [
       "<matplotlib.figure.Figure at 0x10f638c50>"
      ]
     },
     "metadata": {},
     "output_type": "display_data"
    },
    {
     "data": {
      "image/png": "iVBORw0KGgoAAAANSUhEUgAAAVgAAAFdCAYAAABGoXXzAAAABHNCSVQICAgIfAhkiAAAAAlwSFlz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\nDKwkJTGwkpTkfwFm8veQL2/mbwAAAABJRU5ErkJggg==\n",
      "text/plain": [
       "<matplotlib.figure.Figure at 0x10faf4d90>"
      ]
     },
     "metadata": {},
     "output_type": "display_data"
    },
    {
     "data": {
      "image/png": "iVBORw0KGgoAAAANSUhEUgAAAVgAAAFdCAYAAABGoXXzAAAABHNCSVQICAgIfAhkiAAAAAlwSFlz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\n+2YyFAAAAABJRU5ErkJggg==\n",
      "text/plain": [
       "<matplotlib.figure.Figure at 0x10f893a10>"
      ]
     },
     "metadata": {},
     "output_type": "display_data"
    },
    {
     "data": {
      "image/png": "iVBORw0KGgoAAAANSUhEUgAAAVgAAAFdCAYAAABGoXXzAAAABHNCSVQICAgIfAhkiAAAAAlwSFlz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\nAAAASUVORK5CYII=\n",
      "text/plain": [
       "<matplotlib.figure.Figure at 0x10f3ac510>"
      ]
     },
     "metadata": {},
     "output_type": "display_data"
    }
   ],
   "source": [
    "##1\n",
    "gauss(10, 10, 100,(0.25, 0.75))\n",
    "# przybliza srednia"
   ]
  },
  {
   "cell_type": "code",
   "execution_count": 21,
   "metadata": {
    "collapsed": false
   },
   "outputs": [
    {
     "name": "stdout",
     "output_type": "stream",
     "text": [
      "(1.2, 0.7)\n"
     ]
    },
    {
     "data": {
      "image/png": "iVBORw0KGgoAAAANSUhEUgAAAVgAAAFdCAYAAABGoXXzAAAABHNCSVQICAgIfAhkiAAAAAlwSFlz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\n5QAAAABJRU5ErkJggg==\n",
      "text/plain": [
       "<matplotlib.figure.Figure at 0x11049c690>"
      ]
     },
     "metadata": {},
     "output_type": "display_data"
    },
    {
     "data": {
      "image/png": "iVBORw0KGgoAAAANSUhEUgAAAVgAAAFdCAYAAABGoXXzAAAABHNCSVQICAgIfAhkiAAAAAlwSFlz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\nUvDLAAAAAElFTkSuQmCC\n",
      "text/plain": [
       "<matplotlib.figure.Figure at 0x10f338c90>"
      ]
     },
     "metadata": {},
     "output_type": "display_data"
    },
    {
     "data": {
      "image/png": "iVBORw0KGgoAAAANSUhEUgAAAVgAAAFdCAYAAABGoXXzAAAABHNCSVQICAgIfAhkiAAAAAlwSFlz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\ngZWkJP8PVyLgAKKvRFoAAAAASUVORK5CYII=\n",
      "text/plain": [
       "<matplotlib.figure.Figure at 0x110226e10>"
      ]
     },
     "metadata": {},
     "output_type": "display_data"
    },
    {
     "data": {
      "image/png": "iVBORw0KGgoAAAANSUhEUgAAAVgAAAFdCAYAAABGoXXzAAAABHNCSVQICAgIfAhkiAAAAAlwSFlz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\nBlaSkhhYSUpiYCUpyf8D6zfZF+fB2VMAAAAASUVORK5CYII=\n",
      "text/plain": [
       "<matplotlib.figure.Figure at 0x10fdb3f50>"
      ]
     },
     "metadata": {},
     "output_type": "display_data"
    },
    {
     "data": {
      "image/png": "iVBORw0KGgoAAAANSUhEUgAAAVgAAAFdCAYAAABGoXXzAAAABHNCSVQICAgIfAhkiAAAAAlwSFlz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\ngZWkJAZWkpL8D9F+2QmTup0gAAAAAElFTkSuQmCC\n",
      "text/plain": [
       "<matplotlib.figure.Figure at 0x10faac650>"
      ]
     },
     "metadata": {},
     "output_type": "display_data"
    },
    {
     "data": {
      "image/png": "iVBORw0KGgoAAAANSUhEUgAAAVgAAAFdCAYAAABGoXXzAAAABHNCSVQICAgIfAhkiAAAAAlwSFlz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\nYmAlKcn/AAKo3BCrGytTAAAAAElFTkSuQmCC\n",
      "text/plain": [
       "<matplotlib.figure.Figure at 0x10ff89e90>"
      ]
     },
     "metadata": {},
     "output_type": "display_data"
    },
    {
     "data": {
      "image/png": "iVBORw0KGgoAAAANSUhEUgAAAVgAAAFdCAYAAABGoXXzAAAABHNCSVQICAgIfAhkiAAAAAlwSFlz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\nlgAAAABJRU5ErkJggg==\n",
      "text/plain": [
       "<matplotlib.figure.Figure at 0x10f3e2610>"
      ]
     },
     "metadata": {},
     "output_type": "display_data"
    },
    {
     "data": {
      "image/png": "iVBORw0KGgoAAAANSUhEUgAAAVgAAAFdCAYAAABGoXXzAAAABHNCSVQICAgIfAhkiAAAAAlwSFlz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\ntxtD+W0AAAAASUVORK5CYII=\n",
      "text/plain": [
       "<matplotlib.figure.Figure at 0x10b141050>"
      ]
     },
     "metadata": {},
     "output_type": "display_data"
    },
    {
     "data": {
      "image/png": "iVBORw0KGgoAAAANSUhEUgAAAVgAAAFdCAYAAABGoXXzAAAABHNCSVQICAgIfAhkiAAAAAlwSFlz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\nJP8PIvjDY8zn+18AAAAASUVORK5CYII=\n",
      "text/plain": [
       "<matplotlib.figure.Figure at 0x10ff01e10>"
      ]
     },
     "metadata": {},
     "output_type": "display_data"
    },
    {
     "data": {
      "image/png": "iVBORw0KGgoAAAANSUhEUgAAAVgAAAFdCAYAAABGoXXzAAAABHNCSVQICAgIfAhkiAAAAAlwSFlz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\nJAZWkpIYWElKYmAlKYmBlaQk/w/09MWru0OUgwAAAABJRU5ErkJggg==\n",
      "text/plain": [
       "<matplotlib.figure.Figure at 0x10feba090>"
      ]
     },
     "metadata": {},
     "output_type": "display_data"
    }
   ],
   "source": [
    "##2\n",
    "gauss(10, 10, 20, mean=(1.2,0.7))\n",
    "# najwieksze prawdopodobienstwo maja skrajne wartosci ze wspolrzednej, na ktorej przekroczone"
   ]
  },
  {
   "cell_type": "code",
   "execution_count": 24,
   "metadata": {
    "collapsed": false
   },
   "outputs": [
    {
     "name": "stdout",
     "output_type": "stream",
     "text": [
      "[(0.1, 0.1), (0.5, 0.5)]\n"
     ]
    },
    {
     "data": {
      "image/png": "iVBORw0KGgoAAAANSUhEUgAAAWEAAAFdCAYAAADSR9wBAAAABHNCSVQICAgIfAhkiAAAAAlwSFlz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\nQmCC\n",
      "text/plain": [
       "<matplotlib.figure.Figure at 0x10fcbaa50>"
      ]
     },
     "metadata": {},
     "output_type": "display_data"
    },
    {
     "data": {
      "image/png": "iVBORw0KGgoAAAANSUhEUgAAAWEAAAFdCAYAAADSR9wBAAAABHNCSVQICAgIfAhkiAAAAAlwSFlz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\np02LAAAAAElFTkSuQmCC\n",
      "text/plain": [
       "<matplotlib.figure.Figure at 0x11004b650>"
      ]
     },
     "metadata": {},
     "output_type": "display_data"
    },
    {
     "data": {
      "image/png": "iVBORw0KGgoAAAANSUhEUgAAAWEAAAFdCAYAAADSR9wBAAAABHNCSVQICAgIfAhkiAAAAAlwSFlz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\nJBX6P0bHm6fsDaSvAAAAAElFTkSuQmCC\n",
      "text/plain": [
       "<matplotlib.figure.Figure at 0x10f3d0e50>"
      ]
     },
     "metadata": {},
     "output_type": "display_data"
    },
    {
     "data": {
      "image/png": "iVBORw0KGgoAAAANSUhEUgAAAWEAAAFdCAYAAADSR9wBAAAABHNCSVQICAgIfAhkiAAAAAlwSFlz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\nhCWpkCEsSYX+H2KwppVVXMvHAAAAAElFTkSuQmCC\n",
      "text/plain": [
       "<matplotlib.figure.Figure at 0x10f22d050>"
      ]
     },
     "metadata": {},
     "output_type": "display_data"
    },
    {
     "data": {
      "image/png": "iVBORw0KGgoAAAANSUhEUgAAAWEAAAFdCAYAAADSR9wBAAAABHNCSVQICAgIfAhkiAAAAAlwSFlz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\nNQAAAABJRU5ErkJggg==\n",
      "text/plain": [
       "<matplotlib.figure.Figure at 0x10e6b4890>"
      ]
     },
     "metadata": {},
     "output_type": "display_data"
    },
    {
     "data": {
      "image/png": "iVBORw0KGgoAAAANSUhEUgAAAWEAAAFdCAYAAADSR9wBAAAABHNCSVQICAgIfAhkiAAAAAlwSFlz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\nLEmF/g/MgsdLdS7BvgAAAABJRU5ErkJggg==\n",
      "text/plain": [
       "<matplotlib.figure.Figure at 0x1007352d0>"
      ]
     },
     "metadata": {},
     "output_type": "display_data"
    }
   ],
   "source": [
    "cov = np.array([[1,0],[0,1]])\n",
    "##3\n",
    "def plot(knowledge, n):\n",
    "    im = []\n",
    "    heat = collections.OrderedDict(sorted(knowledge.items())).values()\n",
    "    for e in range(n):\n",
    "        im.append(heat[n * e:n * (e + 1)])\n",
    "    fig, ax1 = plt.subplots(1,1)\n",
    "    ax1.matshow(im)\n",
    "    plt.show()\n",
    "    \n",
    "def compute(i, j,  samples):\n",
    "    return j*np.mean([multivariate_normal.pdf(x, mean=i, cov=cov) for x in samples])\n",
    "\n",
    "def gauss(n, nb_iters, nb_samples):\n",
    "    means = [(x, y) for x in np.linspace(0, 1, n) for y in np.linspace(0, 1, n)]\n",
    "#     mean = [random.choice(means), random.choice(means)]\n",
    "    mean = [(0.1,0.1),(0.5,0.5)] \n",
    "    print mean\n",
    "    knowledge = {x: 1 / float(n) for x in means}\n",
    "    for it in range(nb_iters):\n",
    "        samples = np.random.multivariate_normal(mean[it%2], cov, size=nb_samples)\n",
    "        \n",
    "        new_knowledge = {}\n",
    "        res = {k: compute(k, v, samples) for k,v in knowledge.iteritems()}\n",
    "        s = sum(res.values())\n",
    "        new_knowledge = {i: res[i]/s for i in knowledge.keys()}\n",
    "        knowledge = new_knowledge\n",
    "        plot(knowledge, n)\n",
    "\n",
    "gauss(20, 6, 50)\n",
    "\n",
    "#Chyba laduje w sredniej.\n",
    "# wnioski na podstawie prob. przy zalozeniu ze model dziala dobrze( nie jestem tego pewny)\n"
   ]
   "source": []
  },
  {
   "cell_type": "markdown",
   "metadata": {},
   "source": [
    "## Ćwiczenie 10 (4 pkt)\n",
    "(proszę najpierw przeczytać uwagę dodaną na czerwono w sekcji \"Podejście maximum likelihood\")\n",
    "\n",
    "Zdarzenie oznaczone $B_1$: Rzucamy dziesięć razy monetą i otrzymujemy wyniki ORZEŁ, ORZEŁ, RESZKA, RESZKA, ORZEŁ, RESZKA, ORZEŁ, ORZEŁ, ORZEŁ, ORZEŁ.\n",
    "\n",
    "Zdarzenie oznaczone $B_2$: Poprosiliśmy kolegę, żeby w naszym imieniu rzucił 10 razy monetą i zanotował wyniki. Kolega - w dobrej wierze - zliczał tylko liczbę orłów, wypadło ich 7.\n",
    "\n",
    "Udowodnić (matematycznie), że dla dowolnego rozkładu a priori parametru $\\theta$ zachodzi równość rozkładów a posteriori:\n",
    "$$P(\\theta\\mid B_1) = P(\\theta\\mid B_2)$$\n",
    "Innymi słowy, kolejność wyników rzutu monetą faktycznie nie niesie za sobą żadnej informacji, która jest przydatna przy estymowaniu parametru $\\theta$."
   ]
  },
  {
   "cell_type": "markdown",
   "metadata": {},
   "source": []
  }
 ],
 "metadata": {
  "anaconda-cloud": {},
  "kernelspec": {
   "display_name": "Python 2",
   "language": "python",
   "name": "python2"
  },
  "language_info": {
   "codemirror_mode": {
    "name": "ipython",
    "version": 2
   },
   "file_extension": ".py",
   "mimetype": "text/x-python",
   "name": "python",
   "nbconvert_exporter": "python",
   "pygments_lexer": "ipython2",
   "version": "2.7.12"
  },
  "toc": {
   "toc_cell": false,
   "toc_number_sections": true,
   "toc_threshold": 6,
   "toc_window_display": false
  }
 },
 "nbformat": 4,
 "nbformat_minor": 0
}
