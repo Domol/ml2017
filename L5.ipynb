{
 "cells": [
  {
   "cell_type": "markdown",
   "metadata": {},
   "source": [
    "# L5\n",
    "\n",
    "Ref: C. Bishop \"Machine Learning\", Ch.1-3\n",
    "\n",
    "Na tych ćwiczeniach:\n",
    "    * Omówimy matematycznie podstawowy cel uczenia maszynowego\n",
    "    * Omówimy ewaluacje\n",
    "    * Omówimy bias-variance\n",
    "    * Zdefiniujemy co mamy na myśli mówiąc \"regularyzacja\"\n",
    "    * Omówimy związek tradycyjnej regularyzacji z wnioskowaniem Bayesowskim "
   ]
  },
  {
   "cell_type": "markdown",
   "metadata": {},
   "source": [
    "Omówiliśmy podejście Bayesowskie, aż do prawdziwego postawienia bayesowskiej regresji liniowej.\n",
    "\n",
    "Zapomnijmy na chwile o tym wszystkim.\n",
    "\n",
    "<img width=500 src=\"figures/L5/plane.jpg\">"
   ]
  },
  {
   "cell_type": "code",
   "execution_count": 15,
   "metadata": {
    "collapsed": true
   },
   "outputs": [],
   "source": [
    "# Przydatne funkcje\n",
    "import numpy as np\n",
    "import matplotlib.pyplot as pl\n",
    "def f(size):\n",
    "    '''\n",
    "    Returns a sample with 'size' instances without noise.\n",
    "    '''\n",
    "    x = np.linspace(0, 4.5, size)\n",
    "    y = 2 * np.sin(x * 1.5)\n",
    "    return (x,y)\n",
    "\n",
    "def sample(size):\n",
    "    '''\n",
    "    Returns a sample with 'size' instances.\n",
    "    '''\n",
    "    x = np.linspace(0, 4.5, size)\n",
    "    y = 2 * np.sin(x * 1.5) + np.randn(x.size)\n",
    "    return (x,y)\n",
    "\n",
    "def fit_polynomial(x, y, degree):\n",
    "    '''\n",
    "    Fits a polynomial to the input sample.\n",
    "    (x,y): input sample\n",
    "    degree: polynomial degree\n",
    "    '''\n",
    "    \n",
    "    # To juz umiemy sami zaimplementować!\n",
    "    model = LinearRegression()\n",
    "    model.fit(np.vander(x, degree + 1), y)\n",
    "    return model\n",
    "\n",
    "def apply_polynomial(model, x):\n",
    "    '''\n",
    "    Evaluates a linear regression model in an input sample\n",
    "    model: linear regression model\n",
    "    x: input sample\n",
    "    '''\n",
    "    degree = model.coef_.size - 1\n",
    "    y = model.predict(np.vander(x, degree + 1))\n",
    "    return y"
   ]
  },
  {
   "cell_type": "markdown",
   "metadata": {},
   "source": [
    "# Koncept: dane to losowa próbka\n",
    "\n",
    "<img width=400 src=\"figures/L5/the-seventh-seal-chess-game.jpg\">"
   ]
  },
  {
   "cell_type": "code",
   "execution_count": 16,
   "metadata": {
    "collapsed": false
   },
   "outputs": [
    {
     "ename": "AttributeError",
     "evalue": "'module' object has no attribute 'randn'",
     "output_type": "error",
     "traceback": [
      "\u001b[0;31m---------------------------------------------------------------------------\u001b[0m",
      "\u001b[0;31mAttributeError\u001b[0m                            Traceback (most recent call last)",
      "\u001b[0;32m<ipython-input-16-a04347caabfb>\u001b[0m in \u001b[0;36m<module>\u001b[0;34m()\u001b[0m\n\u001b[1;32m      1\u001b[0m \u001b[0;31m# Dane w regresji\u001b[0m\u001b[0;34m\u001b[0m\u001b[0;34m\u001b[0m\u001b[0m\n\u001b[0;32m----> 2\u001b[0;31m \u001b[0mx\u001b[0m\u001b[0;34m,\u001b[0m \u001b[0my\u001b[0m \u001b[0;34m=\u001b[0m \u001b[0msample\u001b[0m\u001b[0;34m(\u001b[0m\u001b[0;36m16\u001b[0m\u001b[0;34m)\u001b[0m\u001b[0;34m\u001b[0m\u001b[0m\n\u001b[0m\u001b[1;32m      3\u001b[0m \u001b[0mpl\u001b[0m\u001b[0;34m.\u001b[0m\u001b[0mplot\u001b[0m\u001b[0;34m(\u001b[0m\u001b[0mx\u001b[0m\u001b[0;34m,\u001b[0m \u001b[0my\u001b[0m\u001b[0;34m,\u001b[0m \u001b[0;34m'k.'\u001b[0m\u001b[0;34m)\u001b[0m\u001b[0;34m\u001b[0m\u001b[0m\n\u001b[1;32m      4\u001b[0m \u001b[0mpl\u001b[0m\u001b[0;34m.\u001b[0m\u001b[0mplot\u001b[0m\u001b[0;34m(\u001b[0m\u001b[0mf_x\u001b[0m\u001b[0;34m,\u001b[0m \u001b[0mf_y\u001b[0m\u001b[0;34m)\u001b[0m\u001b[0;34m\u001b[0m\u001b[0m\n",
      "\u001b[0;32m<ipython-input-15-eee771767550>\u001b[0m in \u001b[0;36msample\u001b[0;34m(size)\u001b[0m\n\u001b[1;32m     15\u001b[0m     '''\n\u001b[1;32m     16\u001b[0m     \u001b[0mx\u001b[0m \u001b[0;34m=\u001b[0m \u001b[0mnp\u001b[0m\u001b[0;34m.\u001b[0m\u001b[0mlinspace\u001b[0m\u001b[0;34m(\u001b[0m\u001b[0;36m0\u001b[0m\u001b[0;34m,\u001b[0m \u001b[0;36m4.5\u001b[0m\u001b[0;34m,\u001b[0m \u001b[0msize\u001b[0m\u001b[0;34m)\u001b[0m\u001b[0;34m\u001b[0m\u001b[0m\n\u001b[0;32m---> 17\u001b[0;31m     \u001b[0my\u001b[0m \u001b[0;34m=\u001b[0m \u001b[0;36m2\u001b[0m \u001b[0;34m*\u001b[0m \u001b[0mnp\u001b[0m\u001b[0;34m.\u001b[0m\u001b[0msin\u001b[0m\u001b[0;34m(\u001b[0m\u001b[0mx\u001b[0m \u001b[0;34m*\u001b[0m \u001b[0;36m1.5\u001b[0m\u001b[0;34m)\u001b[0m \u001b[0;34m+\u001b[0m \u001b[0mnp\u001b[0m\u001b[0;34m.\u001b[0m\u001b[0mrandn\u001b[0m\u001b[0;34m(\u001b[0m\u001b[0mx\u001b[0m\u001b[0;34m.\u001b[0m\u001b[0msize\u001b[0m\u001b[0;34m)\u001b[0m\u001b[0;34m\u001b[0m\u001b[0m\n\u001b[0m\u001b[1;32m     18\u001b[0m     \u001b[0;32mreturn\u001b[0m \u001b[0;34m(\u001b[0m\u001b[0mx\u001b[0m\u001b[0;34m,\u001b[0m\u001b[0my\u001b[0m\u001b[0;34m)\u001b[0m\u001b[0;34m\u001b[0m\u001b[0m\n\u001b[1;32m     19\u001b[0m \u001b[0;34m\u001b[0m\u001b[0m\n",
      "\u001b[0;31mAttributeError\u001b[0m: 'module' object has no attribute 'randn'"
     ]
    }
   ],
   "source": [
    "# Dane w regresji\n",
    "x, y = sample(16)\n",
    "pl.plot(x, y, 'k.')\n",
    "pl.plot(f_x, f_y)"
   ]
  },
  {
   "cell_type": "code",
   "execution_count": 36,
   "metadata": {
    "collapsed": false
   },
   "outputs": [
    {
     "data": {
      "text/plain": [
       "[<matplotlib.lines.Line2D at 0x11552c250>]"
      ]
     },
     "execution_count": 36,
     "metadata": {},
     "output_type": "execute_result"
    },
    {
     "data": {
      "image/png": "[encoded data removed]",
      "text/plain": [
       "<matplotlib.figure.Figure at 0x1153b46d0>"
      ]
     },
     "metadata": {},
     "output_type": "display_data"
    }
   ],
   "source": [
    "# Inny zbior danych - moglismy tez taki otrzymac!\n",
    "prev_x, prev_y = x, y\n",
    "x, y = sample(16)\n",
    "pl.plot(prev_x, prev_y, 'k.', color='black')\n",
    "pl.plot(x, y, 'k.', color='r')\n",
    "pl.plot(f_x, f_y)"
   ]
  },
  {
   "cell_type": "markdown",
   "metadata": {},
   "source": [
    "# Ewaluacja \n",
    "\n",
    "To co nas obchodzi to błąd na nowych danych (z niebieskiej kreski).\n",
    "\n",
    "Zapiszmy matematycznie podstawowy cel uczenia maszynowego.\n",
    "\n",
    "$ \\mbox{Expected loss} = \\mathbb{E}[L] = \\int \\int L(\\textbf{y}, f(\\textbf{x})) p(\\textbf{x},  \\textbf{y}) dx dy $\n",
    "\n",
    "Chcemy mieć najmniejszy błąd na wszystkich przyszłych zbiorach danych. \n",
    "\n",
    "**Cel**: jak aproksymowac ``Expected loss`` ?"
   ]
  },
  {
   "cell_type": "code",
   "execution_count": 40,
   "metadata": {
    "collapsed": false
   },
   "outputs": [
    {
     "data": {
      "text/plain": [
       "[<matplotlib.lines.Line2D at 0x116318b50>]"
      ]
     },
     "execution_count": 40,
     "metadata": {},
     "output_type": "execute_result"
    },
    {
     "data": {
      "image/png": "[encoded data removed]",
      "text/plain": [
       "<matplotlib.figure.Figure at 0x115784750>"
      ]
     },
     "metadata": {},
     "output_type": "display_data"
    }
   ],
   "source": [
    "# Tu sie dopasowalismy\n",
    "X_train, y_train = sample(16)\n",
    "overfitted_model = fit_polynomial(X_train, y_train, 15)\n",
    "p_y = apply_polynomial(overfitted_model, X_train)\n",
    "pl.plot(f_x, f_y)\n",
    "pl.plot(X_train, y, 'k.')\n",
    "pl.plot(X_train, p_y)"
   ]
  },
  {
   "cell_type": "markdown",
   "metadata": {},
   "source": [
    "## Cwiczenie 1 [2pkt] \n",
    "\n",
    "(Do zrobienia przed przejściem dalej)\n",
    "\n",
    "Jaki \"Expected loss\" będzie miał model \"overfitted_model\"?\n",
    "\n",
    "Hint: mamy możliwość samplowania punktów z rozkładu $p(\\textbf{x},  \\textbf{y})$"
   ]
  },
  {
   "cell_type": "markdown",
   "metadata": {},
   "source": [
    "## Założenie i.i.d.\n",
    "\n",
    "Ale zwykle nie mamy dostępu do funkcji \"sample\". Załóżmy, że nasze dane trenujące (X_train, y_train) są i.i.d. z rozkładu łącznego (X, Y). Wtedy możemy znaleźć przybliżenie \"Expected loss\"!"
   ]
  },
  {
   "cell_type": "markdown",
   "metadata": {},
   "source": [
    "## Test set \n",
    "\n",
    "Skoro nasze dane są i.i.d., to znaczy że jeśli podzielimy je 2 losowe podzbiory (X_train, y_train) oraz (X_test, y_test) to (X_test, y_test) też będą i.i.d.\n",
    "\n",
    "Jeśli nie będziemy trenować na X_test, y_test to błąd na zbiorze testującym\n",
    "\n",
    "$$\\mbox{Empirical loss} = \\sum_{i=1}^{N} L(\\textbf{y_i}, f(\\textbf{x_i})) $$\n",
    "\n",
    "będzie **estymatorem** ``Expected loss`` (definicja estymatora później)"
   ]
  },
  {
   "cell_type": "markdown",
   "metadata": {},
   "source": [
    "## Cross validation\n",
    "\n",
    "Estymator ``Empirical loss`` ma dużą wariancję (no bo może akurat wylosowaliśmy prosty zbiór testujący). Aby zmniejszyć jego wariancję możemy losować pare podziałów i uśrednić.\n",
    "\n",
    "<img src=\"figures/L3/K-fold_cross_validation_EN.jpg\">"
   ]
  },
  {
   "cell_type": "markdown",
   "metadata": {},
   "source": [
    "# Bias variance\n",
    "\n",
    "W czasie dalszej rozmowy definiujemy: model to zbiór hipotez.\n",
    "\n",
    "(też pojawia się na rozmowach kwalifikacyjnych)\n",
    "\n",
    "``Expected loss`` można sprytnie rozbić dla błędu średnio-kwadratowego [wyprowadzić na tablicy, ref: Bishop p. 149]:\n",
    "\n",
    "$ \\mbox{Expected loss} = \\mathbb{E}_D[L] = \\mathbb{E}_D[(y - f(x, D))^2]  = (\\mathbb{E}_D(y) - f(x, D))^2 + \\mathbb{E}_D[(f(x, D) - \\mathbb{E}_D(f(x, D)))^2] = \\mbox{bias}^2 + \\mbox{variance}$\n",
    "\n",
    "Dla innych błędów także zachodzą odpowiednie dekompozycje bias-variance, ale są bardziej skomplikowane.\n",
    "\n",
    "Uwaga: nie rozważamy tutaj szumu dla uproszczenia.\n",
    "\n",
    "## Intuicja 1\n",
    "\n",
    "Samplujemy 2 punkty z funkcji f(x) = sin(x):\n",
    "\n",
    "<img width=450 src=\"figures/L5/b1.png\">\n",
    "<img width=450 src=\"figures/L5/b2.png\">\n",
    "<img width=450 src=\"figures/L5/b3.png\">\n",
    "\n",
    "## Intuicja 2\n",
    "\n",
    "Każda rzutka to ``expected loss`` modelu (modele uczone na różnych samplach). Środek to najlepszy model. Od teraz każdy model będziemy rozważać w tych 4 kategoriach.\n",
    "\n",
    "<img width=350 src=\"figures/L5/bias_variance.png\">"
   ]
  },
  {
   "cell_type": "markdown",
   "metadata": {},
   "source": [
    "## Poziom 1 wtajemniczenia\n",
    "\n",
    "1. Samplujemy punkty z rozkładu sinus + szum. \n",
    "2. Fitujemy regresje liniową jak na L4 \n",
    "3. Wracamy do 1 i rysujemy wynik dla paru iteracji"
   ]
  },
  {
   "cell_type": "code",
   "execution_count": 12,
   "metadata": {
    "collapsed": false
   },
   "outputs": [
    {
     "ename": "AttributeError",
     "evalue": "'module' object has no attribute 'randn'",
     "output_type": "error",
     "traceback": [
      "\u001b[0;31m---------------------------------------------------------------------------\u001b[0m",
      "\u001b[0;31mAttributeError\u001b[0m                            Traceback (most recent call last)",
      "\u001b[0;32m<ipython-input-12-91a0664c1268>\u001b[0m in \u001b[0;36m<module>\u001b[0;34m()\u001b[0m\n\u001b[1;32m      2\u001b[0m \u001b[0mf_x\u001b[0m\u001b[0;34m,\u001b[0m \u001b[0mf_y\u001b[0m \u001b[0;34m=\u001b[0m \u001b[0mf\u001b[0m\u001b[0;34m(\u001b[0m\u001b[0;36m50\u001b[0m\u001b[0;34m)\u001b[0m\u001b[0;34m\u001b[0m\u001b[0m\n\u001b[1;32m      3\u001b[0m \u001b[0mpl\u001b[0m\u001b[0;34m.\u001b[0m\u001b[0mplot\u001b[0m\u001b[0;34m(\u001b[0m\u001b[0mf_x\u001b[0m\u001b[0;34m,\u001b[0m \u001b[0mf_y\u001b[0m\u001b[0;34m)\u001b[0m\u001b[0;34m\u001b[0m\u001b[0m\n\u001b[0;32m----> 4\u001b[0;31m \u001b[0mx\u001b[0m\u001b[0;34m,\u001b[0m \u001b[0my\u001b[0m \u001b[0;34m=\u001b[0m \u001b[0msample\u001b[0m\u001b[0;34m(\u001b[0m\u001b[0;36m50\u001b[0m\u001b[0;34m)\u001b[0m\u001b[0;34m\u001b[0m\u001b[0m\n\u001b[0m\u001b[1;32m      5\u001b[0m \u001b[0mpl\u001b[0m\u001b[0;34m.\u001b[0m\u001b[0mplot\u001b[0m\u001b[0;34m(\u001b[0m\u001b[0mx\u001b[0m\u001b[0;34m,\u001b[0m \u001b[0my\u001b[0m\u001b[0;34m,\u001b[0m \u001b[0;34m'k.'\u001b[0m\u001b[0;34m)\u001b[0m\u001b[0;34m\u001b[0m\u001b[0m\n",
      "\u001b[0;32m<ipython-input-8-ffc25207ed67>\u001b[0m in \u001b[0;36msample\u001b[0;34m(size)\u001b[0m\n\u001b[1;32m     15\u001b[0m     '''\n\u001b[1;32m     16\u001b[0m     \u001b[0mx\u001b[0m \u001b[0;34m=\u001b[0m \u001b[0mnp\u001b[0m\u001b[0;34m.\u001b[0m\u001b[0mlinspace\u001b[0m\u001b[0;34m(\u001b[0m\u001b[0;36m0\u001b[0m\u001b[0;34m,\u001b[0m \u001b[0;36m4.5\u001b[0m\u001b[0;34m,\u001b[0m \u001b[0msize\u001b[0m\u001b[0;34m)\u001b[0m\u001b[0;34m\u001b[0m\u001b[0m\n\u001b[0;32m---> 17\u001b[0;31m     \u001b[0my\u001b[0m \u001b[0;34m=\u001b[0m \u001b[0;36m2\u001b[0m \u001b[0;34m*\u001b[0m \u001b[0mnp\u001b[0m\u001b[0;34m.\u001b[0m\u001b[0msin\u001b[0m\u001b[0;34m(\u001b[0m\u001b[0mx\u001b[0m \u001b[0;34m*\u001b[0m \u001b[0;36m1.5\u001b[0m\u001b[0;34m)\u001b[0m \u001b[0;34m+\u001b[0m \u001b[0mpl\u001b[0m\u001b[0;34m.\u001b[0m\u001b[0mrandn\u001b[0m\u001b[0;34m(\u001b[0m\u001b[0mx\u001b[0m\u001b[0;34m.\u001b[0m\u001b[0msize\u001b[0m\u001b[0;34m)\u001b[0m\u001b[0;34m\u001b[0m\u001b[0m\n\u001b[0m\u001b[1;32m     18\u001b[0m     \u001b[0;32mreturn\u001b[0m \u001b[0;34m(\u001b[0m\u001b[0mx\u001b[0m\u001b[0;34m,\u001b[0m\u001b[0my\u001b[0m\u001b[0;34m)\u001b[0m\u001b[0;34m\u001b[0m\u001b[0m\n\u001b[1;32m     19\u001b[0m \u001b[0;34m\u001b[0m\u001b[0m\n",
      "\u001b[0;31mAttributeError\u001b[0m: 'module' object has no attribute 'randn'"
     ]
    }
   ],
   "source": [
    "pl.clf()\n",
    "f_x, f_y = f(50)\n",
    "pl.plot(f_x, f_y)\n",
    "x, y = sample(50)\n",
    "pl.plot(x, y, 'k.')"
   ]
  },
  {
   "cell_type": "code",
   "execution_count": 11,
   "metadata": {
    "collapsed": false
   },
   "outputs": [
    {
     "ename": "NameError",
     "evalue": "name 'x' is not defined",
     "output_type": "error",
     "traceback": [
      "\u001b[0;31m---------------------------------------------------------------------------\u001b[0m",
      "\u001b[0;31mNameError\u001b[0m                                 Traceback (most recent call last)",
      "\u001b[0;32m<ipython-input-11-afbb68db6ae9>\u001b[0m in \u001b[0;36m<module>\u001b[0;34m()\u001b[0m\n\u001b[0;32m----> 1\u001b[0;31m \u001b[0mmodel\u001b[0m \u001b[0;34m=\u001b[0m \u001b[0mfit_polynomial\u001b[0m\u001b[0;34m(\u001b[0m\u001b[0mx\u001b[0m\u001b[0;34m,\u001b[0m \u001b[0my\u001b[0m\u001b[0;34m,\u001b[0m \u001b[0;36m8\u001b[0m\u001b[0;34m)\u001b[0m\u001b[0;34m\u001b[0m\u001b[0m\n\u001b[0m\u001b[1;32m      2\u001b[0m \u001b[0mp_y\u001b[0m \u001b[0;34m=\u001b[0m \u001b[0mapply_polynomial\u001b[0m\u001b[0;34m(\u001b[0m\u001b[0mmodel\u001b[0m\u001b[0;34m,\u001b[0m \u001b[0mx\u001b[0m\u001b[0;34m)\u001b[0m\u001b[0;34m\u001b[0m\u001b[0m\n\u001b[1;32m      3\u001b[0m \u001b[0mpl\u001b[0m\u001b[0;34m.\u001b[0m\u001b[0mplot\u001b[0m\u001b[0;34m(\u001b[0m\u001b[0mf_x\u001b[0m\u001b[0;34m,\u001b[0m \u001b[0mf_y\u001b[0m\u001b[0;34m)\u001b[0m\u001b[0;34m\u001b[0m\u001b[0m\n\u001b[1;32m      4\u001b[0m \u001b[0mpl\u001b[0m\u001b[0;34m.\u001b[0m\u001b[0mplot\u001b[0m\u001b[0;34m(\u001b[0m\u001b[0mx\u001b[0m\u001b[0;34m,\u001b[0m \u001b[0my\u001b[0m\u001b[0;34m,\u001b[0m \u001b[0;34m'k.'\u001b[0m\u001b[0;34m)\u001b[0m\u001b[0;34m\u001b[0m\u001b[0m\n\u001b[1;32m      5\u001b[0m \u001b[0mpl\u001b[0m\u001b[0;34m.\u001b[0m\u001b[0mplot\u001b[0m\u001b[0;34m(\u001b[0m\u001b[0mx\u001b[0m\u001b[0;34m,\u001b[0m \u001b[0mp_y\u001b[0m\u001b[0;34m)\u001b[0m\u001b[0;34m\u001b[0m\u001b[0m\n",
      "\u001b[0;31mNameError\u001b[0m: name 'x' is not defined"
     ]
    }
   ],
   "source": [
    "model = fit_polynomial(x, y, 8)\n",
    "p_y = apply_polynomial(model, x)\n",
    "pl.plot(f_x, f_y)\n",
    "pl.plot(x, y, 'k.')\n",
    "pl.plot(x, p_y)"
   ]
  },
  {
   "cell_type": "markdown",
   "metadata": {},
   "source": [
    "## Cwiczenie 1 [2 pkt]\n",
    "\n",
    "W idealnym świecie, jeśli mielibyśmy dostęp do procesu generowania danych to możnaby znaleźć optymalny model oraz oszacować jego bias i variance.\n",
    "\n",
    "1. Napisz kod, ktory liczy bias, variance oraz MSE dla różnych wartości K.\n",
    "\n",
    "2. Dla jakich wartości można powiedzieć że mamy model \"High variance/low bias\"?\n",
    "\n",
    "3. Jaka wartość daje minimum błędu\n",
    "\n",
    "Oczekiwany wynik: \n",
    "\n",
    "<img src=\"figures/L5/L5_1_wynik.png\">"
   ]
  },
  {
   "cell_type": "code",
   "execution_count": 7,
   "metadata": {
    "collapsed": false
   },
   "outputs": [
    {
     "ename": "NameError",
     "evalue": "global name 'pl' is not defined",
     "output_type": "error",
     "traceback": [
      "\u001b[0;31m---------------------------------------------------------------------------\u001b[0m",
      "\u001b[0;31mNameError\u001b[0m                                 Traceback (most recent call last)",
      "\u001b[0;32m<ipython-input-7-aff111ae4df2>\u001b[0m in \u001b[0;36m<module>\u001b[0;34m()\u001b[0m\n\u001b[1;32m     21\u001b[0m     \u001b[0mvariances\u001b[0m \u001b[0;34m=\u001b[0m \u001b[0;34m[\u001b[0m\u001b[0;34m]\u001b[0m\u001b[0;34m\u001b[0m\u001b[0m\n\u001b[1;32m     22\u001b[0m     \u001b[0mmses\u001b[0m \u001b[0;34m=\u001b[0m \u001b[0;34m[\u001b[0m\u001b[0;34m]\u001b[0m\u001b[0;34m\u001b[0m\u001b[0m\n\u001b[0;32m---> 23\u001b[0;31m     \u001b[0;34m[\u001b[0m\u001b[0mbias\u001b[0m\u001b[0;34m,\u001b[0m\u001b[0mvariance\u001b[0m\u001b[0;34m,\u001b[0m\u001b[0mmse\u001b[0m\u001b[0;34m]\u001b[0m \u001b[0;34m=\u001b[0m \u001b[0mcals\u001b[0m\u001b[0;34m(\u001b[0m\u001b[0mk\u001b[0m\u001b[0;34m)\u001b[0m\u001b[0;34m\u001b[0m\u001b[0m\n\u001b[0m\u001b[1;32m     24\u001b[0m     \u001b[0mbiases\u001b[0m\u001b[0;34m.\u001b[0m\u001b[0mappend\u001b[0m\u001b[0;34m(\u001b[0m\u001b[0mbias\u001b[0m\u001b[0;34m)\u001b[0m\u001b[0;34m\u001b[0m\u001b[0m\n\u001b[1;32m     25\u001b[0m     \u001b[0mvariances\u001b[0m\u001b[0;34m.\u001b[0m\u001b[0mappend\u001b[0m\u001b[0;34m(\u001b[0m\u001b[0mvariance\u001b[0m\u001b[0;34m)\u001b[0m\u001b[0;34m\u001b[0m\u001b[0m\n",
      "\u001b[0;32m<ipython-input-7-aff111ae4df2>\u001b[0m in \u001b[0;36mcals\u001b[0;34m(k)\u001b[0m\n\u001b[1;32m      3\u001b[0m     \u001b[0mmodels\u001b[0m \u001b[0;34m=\u001b[0m \u001b[0;34m[\u001b[0m\u001b[0;34m]\u001b[0m\u001b[0;34m\u001b[0m\u001b[0m\n\u001b[1;32m      4\u001b[0m     \u001b[0;32mfor\u001b[0m \u001b[0mi\u001b[0m \u001b[0;32min\u001b[0m \u001b[0mrange\u001b[0m\u001b[0;34m(\u001b[0m\u001b[0;36m100\u001b[0m\u001b[0;34m)\u001b[0m\u001b[0;34m:\u001b[0m\u001b[0;34m\u001b[0m\u001b[0m\n\u001b[0;32m----> 5\u001b[0;31m         \u001b[0mx_train\u001b[0m\u001b[0;34m,\u001b[0m \u001b[0my_train\u001b[0m \u001b[0;34m=\u001b[0m \u001b[0msample\u001b[0m\u001b[0;34m(\u001b[0m\u001b[0;36m100\u001b[0m\u001b[0;34m)\u001b[0m\u001b[0;34m\u001b[0m\u001b[0m\n\u001b[0m\u001b[1;32m      6\u001b[0m         \u001b[0mmodel\u001b[0m \u001b[0;34m=\u001b[0m \u001b[0mfit_polynomial\u001b[0m\u001b[0;34m(\u001b[0m\u001b[0mx_train\u001b[0m\u001b[0;34m,\u001b[0m \u001b[0my_train\u001b[0m\u001b[0;34m,\u001b[0m \u001b[0mk\u001b[0m\u001b[0;34m)\u001b[0m\u001b[0;34m\u001b[0m\u001b[0m\n\u001b[1;32m      7\u001b[0m         \u001b[0mmodels\u001b[0m\u001b[0;34m.\u001b[0m\u001b[0mappend\u001b[0m\u001b[0;34m(\u001b[0m\u001b[0mmodel\u001b[0m\u001b[0;34m)\u001b[0m\u001b[0;34m\u001b[0m\u001b[0m\n",
      "\u001b[0;32m<ipython-input-4-cda75a918744>\u001b[0m in \u001b[0;36msample\u001b[0;34m(size)\u001b[0m\n\u001b[1;32m     14\u001b[0m     '''\n\u001b[1;32m     15\u001b[0m     \u001b[0mx\u001b[0m \u001b[0;34m=\u001b[0m \u001b[0mnp\u001b[0m\u001b[0;34m.\u001b[0m\u001b[0mlinspace\u001b[0m\u001b[0;34m(\u001b[0m\u001b[0;36m0\u001b[0m\u001b[0;34m,\u001b[0m \u001b[0;36m4.5\u001b[0m\u001b[0;34m,\u001b[0m \u001b[0msize\u001b[0m\u001b[0;34m)\u001b[0m\u001b[0;34m\u001b[0m\u001b[0m\n\u001b[0;32m---> 16\u001b[0;31m     \u001b[0my\u001b[0m \u001b[0;34m=\u001b[0m \u001b[0;36m2\u001b[0m \u001b[0;34m*\u001b[0m \u001b[0mnp\u001b[0m\u001b[0;34m.\u001b[0m\u001b[0msin\u001b[0m\u001b[0;34m(\u001b[0m\u001b[0mx\u001b[0m \u001b[0;34m*\u001b[0m \u001b[0;36m1.5\u001b[0m\u001b[0;34m)\u001b[0m \u001b[0;34m+\u001b[0m \u001b[0mpl\u001b[0m\u001b[0;34m.\u001b[0m\u001b[0mrandn\u001b[0m\u001b[0;34m(\u001b[0m\u001b[0mx\u001b[0m\u001b[0;34m.\u001b[0m\u001b[0msize\u001b[0m\u001b[0;34m)\u001b[0m\u001b[0;34m\u001b[0m\u001b[0m\n\u001b[0m\u001b[1;32m     17\u001b[0m     \u001b[0;32mreturn\u001b[0m \u001b[0;34m(\u001b[0m\u001b[0mx\u001b[0m\u001b[0;34m,\u001b[0m\u001b[0my\u001b[0m\u001b[0;34m)\u001b[0m\u001b[0;34m\u001b[0m\u001b[0m\n\u001b[1;32m     18\u001b[0m \u001b[0;34m\u001b[0m\u001b[0m\n",
      "\u001b[0;31mNameError\u001b[0m: global name 'pl' is not defined"
     ]
    }
   ],
   "source": [
    "def cals(k):\n",
    "    f_x, f_y = f(50)\n",
    "    models = []\n",
    "    for i in range(100):\n",
    "        x_train, y_train = sample(100)\n",
    "        model = fit_polynomial(x_train, y_train, k)\n",
    "        models.append(model)\n",
    "    g = lambda x: (1/float(len(models))) * sum([model.predict(x) for model in models])\n",
    "    bias = 0\n",
    "    variance = 0\n",
    "    for j in range(len(f_x)):\n",
    "        bias += (g(f_x[j]) - f_y[j])**2\n",
    "        for m in range(len(models)):\n",
    "            variance += (g(f_x[j]) - models[m].predict(f_x[j]))**2\n",
    "    variance /= float(len(models))\n",
    "    bias /= float(len(models))\n",
    "    mse = bias**2 + variance #????\n",
    "    return [bias, variance, mse]\n",
    "for k in range(1, 9):\n",
    "    biases = []\n",
    "    variances = []\n",
    "    mses = []\n",
    "    [bias,variance,mse] = cals(k)\n",
    "    biases.append(bias)\n",
    "    variances.append(variance)\n",
    "    mses.append()\n",
    "print biases, variances, mses\n",
    "    # Plot\n"
   ]
  },
  {
   "cell_type": "markdown",
   "metadata": {},
   "source": [
    "### Poziom 2 wtajemniczenia\n",
    "\n",
    "Ref: https://en.wikipedia.org/wiki/Estimator, http://blog.evjang.com/2016/09/variance-reduction-part1.html\n",
    "\n",
    "Mówiliśmy o błędzie modelu. Bias-variance dotyczy *dowolnej estymacji*! (np. pogody lub średniej)\n",
    "\n",
    "Zdefiniujmy dowolny estymator: $\\hat{\\theta}(X)$ np:\n",
    "\n",
    "* $mean(x_1, \\ldots, x_n) = \\frac{1}{n} \\sum x_i$\n",
    "* $cov(x_1, \\ldots, x_n) = \\frac{1}{n-1} \\sum x_i^T x_i$\n",
    "\n",
    "\n",
    "Wtedy także zachodzi:\n",
    "\n",
    "$MSE(\\hat{\\theta}(X)) = var(\\hat{\\theta}) +  (B(\\hat{\\theta}))^2$\n",
    "\n",
    "Estymatorem też są dowolne metody Monte Carlo, np. estymujące prawdopodobieństwo wygrania w Monty Hall lub powierzchnie figury. Podobnie jak w machine learningu, istnieją sposoby zmniejszenia wariancji. Np. w metodach Monte Carlo estymujących wartość funkcji można samplować nie losowe punkty, are pary punktów na przeciwko siebie względem środka.\n",
    "\n",
    "<img width=300 src=\"figures/L5/mc_target.png\">\n",
    "<img width=300 src=\"figures/L5/mc_norm.png\">\n",
    "<img width=300 src=\"figures/L5/mc_ant.png\">"
   ]
  },
  {
   "cell_type": "markdown",
   "metadata": {},
   "source": [
    "## Cwiczenie 2 [1 pkt]\n",
    "\n",
    "Im więcej podziałów w Cross Validation tym mniejczy czy większy variance estymatora? Odpowiedź uzasadnij."
   ]
  },
  {
   "cell_type": "markdown",
   "metadata": {},
   "source": [
    "# Regularyzacja\n",
    "\n",
    "Przez regularyzacje rozumiem faworyzowanie \"prostszych\" hipotez w ramach danego zbioru hipotez (modelu). Mówiąc inaczej, regularyzacja zwiększa bias kosztem wariancji. Przykładami regularyzacji są L1/L2."
   ]
  },
  {
   "cell_type": "markdown",
   "metadata": {},
   "source": [
    "## Regularyzacja - podejście \"praktyczne\"\n",
    "\n",
    "Patrząc na wykresy w sekcji \"Bias variance\" logiczne wydaje się ograniczenie norm parametrów:\n",
    "\n",
    "$ C(M) = \\sum_i || f(x) - y) ||_2^2 + \\lambda ||\\theta||^2 $\n",
    "\n",
    "Wtedy niemożliwe (tzn. będzie lepsze rozwiązanie w klasie hipotez) będzie dokładne dopasowanie się do 10 punktów jeśli uczymy wielomian 10 stopnia. "
   ]
  },
  {
   "cell_type": "markdown",
   "metadata": {},
   "source": [
    "### Kontury funkcji kosztu"
   ]
  },
  {
   "cell_type": "markdown",
   "metadata": {},
   "source": [
    "Poziomice C(M), osobno dla 2 członów (MSE oraz regularyzacja). Prawy wykres to L1, lewy to L2.\n",
    "\n",
    "<img width=600 src=\"figures/L5/cont.png\">"
   ]
  },
  {
   "cell_type": "markdown",
   "metadata": {},
   "source": [
    "### Formalizacja Bayesowska regularyzacji\n",
    "\n",
    "Podejście Bayesowskie formalizuje powyższą intuicję i to wszystko! Jeśli nasz prior odpowiada rzeczywistości, to błąd na zbiorze testującym będzie niski.\n",
    "\n",
    "Faktycznie - w rzeczywistości często funkcje/zjawiska są wytłumaczalne przez małą ilość zmiennych (regularyzacja L1), dlatego też jest ona tak wysoce skuteczna."
   ]
  },
  {
   "cell_type": "markdown",
   "metadata": {},
   "source": [
    "## Cwiczenie 3 [1 pkt]\n",
    "\n",
    "Pokaż, że logposterior ($log p(\\theta | X, y)$) dla regresji liniowej ma taką postać jak $C(M)$."
   ]
  },
  {
   "cell_type": "markdown",
   "metadata": {},
   "source": [
    "### Inne przykłady regularyzacji\n",
    "\n",
    "* Model najbliższych sąsiadów (k-NN)\n",
    "\n",
    "* Estymacja gęstości (szerokość jądra funkcji bazowych)\n",
    "\n",
    "* Dropout w sieciach neuronowych"
   ]
  }
 ],
 "metadata": {
  "kernelspec": {
   "display_name": "Python 2",
   "language": "python",
   "name": "python2"
  },
  "language_info": {
   "codemirror_mode": {
    "name": "ipython",
    "version": 2
   },
   "file_extension": ".py",
   "mimetype": "text/x-python",
   "name": "python",
   "nbconvert_exporter": "python",
   "pygments_lexer": "ipython2",
   "version": "2.7.13"
  },
  "toc": {
   "toc_cell": false,
   "toc_number_sections": true,
   "toc_threshold": 6,
   "toc_window_display": false
  }
 },
 "nbformat": 4,
 "nbformat_minor": 0
}
