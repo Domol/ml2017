{
 "cells": [
  {
   "cell_type": "markdown",
   "metadata": {},
   "source": [
    "# L5\n",
    "\n",
    "Na tych ćwiczeniach:\n",
    "    * Omówimy bias-variance\n",
    "    * Omówimy ewaluacje\n",
    "    * Zdefiniujemy co mamy na myśli mówiąc \"regularyzacja\"\n",
    "    * Omówimy związek tradycyjnej regularyzacji z wnioskowaniem Bayesowskim "
   ]
  },
  {
   "cell_type": "markdown",
   "metadata": {},
   "source": [
    "Omówiliśmy podejście Bayesowskie, aż do prawdziwego postawienia bayesowskiej regresji liniowej.\n",
    "\n",
    "Zapomnijmy na chwile o tym wszystkim.\n",
    "\n",
    "<img width=500 src=\"figures/L5/plane.jpg\">"
   ]
  },
  {
   "cell_type": "markdown",
   "metadata": {},
   "source": [
    "## Bias variance\n",
    "\n",
    "(też pojawia się na rozmowach kwalifikacyjnych)\n",
    "\n",
    "\n",
    "Wyobraźmy sobie hipotetyczny proces:\n",
    "\n",
    "1. Wylosuj dane \n",
    "2. Dopasuj regresje liniową do danych\n",
    "\n",
    "Zwykle mamy jedną wersję danych, ale żeby mówić o bias variance, musimy mówić o rozkładzie z jakiego pochodzą dane.\n",
    "\n",
    "Każda rzutka to nauczenie modelu na nowym sample'u danych. Środek to najlepszy model.\n",
    "\n",
    "<img width=350 src=\"figures/L5/bias_variance.png\">"
   ]
  },
  {
   "cell_type": "markdown",
   "metadata": {},
   "source": [
    "### Poziom 1 wtajemniczenia\n",
    "\n",
    "1. Samplujemy punkty z rozkładu sinus + szum. \n",
    "2. Fitujemy regresje liniową jak na L4 \n",
    "3. Wracamy do 1 i rysujemy wynik dla paru iteracji"
   ]
  },
  {
   "cell_type": "code",
   "execution_count": null,
   "metadata": {
    "collapsed": true
   },
   "outputs": [],
   "source": [
    "# Przydatne funkcje\n",
    "\n",
    "def f(size):\n",
    "    '''\n",
    "    Returns a sample with 'size' instances without noise.\n",
    "    '''\n",
    "    x = np.linspace(0, 4.5, size)\n",
    "    y = 2 * np.sin(x * 1.5)\n",
    "    return (x,y)\n",
    "\n",
    "def sample(size):\n",
    "    '''\n",
    "    Returns a sample with 'size' instances.\n",
    "    '''\n",
    "    x = np.linspace(0, 4.5, size)\n",
    "    y = 2 * np.sin(x * 1.5) + pl.randn(x.size)\n",
    "    return (x,y)\n",
    "\n",
    "def fit_polynomial(x, y, degree):\n",
    "    '''\n",
    "    Fits a polynomial to the input sample.\n",
    "    (x,y): input sample\n",
    "    degree: polynomial degree\n",
    "    '''\n",
    "    \n",
    "    # To juz umiemy sami zaimplementować!\n",
    "    model = LinearRegression()\n",
    "    model.fit(np.vander(x, degree + 1), y)\n",
    "    return model\n",
    "\n",
    "def apply_polynomial(model, x):\n",
    "    '''\n",
    "    Evaluates a linear regression model in an input sample\n",
    "    model: linear regression model\n",
    "    x: input sample\n",
    "    '''\n",
    "    degree = model.coef_.size - 1\n",
    "    y = model.predict(np.vander(x, degree + 1))\n",
    "    return y"
   ]
  },
  {
   "cell_type": "code",
   "execution_count": 6,
   "metadata": {
    "collapsed": false
   },
   "outputs": [
    {
     "data": {
      "text/plain": [
       "[<matplotlib.lines.Line2D at 0x10acfdb50>]"
      ]
     },
     "execution_count": 6,
     "metadata": {},
     "output_type": "execute_result"
    },
    {
     "data": {
      "image/png": "[encoded data removed]",
      "text/plain": [
       "<matplotlib.figure.Figure at 0x10acfdb90>"
      ]
     },
     "metadata": {},
     "output_type": "display_data"
    }
   ],
   "source": [
    "pl.clf()\n",
    "f_x, f_y = f(50)\n",
    "pl.plot(f_x, f_y)\n",
    "x, y = sample(50)\n",
    "pl.plot(x, y, 'k.')"
   ]
  },
  {
   "cell_type": "code",
   "execution_count": 7,
   "metadata": {
    "collapsed": false
   },
   "outputs": [
    {
     "data": {
      "text/plain": [
       "[<matplotlib.lines.Line2D at 0x11222cf90>]"
      ]
     },
     "execution_count": 7,
     "metadata": {},
     "output_type": "execute_result"
    },
    {
     "data": {
      "image/png": "[encoded data removed]",
      "text/plain": [
       "<matplotlib.figure.Figure at 0x112050350>"
      ]
     },
     "metadata": {},
     "output_type": "display_data"
    }
   ],
   "source": [
    "model = fit_polynomial(x, y, 8)\n",
    "p_y = apply_polynomial(model, x)\n",
    "pl.plot(f_x, f_y)\n",
    "pl.plot(x, y, 'k.')\n",
    "pl.plot(x, p_y)"
   ]
  },
  {
   "cell_type": "markdown",
   "metadata": {},
   "source": [
    "## Cwiczenie 1 [2 pkt]\n",
    "\n",
    "Napisz kod, ktory liczy bias, variance oraz MSE dla różnych wartości K.\n",
    "\n",
    "Oczekiwany wynik: \n",
    "\n",
    "<img src=\"figures/L5/L5_1_wynik.png\">"
   ]
  },
  {
   "cell_type": "code",
   "execution_count": 9,
   "metadata": {
    "collapsed": false
   },
   "outputs": [
    {
     "ename": "SyntaxError",
     "evalue": "invalid syntax (<ipython-input-9-3d2adfa23168>, line 3)",
     "output_type": "error",
     "traceback": [
      "\u001b[0;36m  File \u001b[0;32m\"<ipython-input-9-3d2adfa23168>\"\u001b[0;36m, line \u001b[0;32m3\u001b[0m\n\u001b[0;31m    bias = ...\u001b[0m\n\u001b[0m           ^\u001b[0m\n\u001b[0;31mSyntaxError\u001b[0m\u001b[0;31m:\u001b[0m invalid syntax\n"
     ]
    }
   ],
   "source": [
    "for k in range(1, 9):\n",
    "    model = fit_polynomial(x, y, K)\n",
    "    bias = ...\n",
    "    variance = ...\n",
    "    mse = ...\n",
    "# Plot"
   ]
  },
  {
   "cell_type": "markdown",
   "metadata": {},
   "source": [
    "### Poziom 2 wtajemniczenia\n",
    "\n",
    "Ref: https://en.wikipedia.org/wiki/Estimator\n",
    "\n",
    "Zdefiniujmy dowolny estymator, np:\n",
    "\n",
    "* $mean(x_1, \\ldots, x_n) = \\frac{1}{n} \\sum x_i$\n",
    "* $cov(x_1, \\ldots, x_n) = \\frac{1}{n-1} \\sum x_i^T x_i$"
   ]
  },
  {
   "cell_type": "markdown",
   "metadata": {},
   "source": [
    "## Regularyzacja"
   ]
  },
  {
   "cell_type": "markdown",
   "metadata": {},
   "source": [
    "## Regularyzacja - podejście \"praktyczne\"\n",
    "\n",
    "Zwykle jednak kiedy wymyślamy nowe regularyzacje"
   ]
  },
  {
   "cell_type": "markdown",
   "metadata": {},
   "source": [
    "## Podejście Bayesowskie a regularyzacja"
   ]
  }
 ],
 "metadata": {
  "kernelspec": {
   "display_name": "Python 2",
   "language": "python",
   "name": "python2"
  },
  "language_info": {
   "codemirror_mode": {
    "name": "ipython",
    "version": 2
   },
   "file_extension": ".py",
   "mimetype": "text/x-python",
   "name": "python",
   "nbconvert_exporter": "python",
   "pygments_lexer": "ipython2",
   "version": "2.7.11"
  },
  "toc": {
   "toc_cell": false,
   "toc_number_sections": true,
   "toc_threshold": 6,
   "toc_window_display": false
  }
 },
 "nbformat": 4,
 "nbformat_minor": 0
}
