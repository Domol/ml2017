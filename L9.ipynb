{
 "cells": [
  {
   "cell_type": "markdown",
   "metadata": {},
   "source": [
    "# Wstęp do sieci neuronowych\n",
    "\n",
    "\n",
    "<img src=\"figures/L9/cat_neuron.jpg\" width=500>\n",
    "\n",
    "Ref: \n",
    "\n",
    "* http://cs231n.github.io/optimization-1/ \n",
    "\n",
    "* https://github.com/leriomaggio/deep-learning-keras-tensorflow/blob/master/1.3%20Introduction%20-%20Keras.ipynb\n",
    "\n",
    "* http://colah.github.io/posts/2014-10-Visualizing-MNIST/\n",
    "\n",
    "* https://github.com/peterroelants/peterroelants.github.io/blob/master/notebooks/neural_net_implementation/neural_network_implementation_part02.ipynb\n",
    "\n",
    "\n",
    "Na dzisiejszych zajęciach omówimy jak można zaimplementować jako sieć neuronową znany nam model regresji logistycznej, najpierw bardziej ręcznie, a następnie z użyciem pakietu keras. Omówimy na końcu spojrzenie na sieci neuronowe z perspektywy uczenia reprezentacji."
   ]
  },
  {
   "cell_type": "markdown",
   "metadata": {},
   "source": [
    "# Setup"
   ]
  },
  {
   "cell_type": "code",
   "execution_count": 43,
   "metadata": {
    "collapsed": false
   },
   "outputs": [
    {
     "name": "stdout",
     "output_type": "stream",
     "text": [
      "\n"
     ]
    }
   ],
   "source": [
    "import numpy as np\n",
    "import matplotlib.pyplot as plt\n",
    "from itertools import product\n",
    "from sklearn.decomposition import RandomizedPCA\n",
    "from sklearn.datasets import fetch_mldata\n",
    "from sklearn.utils import shuffle\n",
    "import matplotlib.pyplot as plt \n",
    "from matplotlib.colors import colorConverter, ListedColormap\n",
    "from matplotlib import cm #\n",
    "import os\n",
    "import tqdm\n",
    "os.environ['KERAS_BACKEND'] = 'theano'\n",
    "import keras\n",
    "from keras.datasets import mnist\n",
    "from sklearn.datasets import load_iris\n",
    "from sklearn.cross_validation import train_test_split\n",
    "from keras.models import Sequential\n",
    "from keras.layers import Dense, Activation\n",
    "from keras.optimizers import SGD, Adam\n",
    "%matplotlib inline\n",
    "np.random.seed(seed=1)"
   ]
  },
  {
   "cell_type": "code",
   "execution_count": 44,
   "metadata": {
    "collapsed": false
   },
   "outputs": [
    {
     "name": "stdout",
     "output_type": "stream",
     "text": [
      "(500, 784)\n",
      "(500, 784)\n"
     ]
    }
   ],
   "source": [
    "# Small MNIST \n",
    "(mnist_x_train, mnist_y_train), (mnist_x_test, mnist_y_test) = mnist.load_data()\n",
    "sm_train = mnist_x_train[0:500].astype('float32') / 255.\n",
    "sm_y_train = mnist_y_train[0:500]\n",
    "sm_test = mnist_x_test[0:500].astype('float32') / 255.\n",
    "sm_y_test = mnist_y_test[0:500]\n",
    "sm_train = sm_train.reshape((len(sm_train), np.prod(sm_train.shape[1:])))\n",
    "sm_test = sm_test.reshape((len(sm_test), np.prod(sm_test.shape[1:])))\n",
    "print sm_train.shape\n",
    "print sm_test.shape"
   ]
  },
  {
   "cell_type": "code",
   "execution_count": 45,
   "metadata": {
    "collapsed": true
   },
   "outputs": [],
   "source": [
    "if not keras.__version__[0] == '2':\n",
    "    raise Exception(\"Prosze zainstalowac keras>=2.0.0\")"
   ]
  },
  {
   "cell_type": "code",
   "execution_count": 46,
   "metadata": {
    "collapsed": true
   },
   "outputs": [],
   "source": [
    "def logistic(z): \n",
    "    return 1 / (1 + np.exp(-z))\n",
    "\n",
    "def nn(x, w): \n",
    "    return logistic(x.dot(w.T))\n",
    "\n",
    "def nn_predict(x,w): \n",
    "    return np.array(np.around(nn(x,w)))\n",
    "\n",
    "def cost(y, t):\n",
    "    return - np.sum(np.multiply(t, np.log(y)) + np.multiply((1-t), np.log(1-y)))"
   ]
  },
  {
   "cell_type": "code",
   "execution_count": 47,
   "metadata": {
    "collapsed": true
   },
   "outputs": [],
   "source": [
    "# Define and generate the samples\n",
    "nb_of_samples_per_class = 100  # The number of sample in each class\n",
    "red_mean = [-1,0]  # The mean of the red class\n",
    "blue_mean = [1,0]  # The mean of the blue class\n",
    "std_dev = 1.2  # standard deviation of both classes\n",
    "# Generate samples from both classes\n",
    "x_red = np.random.randn(nb_of_samples_per_class, 2) * std_dev + red_mean\n",
    "x_blue = np.random.randn(nb_of_samples_per_class, 2) * std_dev + blue_mean\n",
    "\n",
    "# Merge samples in set of input variables x, and corresponding set of output variables t\n",
    "X_toy = np.vstack((x_red, x_blue))\n",
    "t_toy = np.vstack((np.zeros((nb_of_samples_per_class,1)), np.ones((nb_of_samples_per_class,1))))\n",
    "\n",
    "toy_train, toy_test, toy_y_train, toy_y_test = train_test_split(X_toy, t_toy, test_size=0.15)\n",
    "\n",
    "# Przyda sie do sekcji o kerasie\n",
    "toy_y_train_one_hot = keras.utils.to_categorical(toy_y_train)\n",
    "toy_y_test_one_hot = keras.utils.to_categorical(toy_y_test)"
   ]
  },
  {
   "cell_type": "code",
   "execution_count": 48,
   "metadata": {
    "collapsed": false
   },
   "outputs": [
    {
     "data": {
      "image/png": "[encoded data removed]",
      "text/plain": [
       "<matplotlib.figure.Figure at 0x11a11d790>"
      ]
     },
     "metadata": {},
     "output_type": "display_data"
    }
   ],
   "source": [
    "# Plot both classes on the x1, x2 plane\n",
    "plt.plot(x_red[:,0], x_red[:,1], 'ro', label='class red')\n",
    "plt.plot(x_blue[:,0], x_blue[:,1], 'bo', label='class blue')\n",
    "plt.grid()\n",
    "plt.legend(loc=2)\n",
    "plt.xlabel('$x_1$', fontsize=15)\n",
    "plt.ylabel('$x_2$', fontsize=15)\n",
    "plt.axis([-4, 4, -4, 4])\n",
    "plt.title('red vs. blue classes in the input space')\n",
    "plt.show()"
   ]
  },
  {
   "cell_type": "markdown",
   "metadata": {},
   "source": [
    "# Siec Neuronowa, a regresja logistyczna\n",
    "\n",
    "Przypomnijmy sobie co robi regresja logistyczna. Z L7:\n",
    "\n",
    "Przekształcając $$ \\log(o) = \\sum \\theta_i x_i $$ otrzymujemy *bezpośrednio*, że $$ p(y | x) = \\mbox{sigmoid}(\\sum \\theta_i x_i) $$, gdzie $sigmoid(a) = \\frac{1}{1 + \\exp(-a)}$.\n",
    "\n",
    "Można ostatni wzór zapisać w postaci \"sieci neuronowej\":\n",
    "\n",
    "<center><img width=500 src=\"figures/L9/logreg.png\"></center>\n",
    "\n",
    "To co pozostaje to jak wyznaczyć wagi przez optymalizacją. Przypomnijmy, że szukamy parametrów optymalizujących log-likelihood $$ LL(\\hat y, y) = CE(\\hat y, y) = \\sum_{i=1}^{N} y \\log\\hat(y) $$. W regresji liniowej było prosto!\n",
    "\n",
    "[Opisać/wyjaśnic cross entropy]"
   ]
  },
  {
   "cell_type": "markdown",
   "metadata": {},
   "source": [
    "## Czego szuka regresja logistyczna\n",
    "\n",
    "Regresja logistyczna dostaje kare za najdrobniejsza pomyłkę. Jeśli dla kasy 1 mówi z pewnością 99%, to dalej będzie niezerowy koszt:\n",
    "    \n",
    "<img width=500 src=\"figures/L9/logreg_vs_svm.png\">"
   ]
  },
  {
   "cell_type": "markdown",
   "metadata": {},
   "source": [
    "## Optymalizacja\n",
    "\n",
    "Jak dotad nie rozpatrywaliśmy optymalizacji. Regresja liniowa ma rozwiązanie \"zamknięte\", ale nie wiemy jak optymalizować błąd regresji logistycznej!"
   ]
  },
  {
   "cell_type": "markdown",
   "metadata": {},
   "source": [
    "$$ \\theta^* = argmax_{\\theta} L(p( \\hat y | x, \\theta), y) = CE(p(\\hat y | x, \\theta), y) = \\sum_{i=1}^{N} y \\log\\hat(y) $$.\n",
    "\n",
    "Dla klas binarnych:\n",
    "\n",
    "$$ \\sum_{i=1}^N y_i \\log \\hat y_i - (1 - y_i) \\log (1 - \\hat y_i ) $$\n",
    "\n",
    "Jak znaleźć $\\theta^*$? Użyjemy metody gradientowej:\n",
    "\n",
    "$$ \\theta^{t+1} = \\theta^{t} - \\alpha \\frac{\\partial L}{\\partial \\theta} $$"
   ]
  },
  {
   "cell_type": "markdown",
   "metadata": {},
   "source": [
    "### Funkcja kosztu nie jest już taka prosta!"
   ]
  },
  {
   "cell_type": "code",
   "execution_count": 49,
   "metadata": {
    "collapsed": false
   },
   "outputs": [
    {
     "data": {
      "image/png": "[encoded data removed]",
      "text/plain": [
       "<matplotlib.figure.Figure at 0x118d58850>"
      ]
     },
     "metadata": {},
     "output_type": "display_data"
    }
   ],
   "source": [
    "# Plot the cost in function of the weights\n",
    "# Define a vector of weights for which we want to plot the cost\n",
    "nb_of_ws = 100 # compute the cost nb_of_ws times in each dimension\n",
    "ws1 = np.linspace(-5, 5, num=nb_of_ws) # weight 1\n",
    "ws2 = np.linspace(-5, 5, num=nb_of_ws) # weight 2\n",
    "ws_x, ws_y = np.meshgrid(ws1, ws2) # generate grid\n",
    "cost_ws = np.zeros((nb_of_ws, nb_of_ws)) # initialize cost matrix\n",
    "\n",
    "# Fill the cost matrix for each combination of weights\n",
    "for i in range(nb_of_ws):\n",
    "    for j in range(nb_of_ws):\n",
    "        cost_ws[i,j] = cost(nn(toy_train, np.asmatrix([ws_x[i,j], ws_y[i,j]])) , toy_y_train)\n",
    "        \n",
    "# Plot the cost function surface\n",
    "plt.contourf(ws_x, ws_y, cost_ws, 20, cmap=cm.pink)\n",
    "cbar = plt.colorbar()\n",
    "cbar.ax.set_ylabel('$\\\\xi$', fontsize=15)\n",
    "plt.xlabel('$w_1$', fontsize=15)\n",
    "plt.ylabel('$w_2$', fontsize=15)\n",
    "plt.title('Cost function surface')\n",
    "plt.grid()\n",
    "plt.show()"
   ]
  },
  {
   "cell_type": "markdown",
   "metadata": {},
   "source": [
    "### Implementacja SGD\n",
    "\n",
    "[Wyprowadzić na tablicy wzór na dLL/dtheta_i, jak to sie ma do backprop]\n",
    "\n",
    "Jak właśnie pokazaliśmy $$ \\frac{\\partial L}{\\partial \\theta_i} = x_i (\\hat y_i - t_i) $$\n",
    "\n",
    "[Interpretacja geometryczna gradientu regresji logistycznej]"
   ]
  },
  {
   "cell_type": "markdown",
   "metadata": {},
   "source": [
    "### Zadanie 1, Nauka regresji logistycznej przez GD [2pkt]\n",
    "\n",
    "(Uwaga: jest GD nie SGD ponieważ liczymy gradient na całym zbiorze)\n",
    "\n",
    "1. Zaimplementuj GD dla zbioru danych toy. \n",
    "2. Wygeneruj wizualizacje procesu uczenia (ostatnia komórka)\n",
    "3. Narysuj wizualizacje dla learning_rate=10.0, 5.0, 2.5, 1.0\n",
    "4. Dla jakiego learning_rate osiągamy najlepszą dokladnosc na (toy_test, toy_y_test)?\n",
    "\n",
    "Co powinno wyjść dla odpowiednio 5.0 oraz 2.5\n",
    "\n",
    "<img width=200 src=\"figures/L9/lr5.png\">\n",
    "<img width=200 src=\"figures/L9/lr2.5.png\">\n",
    "\n",
    "Uwaga: Należy uśredniać gradient w funkcji \"gradient\", dziękujemy za zauważenie błędu Krzysztofowi Paskowi."
   ]
  },
  {
   "cell_type": "code",
   "execution_count": 125,
   "metadata": {
    "collapsed": false
   },
   "outputs": [
    {
     "name": "stdout",
     "output_type": "stream",
     "text": [
      "[ 0.00808474 -0.0017665 ]\n",
      "[ 0.00807906 -0.00176525]\n",
      "[ 0.00807342 -0.00176402]\n",
      "[ 0.00806785 -0.0017628 ]\n",
      "[ 0.00806233 -0.0017616 ]\n",
      "[ 0.00805686 -0.0017604 ]\n",
      "[ 0.00805146 -0.00175922]\n",
      "[ 0.00804613 -0.00175806]\n",
      "[ 0.00804085 -0.0017569 ]\n",
      "[ 0.00803564 -0.00175577]\n"
     ]
    }
   ],
   "source": [
    "def gradient(w, x, t):\n",
    "    f = np.vectorize(lambda x: 1/float(1+np.exp(-x)))\n",
    "    a = f(x.dot(w.T)) - t\n",
    "    r=[1,1]\n",
    "    r[0] = np.multiply(x[:,0], a).mean()\n",
    "    r[1] = np.multiply(x[:,1], a).mean()\n",
    "    return np.array(r)\n",
    "def delta_w(w_k, x, t, learning_rate):\n",
    "    grad = gradient(w_k, x, t)\n",
    "    print grad * learning_rate\n",
    "    return grad * learning_rate\n",
    "        \n",
    "\n",
    "# Parametry uczenia \n",
    "w = np.asmatrix([-4, -2])\n",
    "learning_rate = 2.5\n",
    "\n",
    "# Uczenie\n",
    "nb_of_iterations = 10\n",
    "w_iter = [w] \n",
    "for i in range(nb_of_iterations):\n",
    "    dw = delta_w(w, toy_train, toy_y_train, learning_rate) \n",
    "    w = w - dw \n",
    "    w_iter.append(w)"
   ]
  },
  {
   "cell_type": "code",
   "execution_count": 126,
   "metadata": {
    "collapsed": false
   },
   "outputs": [
    {
     "name": "stdout",
     "output_type": "stream",
     "text": [
      "[matrix([[-4, -2]]), matrix([[-4.00808474, -1.9982335 ]]), matrix([[-4.0161638 , -1.99646825]]), matrix([[-4.02423722, -1.99470423]]), matrix([[-4.03230507, -1.99294143]]), matrix([[-4.0403674 , -1.99117983]]), matrix([[-4.04842426, -1.98941943]]), matrix([[-4.05647572, -1.9876602 ]]), matrix([[-4.06452185, -1.98590215]]), matrix([[-4.0725627 , -1.98414524]]), matrix([[-4.08059834, -1.98238948]])]\n"
     ]
    },
    {
     "data": {
      "image/png": "[encoded data removed]",
      "text/plain": [
       "<matplotlib.figure.Figure at 0x11ba07cd0>"
      ]
     },
     "metadata": {},
     "output_type": "display_data"
    }
   ],
   "source": [
    "# Plot the first weight updates on the error surface\n",
    "# Plot the error surface\n",
    "plt.contourf(ws_x, ws_y, cost_ws, 20, alpha=0.9, cmap=cm.pink)\n",
    "cbar = plt.colorbar()\n",
    "cbar.ax.set_ylabel('cost')\n",
    "print w_iter\n",
    "# Plot the updates\n",
    "for i in range(1, 4): \n",
    "    w1 = w_iter[i-1]\n",
    "    w2 = w_iter[i]\n",
    "    # Plot the weight-cost value and the line that represents the update\n",
    "    plt.plot(w1[0,0], w1[0,1], 'bo')  # Plot the weight cost value\n",
    "    plt.plot([w1[0,0], w2[0,0]], [w1[0,1], w2[0,1]], 'b-')\n",
    "    plt.text(w1[0,0]-0.2, w1[0,1]+0.4, '$w({})$'.format(i), color='b')\n",
    "w1 = w_iter[3]  \n",
    "# Plot the last weight\n",
    "\n",
    "plt.plot(w1[0,0], w1[0,1], 'bo')\n",
    "plt.text(w1[0,0]-0.2, w1[0,1]+0.4, '$w({})$'.format(4), color='b') \n",
    "# Show figure\n",
    "plt.xlabel('$w_1$', fontsize=15)\n",
    "plt.ylabel('$w_2$', fontsize=15)\n",
    "plt.title('Gradient descent updates on cost surface')\n",
    "plt.grid()\n",
    "plt.show()"
   ]
  },
  {
   "cell_type": "code",
   "execution_count": null,
   "metadata": {
    "collapsed": true
   },
   "outputs": [],
   "source": []
  },
  {
   "cell_type": "code",
   "execution_count": null,
   "metadata": {
    "collapsed": true
   },
   "outputs": [],
   "source": []
  },
  {
   "cell_type": "code",
   "execution_count": null,
   "metadata": {
    "collapsed": true
   },
   "outputs": [],
   "source": []
  },
  {
   "cell_type": "markdown",
   "metadata": {},
   "source": [
    "# keras\n",
    "\n",
    "Sieci neuronowe definiujemy prawie tak prosto jak funkcje w Pythonie, a pochodne (to co liczyłem na tablicy) powinien nam liczyć komputer!"
   ]
  },
  {
   "cell_type": "code",
   "execution_count": 52,
   "metadata": {
    "collapsed": false
   },
   "outputs": [
    {
     "name": "stdout",
     "output_type": "stream",
     "text": [
      "(2, 'dims')\n",
      "(2, 'classes')\n"
     ]
    }
   ],
   "source": [
    "dims = toy_train.shape[1]\n",
    "print(dims, 'dims')\n",
    "nb_classes = toy_y_train_one_hot.shape[1]\n",
    "print(nb_classes, 'classes')\n",
    "# print toy_train, toy_y_train_one_hot"
   ]
  },
  {
   "cell_type": "code",
   "execution_count": 103,
   "metadata": {
    "collapsed": false
   },
   "outputs": [
    {
     "name": "stdout",
     "output_type": "stream",
     "text": [
      "Epoch 1/30\n",
      "30/30 [==============================] - 0s - loss: 0.7353\n",
      "Epoch 2/30\n",
      "30/30 [==============================] - 0s - loss: 0.7813\n",
      "Epoch 3/30\n",
      "30/30 [==============================] - 0s - loss: 0.5726\n",
      "Epoch 4/30\n",
      "30/30 [==============================] - 0s - loss: 0.5161\n",
      "Epoch 5/30\n",
      "30/30 [==============================] - 0s - loss: 0.4927\n",
      "Epoch 6/30\n",
      "30/30 [==============================] - 0s - loss: 0.4789\n",
      "Epoch 7/30\n",
      "30/30 [==============================] - 0s - loss: 0.4681\n",
      "Epoch 8/30\n",
      "30/30 [==============================] - 0s - loss: 0.4587\n",
      "Epoch 9/30\n",
      "30/30 [==============================] - 0s - loss: 0.4502\n",
      "Epoch 10/30\n",
      "30/30 [==============================] - 0s - loss: 0.4423\n",
      "Epoch 11/30\n",
      "30/30 [==============================] - 0s - loss: 0.4350\n",
      "Epoch 12/30\n",
      "30/30 [==============================] - 0s - loss: 0.4280\n",
      "Epoch 13/30\n",
      "30/30 [==============================] - 0s - loss: 0.4214\n",
      "Epoch 14/30\n",
      "30/30 [==============================] - 0s - loss: 0.4150\n",
      "Epoch 15/30\n",
      "30/30 [==============================] - 0s - loss: 0.4089\n",
      "Epoch 16/30\n",
      "30/30 [==============================] - 0s - loss: 0.4031\n",
      "Epoch 17/30\n",
      "30/30 [==============================] - 0s - loss: 0.3975\n",
      "Epoch 18/30\n",
      "30/30 [==============================] - 0s - loss: 0.3921\n",
      "Epoch 19/30\n",
      "30/30 [==============================] - 0s - loss: 0.3869\n",
      "Epoch 20/30\n",
      "30/30 [==============================] - 0s - loss: 0.3820\n",
      "Epoch 21/30\n",
      "30/30 [==============================] - 0s - loss: 0.3783\n",
      "Epoch 22/30\n",
      "30/30 [==============================] - 0s - loss: 0.3771\n",
      "Epoch 23/30\n",
      "30/30 [==============================] - 0s - loss: 0.3862\n",
      "Epoch 24/30\n",
      "30/30 [==============================] - 0s - loss: 0.4089\n",
      "Epoch 25/30\n",
      "30/30 [==============================] - 0s - loss: 0.4055\n",
      "Epoch 26/30\n",
      "30/30 [==============================] - 0s - loss: 0.3895\n",
      "Epoch 27/30\n",
      "30/30 [==============================] - 0s - loss: 0.3664\n",
      "Epoch 28/30\n",
      "30/30 [==============================] - 0s - loss: 0.3579\n",
      "Epoch 29/30\n",
      "30/30 [==============================] - 0s - loss: 0.3517\n",
      "Epoch 30/30\n",
      "30/30 [==============================] - 0s - loss: 0.3480\n",
      "0.833333333333\n",
      "0.633333333333\n"
     ]
    }
   ],
   "source": [
    "import keras\n",
    "from keras.datasets import mnist\n",
    "from keras.models import Sequential\n",
    "from keras.layers import Dense, Dropout, Flatten\n",
    "from keras.layers import Convolution2D, MaxPooling2D\n",
    "from keras import backend as K\n",
    "# 1. Definicja modelu\n",
    "model = Sequential()\n",
    "model.add(Dense(1000, kernel_initializer='glorot_uniform',input_shape=(dims,), activation='relu'))\n",
    "model.add(Dense(500,input_shape=(dims,), activation='sigmoid'))\n",
    "model.add(Dense(2))\n",
    "model.add(Activation('softmax'))\n",
    "\n",
    "\n",
    "# 2. Kompilacja\n",
    "# model.compile(optimizer=Adam(lr=0.05), loss='categorical_crossentropy')\n",
    "model.compile(optimizer='rmsprop', loss='categorical_crossentropy')\n",
    "\n",
    "# 3. Uczenie\n",
    "model.fit(toy_train[:30], toy_y_train_one_hot[:30], epochs=30)\n",
    "\n",
    "# 4. Predykcja\n",
    "toy_y_pred = model.predict(toy_test).argmax(axis=1)\n",
    "toy_y_train_pred = model.predict(toy_train[:30]).argmax(axis=1)\n",
    "# print model.layers[0].trainable_weights[0].get_value()\n",
    "print np.mean(toy_y_train[:30].reshape(-1,) == toy_y_train_pred)\n",
    "print np.mean(toy_y_test.reshape(-1,) == toy_y_pred)"
   ]
  },
  {
   "cell_type": "markdown",
   "metadata": {},
   "source": [
    "## Zadanie 2, Proste modyfikacje [2pkt]\n",
    "\n",
    "\n",
    "1. (1pkt) Zmodyfikuj powyższą sieć tak aby osiągnęła min. 95% na zmniejszonym do 30 przykładów zbiorze trenującym w rozważanym datasecie. Odpowiedz na pytania:\n",
    "   * Czy ten model osiąga lepszy wynik na zbiorze testowym niż regresja logistyczna?\n",
    "   * Czy można osiągnąć lepszy wynik na tym zbiorze danych, nawet jeśli posiadalibyśmy nieskończoną próbkę danych?\n",
    "2. (1pkt) Naucz 2 warstwową sieć na smallMNIST. Czy dla jakiegoś rozmiaru ukrytej warstwy osiąga lepszy wynik niż regresja logistyczna"
   ]
  },
  {
   "cell_type": "markdown",
   "metadata": {},
   "source": [
    "# Inne sieci neuronowe\n",
    "\n",
    "Najprostsze co możemy zrobić to dodać warstwy. Po co omówimy w następnym rozdziale.\n",
    "\n",
    "<img width=600 src=\"figures/L9/zoo.jpg\">"
   ]
  },
  {
   "cell_type": "markdown",
   "metadata": {},
   "source": [
    "# Znaczenie reprezentacji, kNN"
   ]
  },
  {
   "cell_type": "markdown",
   "metadata": {},
   "source": [
    "Najproszym argumentem po co te sieci jest możliwość uczenia się lepszych reprezentacji niż pixele, czy ręczne cechy w zbiorze danych breast cancer. Omówimy to na przykładzie zbiorów danych: iris i MNIST oraz klasyczngo modelu kNN."
   ]
  },
  {
   "cell_type": "markdown",
   "metadata": {},
   "source": [
    "Uruchomimy najpierw model kNN na danych iris\n",
    "\n",
    "<img width=600 src=\"https://sebastianraschka.com/images/blog/2015/principal_component_analysis_files/iris.png\">"
   ]
  },
  {
   "cell_type": "code",
   "execution_count": null,
   "metadata": {
    "collapsed": true
   },
   "outputs": [],
   "source": [
    "iris = load_iris()\n",
    "X_train, X_test, y_train, y_test = train_test_split(iris['data'], iris['target'], test_size=0.15)"
   ]
  },
  {
   "cell_type": "code",
   "execution_count": null,
   "metadata": {
    "collapsed": false
   },
   "outputs": [],
   "source": [
    "plt.scatter(iris.data[iris['target']==0, 0], iris.data[iris['target']==0, 1], color='r')\n",
    "plt.scatter(iris.data[iris['target']==1, 0], iris.data[iris['target']==1, 1], color='g')\n",
    "plt.scatter(iris.data[iris['target']==2, 0], iris.data[iris['target']==2, 1], color='b')\n",
    "plt.xlabel(iris['feature_names'][0])\n",
    "plt.ylabel(iris['feature_names'][1])"
   ]
  },
  {
   "cell_type": "code",
   "execution_count": null,
   "metadata": {
    "collapsed": true
   },
   "outputs": [],
   "source": [
    "def knn_pred(x, x_train, y_train):\n",
    "    current_best = -1, 100000\n",
    "    for id in range(len(x_train)):\n",
    "        dist = np.linalg.norm(x - x_train[id])\n",
    "        if dist < current_best[1]:\n",
    "            current_best = (id, dist)\n",
    "    return y_train[current_best[0]]"
   ]
  },
  {
   "cell_type": "markdown",
   "metadata": {},
   "source": [
    "## kNN na Iris"
   ]
  },
  {
   "cell_type": "code",
   "execution_count": null,
   "metadata": {
    "collapsed": false
   },
   "outputs": [],
   "source": [
    "iris = load_iris()\n",
    "X_train, X_test, y_train, y_test = train_test_split(iris['data'], iris['target'], test_size=0.15)"
   ]
  },
  {
   "cell_type": "code",
   "execution_count": null,
   "metadata": {
    "collapsed": false
   },
   "outputs": [],
   "source": [
    "Y_test_pred = []\n",
    "for x in tqdm.tqdm(X_test, total=len(X_test)):\n",
    "    Y_test_pred.append(knn_pred(x, X_train, y_train))\n",
    "print str(int(100*np.mean(np.array(Y_test_pred) == y_test))),\"%\""
   ]
  },
  {
   "cell_type": "markdown",
   "metadata": {},
   "source": [
    "## small MNIST\n",
    "\n",
    "Na Iris nasz prosty model osiąga 91%. Co sie dzieje na small MNIST?"
   ]
  },
  {
   "cell_type": "code",
   "execution_count": null,
   "metadata": {
    "collapsed": false
   },
   "outputs": [],
   "source": [
    "Y_test_pred = []\n",
    "for x in tqdm.tqdm(sm_test, total=len(sm_test)):\n",
    "    Y_test_pred.append(knn_pred(x, x_train=sm_train, y_train=sm_y_train))\n",
    "print str(int(100*np.mean(np.array(Y_test_pred) == sm_y_test))),\"%\""
   ]
  },
  {
   "cell_type": "markdown",
   "metadata": {},
   "source": [
    "## Co sie stalo"
   ]
  },
  {
   "cell_type": "code",
   "execution_count": null,
   "metadata": {
    "collapsed": false
   },
   "outputs": [],
   "source": [
    "id_test = 15\n",
    "plt.figure(figsize=(5, 5))\n",
    "plt.suptitle(\"Pytanie\")\n",
    "plt.imshow(sm_test[id_test].reshape(28, 28), cmap=plt.cm.gray)"
   ]
  },
  {
   "cell_type": "code",
   "execution_count": null,
   "metadata": {
    "collapsed": false
   },
   "outputs": [],
   "source": [
    "all_dists = [np.linalg.norm(sm_test[id_test].reshape(-1,) - x) for x in sm_train]\n",
    "all_dists = np.argsort(all_dists)\n",
    "\n",
    "f, ax = plt.subplots(1, 3, figsize=(30, 10))\n",
    "\n",
    "for id, i in enumerate(all_dists[0:3]):\n",
    "    ax[id].imshow(sm_train[all_dists[id]].reshape(28, 28), cmap=plt.cm.gray)"
   ]
  },
  {
   "cell_type": "markdown",
   "metadata": {},
   "source": [
    "## Nauka reprezentacji\n",
    "\n",
    "Ref: http://colah.github.io/posts/2014-10-Visualizing-MNIST/\n",
    "\n",
    "Czlowiek uczy się reprezentacji - widzimy na poziomie krawędzi i kształtów, a nie pixeli!\n",
    "\n",
    "<img width=500 src=\"figures/L9/cat_experiment_no_reference.png\">\n",
    "\n",
    "Zastanówmy się wspólnie jaka reprezentacja byłaby fajna? Główna idea Representation Learning, może będzie o tym więcej wkrótce:\n",
    "\n",
    "<img width=600 src=\"figures/L9/autoencoder_schema.jpg\">\n",
    "\n",
    "### PCA\n",
    "\n",
    "Na obecną chwilę użyjemy PCA, o którym prawdopodobnie będzie dużo więcej w przyszłości. \n",
    "\n",
    "<img src=\"figures/L9/pca.png\">\n",
    "\n",
    "(ilustracja pochodzi z tutorialu na temat PCA oraz ICA w sklearn, http://scikit-learn.org/stable/auto_examples/decomposition/plot_ica_vs_pca.html#sphx-glr-auto-examples-decomposition-plot-ica-vs-pca-py)"
   ]
  },
  {
   "cell_type": "code",
   "execution_count": null,
   "metadata": {
    "collapsed": false
   },
   "outputs": [],
   "source": [
    "pca = RandomizedPCA(n_components=8, iterated_power=15, whiten=True)\n",
    "fig, plot = plt.subplots()\n",
    "fig.set_size_inches(8, 8)\n",
    "plt.prism()\n",
    "\n",
    "X_transformed = pca.fit_transform(mnist_x_train.reshape(mnist_x_train.shape[0], -1))\n",
    "plot.scatter(X_transformed[:, 0], X_transformed[:, 1], c=mnist_y_train)\n",
    "plot.set_xticks(())\n",
    "plot.set_yticks(())"
   ]
  },
  {
   "cell_type": "code",
   "execution_count": null,
   "metadata": {
    "collapsed": false
   },
   "outputs": [],
   "source": [
    "plt.figure(figsize=(20, 8 * 20))\n",
    "plt.imshow(pca.components_.reshape((8 * 28, 28)).T, cmap=\"gray\")"
   ]
  },
  {
   "cell_type": "markdown",
   "metadata": {},
   "source": [
    "W przypadku twarzy PCA znajdzie bardzo ciekawy zestaw \"cech\", czy \"wektorów bazowych\":\n",
    "\n",
    "<img width=400 src=\"figures/L9/eigenfaces.png\">"
   ]
  },
  {
   "cell_type": "markdown",
   "metadata": {},
   "source": [
    "## Zadanie 3, czy cechy pomagają w kNN [1pkt]\n",
    "\n",
    "1. Naucz PCA jedynie na cyfrach 5 i załącz analogiczny plot jak powyżej\n",
    "\n",
    "2. Użyj nauczonych cech (na całym zbiorze mnist) przez PCA do klasyfikacji kNN na zbiorze small MNIST. Jaki można osiągnąć wynik? Użyj KNeighborsClassifier z pakietu sklearn. Dopasuj parametry PCA oraz tak KNeighborsClassifier aby osiągnąć najlepszy wynik na zbiorze sm_test, wymagany jest wynik powyżej 80% na zbiorze testowym."
   ]
  },
  {
   "cell_type": "code",
   "execution_count": 55,
   "metadata": {
    "collapsed": false
   },
   "outputs": [
    {
     "name": "stderr",
     "output_type": "stream",
     "text": [
      "/Users/dominikolczyk/anaconda2/lib/python2.7/site-packages/sklearn/utils/deprecation.py:52: DeprecationWarning: Class RandomizedPCA is deprecated; RandomizedPCA was deprecated in 0.18 and will be removed in 0.20. Use PCA(svd_solver='randomized') instead. The new implementation DOES NOT store whiten ``components_``. Apply transform to get them.\n",
      "  warnings.warn(msg, category=DeprecationWarning)\n"
     ]
    },
    {
     "data": {
      "text/plain": [
       "<matplotlib.image.AxesImage at 0x11919be90>"
      ]
     },
     "execution_count": 55,
     "metadata": {},
     "output_type": "execute_result"
    },
    {
     "data": {
      "image/png": "[encoded data removed]",
      "text/plain": [
       "<matplotlib.figure.Figure at 0x119eede90>"
      ]
     },
     "metadata": {},
     "output_type": "display_data"
    }
   ],
   "source": [
    "pca = RandomizedPCA(n_components=8, whiten=True)\n",
    "mnist_5 = mnist_x_train[mnist_y_train==5]\n",
    "\n",
    "X_transformed = pca.fit_transform(mnist_5.reshape(mnist_5.shape[0], -1))\n",
    "plt.imshow(pca.components_.reshape((8 * 28, 28)), cmap=\"gray\")"
   ]
  },
  {
   "cell_type": "code",
   "execution_count": 56,
   "metadata": {
    "collapsed": false
   },
   "outputs": [
    {
     "name": "stdout",
     "output_type": "stream",
     "text": [
      "(500, 784)\n",
      "(500,)\n"
     ]
    },
    {
     "data": {
      "text/plain": [
       "KNeighborsClassifier(algorithm='auto', leaf_size=30, metric='minkowski',\n",
       "           metric_params=None, n_jobs=1, n_neighbors=5, p=2,\n",
       "           weights='uniform')"
      ]
     },
     "execution_count": 56,
     "metadata": {},
     "output_type": "execute_result"
    }
   ],
   "source": [
    "from sklearn.neighbors import KNeighborsClassifier\n",
    "clas = KNeighborsClassifier()\n",
    "# clas = KNeighborsClassifier()\n",
    "print sm_train.shape\n",
    "print sm_y_train.shape\n",
    "clas.fit(sm_train, sm_y_train)"
   ]
  },
  {
   "cell_type": "code",
   "execution_count": null,
   "metadata": {
    "collapsed": false
   },
   "outputs": [],
   "source": [
    "print sm_train.shape\n",
    "pred_train = clas.predict(sm_train)\n",
    "print pred_train\n",
    "print 'train: ', accuracy_score(sm_y_train, pred_train)\n",
    "\n",
    "pred_test = clas.predict(sm_test)\n",
    "print 'test: ', accuracy_score(sm_y_test, pred_test)"
   ]
  }
 ],
 "metadata": {
  "kernelspec": {
   "display_name": "Python 2",
   "language": "python",
   "name": "python2"
  },
  "language_info": {
   "codemirror_mode": {
    "name": "ipython",
    "version": 2
   },
   "file_extension": ".py",
   "mimetype": "text/x-python",
   "name": "python",
   "nbconvert_exporter": "python",
   "pygments_lexer": "ipython2",
   "version": "2.7.13"
  },
  "toc": {
   "toc_cell": false,
   "toc_number_sections": true,
   "toc_threshold": 6,
   "toc_window_display": false
  }
 },
 "nbformat": 4,
 "nbformat_minor": 0
}
