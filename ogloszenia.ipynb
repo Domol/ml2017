{
 "cells": [
  {
   "cell_type": "markdown",
   "metadata": {},
   "source": [
    "# Seminaria\n",
    "\n",
    "1. Seminarium Zakładu Uczenia Maszynowego - czw. 14-16, sala 1146; seminarium katedralne, wstęp wyłącznie dla studentów, którzy piszą pracę licencjacką/magisterską pod kierunkiem pracownika Katedry Uczenia Maszynowego.\n",
    "2. Seminarium Zakładu Uczenia Maszynowego nr 2 - TBA; seminarium katedralne, wstęp wyłącznie dla studentów, którzy piszą pracę licencjacką/magisterską pod kierunkiem pracownika Katedry Uczenia Maszynowego.\n",
    "3. Seminarium Metody AI - śr. 10-12, sala 1146; dla wszystkich studentów.\n",
    "4. Seminarium \"Reinforcement Learning\" - pt. 10-12, sala 1146; seminarium głównie dla doktorantów, wstęp wolny dla zainteresowanych studentów.\n",
    "5. Machine Learning Study Group - śr. 18-20, sala 1162 (siedziba Naukowego Koła Robotyki); wspólne czytanie najnowszych paperów, wstęp wolny dla wszystkich (w tym sporo osób spoza UJ), bardzo polecam.\n",
    "6. Seminarium z AI safety - pn. 14:00-15:30, sala 0006; wspólne czytanie paperów (zaczynając od MIRI), wstęp wolny dla wszystkich.\n"
   ]
  },
  {
   "cell_type": "markdown",
   "metadata": {},
   "source": [
    "# Tutoriale\n",
    "1. Ćwiczenia z numpy: https://github.com/Kyubyong/numpy_exercises (poleca Michał Soboszek).\n",
    "2. Bayes dla informatyków: http://camdavidsonpilon.github.io/Probabilistic-Programming-and-Bayesian-Methods-for-Hackers/ (szczególnie chapter 1 jako uzupełnienie drugich ćwiczeń).\n",
    "3. Kurs Deep Learningu z Oxfordu https://www.cs.ox.ac.uk/people/nando.defreitas/machinelearning/\n",
    "4. Ćwiczenia z Kalmana / wyjaśnienie gaussa: https://github.com/rlabbe/Kalman-and-Bayesian-Filters-in-Python (poleca Michał Soboszek)."
   ]
  },
  {
   "cell_type": "markdown",
   "metadata": {},
   "source": [
    "# Egzamin\n",
    "\n",
    "Egzamin odbędzie się 21.06, 12:00 w 1177."
   ]
  },
  {
   "cell_type": "markdown",
   "metadata": {},
   "source": [
    "# Zasady zaliczenia"
   ]
  },
  {
   "cell_type": "markdown",
   "metadata": {},
   "source": [
    "Niech C - suma możliwych punktów do uzyskania z zadań na ćwiczeniach (L1 do L11), E - suma możliwych punktów do uzyskania z egzaminu, c - uzyskane punkty z ćwiczeń, e - uzyskane punkty z egzaminu.\n",
    "\n",
    "* Ostateczna ocena jest wyliczana tradycyjnymi progami z 0.5 * c/C + 0.5 * e/E\n",
    "* Zwolnienie od 0.92 * C\n",
    "\n",
    "## Grupa Damiana\n",
    "\n",
    "* Projekt na *dodatkowe* 0.2 * C. Maksymalnie z ćwiczeń można uzyskać 1.2 * C (dodatkowe punkty doliczają się do punktów z egzaminu)\n",
    "* Można oddawać zadania bez straty punktów do 3 dni po 24:00, 25.06. Dla osób chcących uzyskać zwolnienie zadania należy wysłać do 18.06 (i wysłać maila z informacją)\n",
    "\n",
    "## Grupy Staszka\n",
    "\n",
    "* Projekt za 0.35 * C\n",
    "* Punkty z ćwiczeń mnożone przez 0.85 (aby uzyskać 100% z ćwiczeń należy zrobić projekt na minimum 0.15*C)\n",
    "* Nie można oddawać zaległych zadań"
   ]
  },
  {
   "cell_type": "markdown",
   "metadata": {},
   "source": [
    "# Linki do dokumentacji\n",
    "1. scikit-learn: http://scikit-learn.org/stable/modules/classes.html"
   ]
  }
 ],
 "metadata": {
  "kernelspec": {
   "display_name": "Python 2",
   "language": "python",
   "name": "python2"
  },
  "language_info": {
   "codemirror_mode": {
    "name": "ipython",
    "version": 2
   },
   "file_extension": ".py",
   "mimetype": "text/x-python",
   "name": "python",
   "nbconvert_exporter": "python",
   "pygments_lexer": "ipython2",
   "version": "2.7.11"
  },
  "toc": {
   "toc_cell": false,
   "toc_number_sections": true,
   "toc_threshold": 6,
   "toc_window_display": false
  }
 },
 "nbformat": 4,
 "nbformat_minor": 2
}
